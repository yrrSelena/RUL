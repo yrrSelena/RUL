{
  "nbformat": 4,
  "nbformat_minor": 0,
  "metadata": {
    "colab": {
      "name": "LSTM_30.ipynb",
      "version": "0.3.2",
      "provenance": [],
      "include_colab_link": true
    },
    "kernelspec": {
      "name": "python3",
      "display_name": "Python 3"
    }
  },
  "cells": [
    {
      "cell_type": "markdown",
      "metadata": {
        "id": "view-in-github",
        "colab_type": "text"
      },
      "source": [
        "<a href=\"https://colab.research.google.com/github/yrrSelena/RUL/blob/master/LSTM_30.ipynb\" target=\"_parent\"><img src=\"https://colab.research.google.com/assets/colab-badge.svg\" alt=\"Open In Colab\"/></a>"
      ]
    },
    {
      "cell_type": "code",
      "metadata": {
        "id": "SIt_-AUzdQzJ",
        "colab_type": "code",
        "outputId": "7c0aa35f-238d-4f7d-9945-571e4a765e52",
        "colab": {
          "base_uri": "https://localhost:8080/",
          "height": 34
        }
      },
      "source": [
        "import keras\n",
        "import keras.backend as K\n",
        "from keras.layers.core import Activation\n",
        "from keras.models import Sequential,load_model\n",
        "from keras.layers import Dense, Dropout, LSTM\n",
        "\n",
        "import pandas as pd\n",
        "import numpy as np\n",
        "import matplotlib.pyplot as plt\n",
        "import os\n",
        "from sklearn import preprocessing"
      ],
      "execution_count": 1,
      "outputs": [
        {
          "output_type": "stream",
          "text": [
            "Using TensorFlow backend.\n"
          ],
          "name": "stderr"
        }
      ]
    },
    {
      "cell_type": "code",
      "metadata": {
        "id": "gvqDxLwudr2F",
        "colab_type": "code",
        "colab": {}
      },
      "source": [
        "# Setting seed for reproducibility\n",
        "np.random.seed(1234)  \n",
        "PYTHONHASHSEED = 0"
      ],
      "execution_count": 0,
      "outputs": []
    },
    {
      "cell_type": "markdown",
      "metadata": {
        "id": "YsWZ2xo9d9-r",
        "colab_type": "text"
      },
      "source": [
        "# 读取数据"
      ]
    },
    {
      "cell_type": "markdown",
      "metadata": {
        "id": "bgi2gbMIflE8",
        "colab_type": "text"
      },
      "source": [
        "## 设置常量参数"
      ]
    },
    {
      "cell_type": "code",
      "metadata": {
        "id": "ePC32-Hfflah",
        "colab_type": "code",
        "colab": {}
      },
      "source": [
        "train_file = 'train_FD001.txt'\n",
        "test_file = 'test_FD001.txt'\n",
        "test_rul_file = 'RUL_FD001.txt'\n",
        "n_ftrs = 26\n",
        "n_units = 100\n",
        "col_name = ['id', 'cycle', 'setting1', 'setting2', 'setting3', 's1', 's2', 's3',\n",
        "             's4', 's5', 's6', 's7', 's8', 's9', 's10', 's11', 's12', 's13', 's14',\n",
        "             's15', 's16', 's17', 's18', 's19', 's20', 's21']\n",
        "#ftr_col_name = col_name[5:]"
      ],
      "execution_count": 0,
      "outputs": []
    },
    {
      "cell_type": "code",
      "metadata": {
        "id": "H4DUwbtTH-5x",
        "colab_type": "code",
        "colab": {}
      },
      "source": [
        "train_df = pd.read_csv('TrainData_ewm.csv')\n",
        "test_df = pd.read_csv('TestData_ewm.csv')"
      ],
      "execution_count": 0,
      "outputs": []
    },
    {
      "cell_type": "code",
      "metadata": {
        "id": "_Ay6IR5IINcX",
        "colab_type": "code",
        "colab": {
          "base_uri": "https://localhost:8080/",
          "height": 224
        },
        "outputId": "fd6625f4-2113-4ec0-939f-52813e05e988"
      },
      "source": [
        "train_df.head()"
      ],
      "execution_count": 6,
      "outputs": [
        {
          "output_type": "execute_result",
          "data": {
            "text/html": [
              "<div>\n",
              "<style scoped>\n",
              "    .dataframe tbody tr th:only-of-type {\n",
              "        vertical-align: middle;\n",
              "    }\n",
              "\n",
              "    .dataframe tbody tr th {\n",
              "        vertical-align: top;\n",
              "    }\n",
              "\n",
              "    .dataframe thead th {\n",
              "        text-align: right;\n",
              "    }\n",
              "</style>\n",
              "<table border=\"1\" class=\"dataframe\">\n",
              "  <thead>\n",
              "    <tr style=\"text-align: right;\">\n",
              "      <th></th>\n",
              "      <th>RUL</th>\n",
              "      <th>cycle</th>\n",
              "      <th>cycle_norm</th>\n",
              "      <th>id</th>\n",
              "      <th>s11</th>\n",
              "      <th>s12</th>\n",
              "      <th>s13</th>\n",
              "      <th>s14</th>\n",
              "      <th>s15</th>\n",
              "      <th>s17</th>\n",
              "      <th>s2</th>\n",
              "      <th>s20</th>\n",
              "      <th>s21</th>\n",
              "      <th>s3</th>\n",
              "      <th>s4</th>\n",
              "      <th>s6</th>\n",
              "      <th>s7</th>\n",
              "      <th>s8</th>\n",
              "      <th>s9</th>\n",
              "      <th>setting1</th>\n",
              "      <th>setting2</th>\n",
              "    </tr>\n",
              "  </thead>\n",
              "  <tbody>\n",
              "    <tr>\n",
              "      <th>0</th>\n",
              "      <td>191</td>\n",
              "      <td>1</td>\n",
              "      <td>0.00000</td>\n",
              "      <td>1</td>\n",
              "      <td>0.425668</td>\n",
              "      <td>0.640978</td>\n",
              "      <td>0.231062</td>\n",
              "      <td>0.200888</td>\n",
              "      <td>0.446382</td>\n",
              "      <td>0.287032</td>\n",
              "      <td>0.152747</td>\n",
              "      <td>0.767506</td>\n",
              "      <td>0.768934</td>\n",
              "      <td>0.495953</td>\n",
              "      <td>0.307035</td>\n",
              "      <td>1.0</td>\n",
              "      <td>0.766807</td>\n",
              "      <td>0.361307</td>\n",
              "      <td>0.091366</td>\n",
              "      <td>0.459770</td>\n",
              "      <td>0.166667</td>\n",
              "    </tr>\n",
              "    <tr>\n",
              "      <th>1</th>\n",
              "      <td>190</td>\n",
              "      <td>2</td>\n",
              "      <td>0.00277</td>\n",
              "      <td>1</td>\n",
              "      <td>0.434339</td>\n",
              "      <td>0.741327</td>\n",
              "      <td>0.301665</td>\n",
              "      <td>0.177575</td>\n",
              "      <td>0.480236</td>\n",
              "      <td>0.287032</td>\n",
              "      <td>0.227676</td>\n",
              "      <td>0.730972</td>\n",
              "      <td>0.773978</td>\n",
              "      <td>0.530622</td>\n",
              "      <td>0.339481</td>\n",
              "      <td>1.0</td>\n",
              "      <td>0.689345</td>\n",
              "      <td>0.332918</td>\n",
              "      <td>0.085096</td>\n",
              "      <td>0.609195</td>\n",
              "      <td>0.250000</td>\n",
              "    </tr>\n",
              "    <tr>\n",
              "      <th>2</th>\n",
              "      <td>189</td>\n",
              "      <td>3</td>\n",
              "      <td>0.00554</td>\n",
              "      <td>1</td>\n",
              "      <td>0.367477</td>\n",
              "      <td>0.790895</td>\n",
              "      <td>0.283604</td>\n",
              "      <td>0.174066</td>\n",
              "      <td>0.463207</td>\n",
              "      <td>0.171647</td>\n",
              "      <td>0.285511</td>\n",
              "      <td>0.696703</td>\n",
              "      <td>0.712003</td>\n",
              "      <td>0.496246</td>\n",
              "      <td>0.360049</td>\n",
              "      <td>1.0</td>\n",
              "      <td>0.711203</td>\n",
              "      <td>0.365079</td>\n",
              "      <td>0.102209</td>\n",
              "      <td>0.252874</td>\n",
              "      <td>0.750000</td>\n",
              "    </tr>\n",
              "    <tr>\n",
              "      <th>3</th>\n",
              "      <td>188</td>\n",
              "      <td>4</td>\n",
              "      <td>0.00831</td>\n",
              "      <td>1</td>\n",
              "      <td>0.298350</td>\n",
              "      <td>0.857846</td>\n",
              "      <td>0.317044</td>\n",
              "      <td>0.173521</td>\n",
              "      <td>0.373086</td>\n",
              "      <td>0.209661</td>\n",
              "      <td>0.313856</td>\n",
              "      <td>0.654375</td>\n",
              "      <td>0.701137</td>\n",
              "      <td>0.428461</td>\n",
              "      <td>0.352301</td>\n",
              "      <td>1.0</td>\n",
              "      <td>0.736368</td>\n",
              "      <td>0.406349</td>\n",
              "      <td>0.104466</td>\n",
              "      <td>0.540230</td>\n",
              "      <td>0.500000</td>\n",
              "    </tr>\n",
              "    <tr>\n",
              "      <th>4</th>\n",
              "      <td>187</td>\n",
              "      <td>5</td>\n",
              "      <td>0.01108</td>\n",
              "      <td>1</td>\n",
              "      <td>0.291904</td>\n",
              "      <td>0.840364</td>\n",
              "      <td>0.307101</td>\n",
              "      <td>0.173151</td>\n",
              "      <td>0.408349</td>\n",
              "      <td>0.273072</td>\n",
              "      <td>0.332788</td>\n",
              "      <td>0.636001</td>\n",
              "      <td>0.712244</td>\n",
              "      <td>0.389367</td>\n",
              "      <td>0.376776</td>\n",
              "      <td>1.0</td>\n",
              "      <td>0.721245</td>\n",
              "      <td>0.393418</td>\n",
              "      <td>0.114538</td>\n",
              "      <td>0.390805</td>\n",
              "      <td>0.333333</td>\n",
              "    </tr>\n",
              "  </tbody>\n",
              "</table>\n",
              "</div>"
            ],
            "text/plain": [
              "   RUL  cycle  cycle_norm  id  ...        s8        s9  setting1  setting2\n",
              "0  191      1     0.00000   1  ...  0.361307  0.091366  0.459770  0.166667\n",
              "1  190      2     0.00277   1  ...  0.332918  0.085096  0.609195  0.250000\n",
              "2  189      3     0.00554   1  ...  0.365079  0.102209  0.252874  0.750000\n",
              "3  188      4     0.00831   1  ...  0.406349  0.104466  0.540230  0.500000\n",
              "4  187      5     0.01108   1  ...  0.393418  0.114538  0.390805  0.333333\n",
              "\n",
              "[5 rows x 21 columns]"
            ]
          },
          "metadata": {
            "tags": []
          },
          "execution_count": 6
        }
      ]
    },
    {
      "cell_type": "markdown",
      "metadata": {
        "id": "EXT_hoEXiXUb",
        "colab_type": "text"
      },
      "source": [
        "# 生成样本特征"
      ]
    },
    {
      "cell_type": "code",
      "metadata": {
        "id": "rzzUVlynif94",
        "colab_type": "code",
        "colab": {}
      },
      "source": [
        "sequence_length = 30 #设置时间窗口大小\n",
        "sequence_cols = list(train_df.columns.difference(['RUL','cycle','id'])) #设置特征(18)"
      ],
      "execution_count": 0,
      "outputs": []
    },
    {
      "cell_type": "code",
      "metadata": {
        "id": "-vw0Arlup7rk",
        "colab_type": "code",
        "outputId": "1eaf019e-4886-4c61-929c-6066456d0efe",
        "colab": {
          "base_uri": "https://localhost:8080/",
          "height": 34
        }
      },
      "source": [
        "len(sequence_cols)"
      ],
      "execution_count": 16,
      "outputs": [
        {
          "output_type": "execute_result",
          "data": {
            "text/plain": [
              "18"
            ]
          },
          "metadata": {
            "tags": []
          },
          "execution_count": 16
        }
      ]
    },
    {
      "cell_type": "code",
      "metadata": {
        "id": "b20ANWWMiKLF",
        "colab_type": "code",
        "colab": {}
      },
      "source": [
        "# pick a large window size of 50 cycles\n",
        "\n",
        "# function to reshape features into (samples, time steps, features) \n",
        "# 生成特征样本\n",
        "def gen_sequence(id_df, seq_length, seq_cols):\n",
        "    \"\"\" Only sequences that meet the window-length are considered, no padding is used. This means for testing\n",
        "    we need to drop those which are below the window-length. An alternative would be to pad sequences so that\n",
        "    we can use shorter ones \n",
        "    只有比时间窗口大的序列会被提取特征，若测试样本的时间序列过小，则被忽视。\n",
        "    另一种方法是对序列进行填充\n",
        "    \"\"\"\n",
        "    # for one id I put all the rows in a single matrix\n",
        "    data_matrix = id_df[seq_cols].values # 获得对应列的值\n",
        "    num_elements = data_matrix.shape[0]\n",
        "    # Iterate over two lists in parallel.\n",
        "    # For example id1 have 192 rows and sequence_length is equal to 50\n",
        "    # so zip iterate over two following list of numbers (0,142),(50,192)\n",
        "    # 0 50 -> from row 0 to row 50\n",
        "    # 1 51 -> from row 1 to row 51\n",
        "    # 2 52 -> from row 2 to row 52\n",
        "    # ...\n",
        "    # 141 191 -> from row 141 to 191\n",
        "    \n",
        "    # zip将数据打包为元组的列表\n",
        "    for start, stop in zip(range(0, num_elements-seq_length), range(seq_length, num_elements)):\n",
        "        yield data_matrix[start:stop, :] #yield 相当于返回\n",
        "        "
      ],
      "execution_count": 0,
      "outputs": []
    },
    {
      "cell_type": "code",
      "metadata": {
        "id": "DEeBufZ-o0Y2",
        "colab_type": "code",
        "outputId": "d164d2f2-7155-4477-9cd4-1c6836766b81",
        "colab": {
          "base_uri": "https://localhost:8080/",
          "height": 34
        }
      },
      "source": [
        "# TODO for debug \n",
        "# 样例测试\n",
        "# val is a list of 192 - 50 = 142 bi-dimensional array (50 rows x 18 columns)\n",
        "val=list(gen_sequence(train_df[train_df['id']==1], sequence_length, sequence_cols))\n",
        "print(len(val))"
      ],
      "execution_count": 0,
      "outputs": [
        {
          "output_type": "stream",
          "text": [
            "142\n"
          ],
          "name": "stdout"
        }
      ]
    },
    {
      "cell_type": "code",
      "metadata": {
        "id": "19JiSKmEo7Nc",
        "colab_type": "code",
        "colab": {}
      },
      "source": [
        "# 对每个发动机生成训练样本\n",
        "# generator for the sequences\n",
        "# transform each id of the train dataset in a sequence\n",
        "seq_gen = (list(gen_sequence(train_df[train_df['id']==id], sequence_length, sequence_cols)) \n",
        "           for id in train_df['id'].unique())"
      ],
      "execution_count": 0,
      "outputs": []
    },
    {
      "cell_type": "code",
      "metadata": {
        "id": "7csjFBDlpqVT",
        "colab_type": "code",
        "outputId": "70bc3c3f-ae4e-4d69-9234-6808e50b8f8a",
        "colab": {
          "base_uri": "https://localhost:8080/",
          "height": 34
        }
      },
      "source": [
        "# generate sequences and convert to numpy array\n",
        "seq_array = np.concatenate(list(seq_gen)).astype(np.float32)\n",
        "print(seq_array.shape)"
      ],
      "execution_count": 23,
      "outputs": [
        {
          "output_type": "stream",
          "text": [
            "(17631, 30, 18)\n"
          ],
          "name": "stdout"
        }
      ]
    },
    {
      "cell_type": "code",
      "metadata": {
        "id": "r3C0otTnJPfX",
        "colab_type": "code",
        "colab": {
          "base_uri": "https://localhost:8080/",
          "height": 34
        },
        "outputId": "e93d648d-cd93-4de0-f1a5-ea317ebab400"
      },
      "source": [
        "seq_array = seq_array.reshape((seq_array.shape[0],-1))\n",
        "seq_array.shape"
      ],
      "execution_count": 24,
      "outputs": [
        {
          "output_type": "execute_result",
          "data": {
            "text/plain": [
              "(17631, 540)"
            ]
          },
          "metadata": {
            "tags": []
          },
          "execution_count": 24
        }
      ]
    },
    {
      "cell_type": "markdown",
      "metadata": {
        "id": "tfW-mfvPqZil",
        "colab_type": "text"
      },
      "source": [
        "# 生成样本标签"
      ]
    },
    {
      "cell_type": "code",
      "metadata": {
        "id": "bp9XaEZSpsWj",
        "colab_type": "code",
        "colab": {}
      },
      "source": [
        "# function to generate labels\n",
        "def gen_labels(id_df, seq_length, label):\n",
        "    \"\"\" Only sequences that meet the window-length are considered, no padding is used. This means for testing\n",
        "    we need to drop those which are below the window-length. An alternative would be to pad sequences so that\n",
        "    we can use shorter ones \"\"\"\n",
        "    # For one id I put all the labels in a single matrix.\n",
        "    # For example:\n",
        "    # [[1]\n",
        "    # [4]\n",
        "    # [1]\n",
        "    # [5]\n",
        "    # [9]\n",
        "    # ...\n",
        "    # [200]] \n",
        "    data_matrix = id_df[label].values\n",
        "    num_elements = data_matrix.shape[0]\n",
        "    # I have to remove the first seq_length labels\n",
        "    # because for one id the first sequence of seq_length size have as target\n",
        "    # the last label (the previus ones are discarded).\n",
        "    # All the next id's sequences will have associated step by step one label as target.\n",
        "    return data_matrix[seq_length:num_elements, :]"
      ],
      "execution_count": 0,
      "outputs": []
    },
    {
      "cell_type": "code",
      "metadata": {
        "id": "7gM8UsOqqcPf",
        "colab_type": "code",
        "outputId": "d4bf6523-a7a7-4451-92ee-ae75891bf69a",
        "colab": {
          "base_uri": "https://localhost:8080/",
          "height": 34
        }
      },
      "source": [
        "# generate labels\n",
        "label_gen = [gen_labels(train_df[train_df['id']==id], sequence_length, ['RUL']) \n",
        "             for id in train_df['id'].unique()]\n",
        "\n",
        "label_array = np.concatenate(label_gen).astype(np.float32)\n",
        "label_array.shape"
      ],
      "execution_count": 26,
      "outputs": [
        {
          "output_type": "execute_result",
          "data": {
            "text/plain": [
              "(17631, 1)"
            ]
          },
          "metadata": {
            "tags": []
          },
          "execution_count": 26
        }
      ]
    },
    {
      "cell_type": "code",
      "metadata": {
        "id": "2VrQpaRKPf7t",
        "colab_type": "code",
        "colab": {}
      },
      "source": [
        "# We pick the last sequence for each id in the test data\n",
        "seq_array_test_last = [test_df[test_df['id']==id][sequence_cols].values[-sequence_length:] \n",
        "                       for id in test_df['id'].unique() if len(test_df[test_df['id']==id]) >= sequence_length]\n",
        "\n",
        "seq_array_test_last = np.asarray(seq_array_test_last).astype(np.float32)\n",
        "seq_array_test_last = seq_array_test_last.reshape((seq_array_test_last.shape[0],-1))\n",
        "#print(\"seq_array_test_last\")\n",
        "#print(seq_array_test_last)\n",
        "#print(seq_array_test_last.shape)\n",
        "\n",
        "# Similarly, we pick the labels\n",
        "#print(\"y_mask\")\n",
        "y_mask = [len(test_df[test_df['id']==id]) >= sequence_length for id in test_df['id'].unique()]\n",
        "label_array_test_last = test_df.groupby('id')['RUL'].nth(-1)[y_mask].values\n",
        "label_array_test_last = label_array_test_last.reshape(label_array_test_last.shape[0],1).astype(np.float32)"
      ],
      "execution_count": 0,
      "outputs": []
    },
    {
      "cell_type": "code",
      "metadata": {
        "id": "wVBzG6-TbGak",
        "colab_type": "code",
        "colab": {}
      },
      "source": [
        "from sklearn.model_selection import cross_validate,learning_curve,GridSearchCV\n",
        "import time"
      ],
      "execution_count": 0,
      "outputs": []
    },
    {
      "cell_type": "code",
      "metadata": {
        "id": "dLcvYZnpCuG-",
        "colab_type": "code",
        "colab": {}
      },
      "source": [
        "X_train = seq_array\n",
        "y_train = label_array.ravel()\n",
        "X_test = seq_array_test_last\n",
        "y_test = label_array_test_last.ravel()"
      ],
      "execution_count": 0,
      "outputs": []
    },
    {
      "cell_type": "code",
      "metadata": {
        "id": "AUfG5CHTdp8C",
        "colab_type": "code",
        "outputId": "00eeabc3-cd87-445a-da5f-a6aa2d55d2da",
        "colab": {
          "base_uri": "https://localhost:8080/",
          "height": 34
        }
      },
      "source": [
        ""
      ],
      "execution_count": 0,
      "outputs": [
        {
          "output_type": "stream",
          "text": [
            "{'C': [0.1, 1, 5, 10], 'gamma': [0.1, 0.05, 0.01]}\n"
          ],
          "name": "stdout"
        }
      ]
    }
  ]
}