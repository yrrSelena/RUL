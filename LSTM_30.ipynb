{
  "nbformat": 4,
  "nbformat_minor": 0,
  "metadata": {
    "colab": {
      "name": "LSTM_30.ipynb",
      "version": "0.3.2",
      "provenance": [],
      "toc_visible": true,
      "include_colab_link": true
    },
    "kernelspec": {
      "name": "python3",
      "display_name": "Python 3"
    }
  },
  "cells": [
    {
      "cell_type": "markdown",
      "metadata": {
        "id": "view-in-github",
        "colab_type": "text"
      },
      "source": [
        "<a href=\"https://colab.research.google.com/github/yrrSelena/RUL/blob/master/LSTM_30.ipynb\" target=\"_parent\"><img src=\"https://colab.research.google.com/assets/colab-badge.svg\" alt=\"Open In Colab\"/></a>"
      ]
    },
    {
      "cell_type": "code",
      "metadata": {
        "id": "SIt_-AUzdQzJ",
        "colab_type": "code",
        "outputId": "7c0aa35f-238d-4f7d-9945-571e4a765e52",
        "colab": {
          "base_uri": "https://localhost:8080/",
          "height": 34
        }
      },
      "source": [
        "import keras\n",
        "import keras.backend as K\n",
        "from keras.layers.core import Activation\n",
        "from keras.models import Sequential,load_model\n",
        "from keras.layers import Dense, Dropout, LSTM\n",
        "\n",
        "import pandas as pd\n",
        "import numpy as np\n",
        "import matplotlib.pyplot as plt\n",
        "import os\n",
        "from sklearn import preprocessing"
      ],
      "execution_count": 1,
      "outputs": [
        {
          "output_type": "stream",
          "text": [
            "Using TensorFlow backend.\n"
          ],
          "name": "stderr"
        }
      ]
    },
    {
      "cell_type": "code",
      "metadata": {
        "id": "gvqDxLwudr2F",
        "colab_type": "code",
        "colab": {}
      },
      "source": [
        "# Setting seed for reproducibility\n",
        "np.random.seed(1234)  \n",
        "PYTHONHASHSEED = 0"
      ],
      "execution_count": 0,
      "outputs": []
    },
    {
      "cell_type": "markdown",
      "metadata": {
        "id": "YsWZ2xo9d9-r",
        "colab_type": "text"
      },
      "source": [
        "# 读取数据"
      ]
    },
    {
      "cell_type": "markdown",
      "metadata": {
        "id": "bgi2gbMIflE8",
        "colab_type": "text"
      },
      "source": [
        "## 设置常量参数"
      ]
    },
    {
      "cell_type": "code",
      "metadata": {
        "id": "ePC32-Hfflah",
        "colab_type": "code",
        "colab": {}
      },
      "source": [
        "train_file = 'train_FD001.txt'\n",
        "test_file = 'test_FD001.txt'\n",
        "test_rul_file = 'RUL_FD001.txt'\n",
        "n_ftrs = 26\n",
        "n_units = 100\n",
        "col_name = ['id', 'cycle', 'setting1', 'setting2', 'setting3', 's1', 's2', 's3',\n",
        "             's4', 's5', 's6', 's7', 's8', 's9', 's10', 's11', 's12', 's13', 's14',\n",
        "             's15', 's16', 's17', 's18', 's19', 's20', 's21']\n",
        "#ftr_col_name = col_name[5:]"
      ],
      "execution_count": 0,
      "outputs": []
    },
    {
      "cell_type": "code",
      "metadata": {
        "id": "H4DUwbtTH-5x",
        "colab_type": "code",
        "colab": {}
      },
      "source": [
        "train_df = pd.read_csv('TrainData_ewm.csv')\n",
        "test_df = pd.read_csv('TestData_ewm.csv')"
      ],
      "execution_count": 0,
      "outputs": []
    },
    {
      "cell_type": "code",
      "metadata": {
        "id": "_Ay6IR5IINcX",
        "colab_type": "code",
        "colab": {
          "base_uri": "https://localhost:8080/",
          "height": 224
        },
        "outputId": "fd6625f4-2113-4ec0-939f-52813e05e988"
      },
      "source": [
        "train_df.head()"
      ],
      "execution_count": 6,
      "outputs": [
        {
          "output_type": "execute_result",
          "data": {
            "text/html": [
              "<div>\n",
              "<style scoped>\n",
              "    .dataframe tbody tr th:only-of-type {\n",
              "        vertical-align: middle;\n",
              "    }\n",
              "\n",
              "    .dataframe tbody tr th {\n",
              "        vertical-align: top;\n",
              "    }\n",
              "\n",
              "    .dataframe thead th {\n",
              "        text-align: right;\n",
              "    }\n",
              "</style>\n",
              "<table border=\"1\" class=\"dataframe\">\n",
              "  <thead>\n",
              "    <tr style=\"text-align: right;\">\n",
              "      <th></th>\n",
              "      <th>RUL</th>\n",
              "      <th>cycle</th>\n",
              "      <th>cycle_norm</th>\n",
              "      <th>id</th>\n",
              "      <th>s11</th>\n",
              "      <th>s12</th>\n",
              "      <th>s13</th>\n",
              "      <th>s14</th>\n",
              "      <th>s15</th>\n",
              "      <th>s17</th>\n",
              "      <th>s2</th>\n",
              "      <th>s20</th>\n",
              "      <th>s21</th>\n",
              "      <th>s3</th>\n",
              "      <th>s4</th>\n",
              "      <th>s6</th>\n",
              "      <th>s7</th>\n",
              "      <th>s8</th>\n",
              "      <th>s9</th>\n",
              "      <th>setting1</th>\n",
              "      <th>setting2</th>\n",
              "    </tr>\n",
              "  </thead>\n",
              "  <tbody>\n",
              "    <tr>\n",
              "      <th>0</th>\n",
              "      <td>191</td>\n",
              "      <td>1</td>\n",
              "      <td>0.00000</td>\n",
              "      <td>1</td>\n",
              "      <td>0.425668</td>\n",
              "      <td>0.640978</td>\n",
              "      <td>0.231062</td>\n",
              "      <td>0.200888</td>\n",
              "      <td>0.446382</td>\n",
              "      <td>0.287032</td>\n",
              "      <td>0.152747</td>\n",
              "      <td>0.767506</td>\n",
              "      <td>0.768934</td>\n",
              "      <td>0.495953</td>\n",
              "      <td>0.307035</td>\n",
              "      <td>1.0</td>\n",
              "      <td>0.766807</td>\n",
              "      <td>0.361307</td>\n",
              "      <td>0.091366</td>\n",
              "      <td>0.459770</td>\n",
              "      <td>0.166667</td>\n",
              "    </tr>\n",
              "    <tr>\n",
              "      <th>1</th>\n",
              "      <td>190</td>\n",
              "      <td>2</td>\n",
              "      <td>0.00277</td>\n",
              "      <td>1</td>\n",
              "      <td>0.434339</td>\n",
              "      <td>0.741327</td>\n",
              "      <td>0.301665</td>\n",
              "      <td>0.177575</td>\n",
              "      <td>0.480236</td>\n",
              "      <td>0.287032</td>\n",
              "      <td>0.227676</td>\n",
              "      <td>0.730972</td>\n",
              "      <td>0.773978</td>\n",
              "      <td>0.530622</td>\n",
              "      <td>0.339481</td>\n",
              "      <td>1.0</td>\n",
              "      <td>0.689345</td>\n",
              "      <td>0.332918</td>\n",
              "      <td>0.085096</td>\n",
              "      <td>0.609195</td>\n",
              "      <td>0.250000</td>\n",
              "    </tr>\n",
              "    <tr>\n",
              "      <th>2</th>\n",
              "      <td>189</td>\n",
              "      <td>3</td>\n",
              "      <td>0.00554</td>\n",
              "      <td>1</td>\n",
              "      <td>0.367477</td>\n",
              "      <td>0.790895</td>\n",
              "      <td>0.283604</td>\n",
              "      <td>0.174066</td>\n",
              "      <td>0.463207</td>\n",
              "      <td>0.171647</td>\n",
              "      <td>0.285511</td>\n",
              "      <td>0.696703</td>\n",
              "      <td>0.712003</td>\n",
              "      <td>0.496246</td>\n",
              "      <td>0.360049</td>\n",
              "      <td>1.0</td>\n",
              "      <td>0.711203</td>\n",
              "      <td>0.365079</td>\n",
              "      <td>0.102209</td>\n",
              "      <td>0.252874</td>\n",
              "      <td>0.750000</td>\n",
              "    </tr>\n",
              "    <tr>\n",
              "      <th>3</th>\n",
              "      <td>188</td>\n",
              "      <td>4</td>\n",
              "      <td>0.00831</td>\n",
              "      <td>1</td>\n",
              "      <td>0.298350</td>\n",
              "      <td>0.857846</td>\n",
              "      <td>0.317044</td>\n",
              "      <td>0.173521</td>\n",
              "      <td>0.373086</td>\n",
              "      <td>0.209661</td>\n",
              "      <td>0.313856</td>\n",
              "      <td>0.654375</td>\n",
              "      <td>0.701137</td>\n",
              "      <td>0.428461</td>\n",
              "      <td>0.352301</td>\n",
              "      <td>1.0</td>\n",
              "      <td>0.736368</td>\n",
              "      <td>0.406349</td>\n",
              "      <td>0.104466</td>\n",
              "      <td>0.540230</td>\n",
              "      <td>0.500000</td>\n",
              "    </tr>\n",
              "    <tr>\n",
              "      <th>4</th>\n",
              "      <td>187</td>\n",
              "      <td>5</td>\n",
              "      <td>0.01108</td>\n",
              "      <td>1</td>\n",
              "      <td>0.291904</td>\n",
              "      <td>0.840364</td>\n",
              "      <td>0.307101</td>\n",
              "      <td>0.173151</td>\n",
              "      <td>0.408349</td>\n",
              "      <td>0.273072</td>\n",
              "      <td>0.332788</td>\n",
              "      <td>0.636001</td>\n",
              "      <td>0.712244</td>\n",
              "      <td>0.389367</td>\n",
              "      <td>0.376776</td>\n",
              "      <td>1.0</td>\n",
              "      <td>0.721245</td>\n",
              "      <td>0.393418</td>\n",
              "      <td>0.114538</td>\n",
              "      <td>0.390805</td>\n",
              "      <td>0.333333</td>\n",
              "    </tr>\n",
              "  </tbody>\n",
              "</table>\n",
              "</div>"
            ],
            "text/plain": [
              "   RUL  cycle  cycle_norm  id  ...        s8        s9  setting1  setting2\n",
              "0  191      1     0.00000   1  ...  0.361307  0.091366  0.459770  0.166667\n",
              "1  190      2     0.00277   1  ...  0.332918  0.085096  0.609195  0.250000\n",
              "2  189      3     0.00554   1  ...  0.365079  0.102209  0.252874  0.750000\n",
              "3  188      4     0.00831   1  ...  0.406349  0.104466  0.540230  0.500000\n",
              "4  187      5     0.01108   1  ...  0.393418  0.114538  0.390805  0.333333\n",
              "\n",
              "[5 rows x 21 columns]"
            ]
          },
          "metadata": {
            "tags": []
          },
          "execution_count": 6
        }
      ]
    },
    {
      "cell_type": "markdown",
      "metadata": {
        "id": "EXT_hoEXiXUb",
        "colab_type": "text"
      },
      "source": [
        "# 生成样本特征"
      ]
    },
    {
      "cell_type": "code",
      "metadata": {
        "id": "rzzUVlynif94",
        "colab_type": "code",
        "colab": {}
      },
      "source": [
        "sequence_length = 30 #设置时间窗口大小\n",
        "sequence_cols = list(train_df.columns.difference(['RUL','cycle','id'])) #设置特征(18)"
      ],
      "execution_count": 0,
      "outputs": []
    },
    {
      "cell_type": "code",
      "metadata": {
        "id": "-vw0Arlup7rk",
        "colab_type": "code",
        "outputId": "1eaf019e-4886-4c61-929c-6066456d0efe",
        "colab": {
          "base_uri": "https://localhost:8080/",
          "height": 34
        }
      },
      "source": [
        "len(sequence_cols)"
      ],
      "execution_count": 16,
      "outputs": [
        {
          "output_type": "execute_result",
          "data": {
            "text/plain": [
              "18"
            ]
          },
          "metadata": {
            "tags": []
          },
          "execution_count": 16
        }
      ]
    },
    {
      "cell_type": "code",
      "metadata": {
        "id": "b20ANWWMiKLF",
        "colab_type": "code",
        "colab": {}
      },
      "source": [
        "# pick a large window size of 50 cycles\n",
        "\n",
        "# function to reshape features into (samples, time steps, features) \n",
        "# 生成特征样本\n",
        "def gen_sequence(id_df, seq_length, seq_cols):\n",
        "    \"\"\" Only sequences that meet the window-length are considered, no padding is used. This means for testing\n",
        "    we need to drop those which are below the window-length. An alternative would be to pad sequences so that\n",
        "    we can use shorter ones \n",
        "    只有比时间窗口大的序列会被提取特征，若测试样本的时间序列过小，则被忽视。\n",
        "    另一种方法是对序列进行填充\n",
        "    \"\"\"\n",
        "    # for one id I put all the rows in a single matrix\n",
        "    data_matrix = id_df[seq_cols].values # 获得对应列的值\n",
        "    num_elements = data_matrix.shape[0]\n",
        "    # Iterate over two lists in parallel.\n",
        "    # For example id1 have 192 rows and sequence_length is equal to 50\n",
        "    # so zip iterate over two following list of numbers (0,142),(50,192)\n",
        "    # 0 50 -> from row 0 to row 50\n",
        "    # 1 51 -> from row 1 to row 51\n",
        "    # 2 52 -> from row 2 to row 52\n",
        "    # ...\n",
        "    # 141 191 -> from row 141 to 191\n",
        "    \n",
        "    # zip将数据打包为元组的列表\n",
        "    for start, stop in zip(range(0, num_elements-seq_length), range(seq_length, num_elements)):\n",
        "        yield data_matrix[start:stop, :] #yield 相当于返回\n",
        "        "
      ],
      "execution_count": 0,
      "outputs": []
    },
    {
      "cell_type": "code",
      "metadata": {
        "id": "DEeBufZ-o0Y2",
        "colab_type": "code",
        "outputId": "d164d2f2-7155-4477-9cd4-1c6836766b81",
        "colab": {
          "base_uri": "https://localhost:8080/",
          "height": 34
        }
      },
      "source": [
        "# TODO for debug \n",
        "# 样例测试\n",
        "# val is a list of 192 - 50 = 142 bi-dimensional array (50 rows x 18 columns)\n",
        "val=list(gen_sequence(train_df[train_df['id']==1], sequence_length, sequence_cols))\n",
        "print(len(val))"
      ],
      "execution_count": 0,
      "outputs": [
        {
          "output_type": "stream",
          "text": [
            "142\n"
          ],
          "name": "stdout"
        }
      ]
    },
    {
      "cell_type": "code",
      "metadata": {
        "id": "19JiSKmEo7Nc",
        "colab_type": "code",
        "colab": {
          "base_uri": "https://localhost:8080/",
          "height": 34
        },
        "outputId": "06bde057-a59f-49c4-d547-8dcf61ef2d1c"
      },
      "source": [
        "# 对每个发动机生成训练样本\n",
        "# generator for the sequences\n",
        "# transform each id of the train dataset in a sequence\n",
        "seq_gen = (list(gen_sequence(train_df[train_df['id']==id], sequence_length, sequence_cols)) \n",
        "           for id in train_df['id'].unique())\n",
        "# generate sequences and convert to numpy array\n",
        "seq_array = np.concatenate(list(seq_gen)).astype(np.float32)\n",
        "print(seq_array.shape)"
      ],
      "execution_count": 32,
      "outputs": [
        {
          "output_type": "stream",
          "text": [
            "(17631, 30, 18)\n"
          ],
          "name": "stdout"
        }
      ]
    },
    {
      "cell_type": "code",
      "metadata": {
        "id": "r3C0otTnJPfX",
        "colab_type": "code",
        "colab": {
          "base_uri": "https://localhost:8080/",
          "height": 34
        },
        "outputId": "e93d648d-cd93-4de0-f1a5-ea317ebab400"
      },
      "source": [
        "#seq_array = seq_array.reshape((seq_array.shape[0],-1))\n",
        "#seq_array.shape"
      ],
      "execution_count": 24,
      "outputs": [
        {
          "output_type": "execute_result",
          "data": {
            "text/plain": [
              "(17631, 540)"
            ]
          },
          "metadata": {
            "tags": []
          },
          "execution_count": 24
        }
      ]
    },
    {
      "cell_type": "markdown",
      "metadata": {
        "id": "tfW-mfvPqZil",
        "colab_type": "text"
      },
      "source": [
        "# 生成样本标签"
      ]
    },
    {
      "cell_type": "code",
      "metadata": {
        "id": "bp9XaEZSpsWj",
        "colab_type": "code",
        "colab": {}
      },
      "source": [
        "# function to generate labels\n",
        "def gen_labels(id_df, seq_length, label):\n",
        "    \"\"\" Only sequences that meet the window-length are considered, no padding is used. This means for testing\n",
        "    we need to drop those which are below the window-length. An alternative would be to pad sequences so that\n",
        "    we can use shorter ones \"\"\"\n",
        "    # For one id I put all the labels in a single matrix.\n",
        "    # For example:\n",
        "    # [[1]\n",
        "    # [4]\n",
        "    # [1]\n",
        "    # [5]\n",
        "    # [9]\n",
        "    # ...\n",
        "    # [200]] \n",
        "    data_matrix = id_df[label].values\n",
        "    num_elements = data_matrix.shape[0]\n",
        "    # I have to remove the first seq_length labels\n",
        "    # because for one id the first sequence of seq_length size have as target\n",
        "    # the last label (the previus ones are discarded).\n",
        "    # All the next id's sequences will have associated step by step one label as target.\n",
        "    return data_matrix[seq_length:num_elements, :]"
      ],
      "execution_count": 0,
      "outputs": []
    },
    {
      "cell_type": "code",
      "metadata": {
        "id": "7gM8UsOqqcPf",
        "colab_type": "code",
        "outputId": "d4bf6523-a7a7-4451-92ee-ae75891bf69a",
        "colab": {
          "base_uri": "https://localhost:8080/",
          "height": 34
        }
      },
      "source": [
        "# generate labels\n",
        "label_gen = [gen_labels(train_df[train_df['id']==id], sequence_length, ['RUL']) \n",
        "             for id in train_df['id'].unique()]\n",
        "\n",
        "label_array = np.concatenate(label_gen).astype(np.float32)\n",
        "label_array.shape"
      ],
      "execution_count": 26,
      "outputs": [
        {
          "output_type": "execute_result",
          "data": {
            "text/plain": [
              "(17631, 1)"
            ]
          },
          "metadata": {
            "tags": []
          },
          "execution_count": 26
        }
      ]
    },
    {
      "cell_type": "code",
      "metadata": {
        "id": "2VrQpaRKPf7t",
        "colab_type": "code",
        "colab": {}
      },
      "source": [
        "# We pick the last sequence for each id in the test data\n",
        "seq_array_test_last = [test_df[test_df['id']==id][sequence_cols].values[-sequence_length:] \n",
        "                       for id in test_df['id'].unique() if len(test_df[test_df['id']==id]) >= sequence_length]\n",
        "\n",
        "seq_array_test_last = np.asarray(seq_array_test_last).astype(np.float32)\n",
        "seq_array_test_last = seq_array_test_last.reshape((seq_array_test_last.shape[0],-1))\n",
        "#print(\"seq_array_test_last\")\n",
        "#print(seq_array_test_last)\n",
        "#print(seq_array_test_last.shape)\n",
        "\n",
        "# Similarly, we pick the labels\n",
        "#print(\"y_mask\")\n",
        "y_mask = [len(test_df[test_df['id']==id]) >= sequence_length for id in test_df['id'].unique()]\n",
        "label_array_test_last = test_df.groupby('id')['RUL'].nth(-1)[y_mask].values\n",
        "label_array_test_last = label_array_test_last.reshape(label_array_test_last.shape[0],1).astype(np.float32)"
      ],
      "execution_count": 0,
      "outputs": []
    },
    {
      "cell_type": "code",
      "metadata": {
        "id": "wVBzG6-TbGak",
        "colab_type": "code",
        "colab": {}
      },
      "source": [
        "from sklearn.model_selection import cross_validate,learning_curve,GridSearchCV\n",
        "import time"
      ],
      "execution_count": 0,
      "outputs": []
    },
    {
      "cell_type": "code",
      "metadata": {
        "id": "dLcvYZnpCuG-",
        "colab_type": "code",
        "colab": {}
      },
      "source": [
        "X_train = seq_array\n",
        "y_train = label_array.ravel()\n",
        "X_test = seq_array_test_last\n",
        "y_test = label_array_test_last.ravel()"
      ],
      "execution_count": 0,
      "outputs": []
    },
    {
      "cell_type": "markdown",
      "metadata": {
        "id": "SMxhsjmRqh-y",
        "colab_type": "text"
      },
      "source": [
        "# 构建深度网络"
      ]
    },
    {
      "cell_type": "code",
      "metadata": {
        "id": "Jrh9naccqqRq",
        "colab_type": "code",
        "colab": {}
      },
      "source": [
        ""
      ],
      "execution_count": 0,
      "outputs": []
    },
    {
      "cell_type": "code",
      "metadata": {
        "id": "qa59A4XpqeFU",
        "colab_type": "code",
        "outputId": "c1b50237-65b4-40bd-d04f-a14498bfdb33",
        "colab": {
          "base_uri": "https://localhost:8080/",
          "height": 2196
        }
      },
      "source": [
        "def r2_keras(y_true, y_pred):\n",
        "    \"\"\"Coefficient of Determination \n",
        "    \"\"\"\n",
        "    SS_res =  K.sum(K.square( y_true - y_pred ))\n",
        "    SS_tot = K.sum(K.square( y_true - K.mean(y_true) ) )\n",
        "    return ( 1 - SS_res/(SS_tot + K.epsilon()) )\n",
        "\n",
        "# Next, we build a deep network. \n",
        "# The first layer is an LSTM layer with 100 units followed by another LSTM layer with 50 units. \n",
        "# Dropout is also applied after each LSTM layer to control overfitting. \n",
        "# 采用Dropout防止过拟合\n",
        "# Final layer is a Dense output layer with single unit and linear activation since this is a regression problem.\n",
        "# 由于此问题是回归问题，因此在最后采用单一神经元以及一个线性激活函数\n",
        "\n",
        "nb_features = seq_array.shape[2] # 特征数目：18\n",
        "nb_out = label_array.shape[1] # 输出大小：1\n",
        "\n",
        "# 定义一个sequential模型（多个网络层线性堆叠而成）\n",
        "model = Sequential()\n",
        "# 向模型中加入layer\n",
        "model.add(LSTM(\n",
        "         input_shape=(sequence_length, nb_features),#第一层需要接收一个样本数据shape的参数\n",
        "         units=100,\n",
        "         return_sequences=True))\n",
        "model.add(Dropout(0.2))\n",
        "model.add(LSTM(\n",
        "          units=50,\n",
        "          return_sequences=False))\n",
        "model.add(Dropout(0.2)) #增加一个Dropout\n",
        "model.add(Dense(units=nb_out)) #密集模块\n",
        "model.add(Activation(\"linear\")) # 线性激活函数\n",
        "# 编译模型，对model进行配置\n",
        "model.compile(loss='mean_squared_error', optimizer='rmsprop',metrics=['mae',r2_keras])\n",
        "# 采用MSE进行模型训练，采用rmsprop作为优化器，采用mae和自己定义的r2_keras进行性能评估\n",
        "\n",
        "print(model.summary())\n",
        "\n",
        "# fit the network\n",
        "# 模型训练\n",
        "history = model.fit(seq_array, label_array, epochs=50, batch_size=200, validation_split=0.05, verbose=2,\n",
        "          callbacks = [keras.callbacks.EarlyStopping(monitor='val_loss', min_delta=0, patience=10, verbose=0, mode='min'),\n",
        "                       keras.callbacks.ModelCheckpoint(model_path,monitor='val_loss', save_best_only=True, mode='min', verbose=0)]\n",
        "          )\n",
        "\n",
        "# list all data in history\n",
        "print(history.history.keys())"
      ],
      "execution_count": 33,
      "outputs": [
        {
          "output_type": "stream",
          "text": [
            "WARNING:tensorflow:From /usr/local/lib/python3.6/dist-packages/tensorflow/python/framework/op_def_library.py:263: colocate_with (from tensorflow.python.framework.ops) is deprecated and will be removed in a future version.\n",
            "Instructions for updating:\n",
            "Colocations handled automatically by placer.\n",
            "WARNING:tensorflow:From /usr/local/lib/python3.6/dist-packages/keras/backend/tensorflow_backend.py:3445: calling dropout (from tensorflow.python.ops.nn_ops) with keep_prob is deprecated and will be removed in a future version.\n",
            "Instructions for updating:\n",
            "Please use `rate` instead of `keep_prob`. Rate should be set to `rate = 1 - keep_prob`.\n",
            "_________________________________________________________________\n",
            "Layer (type)                 Output Shape              Param #   \n",
            "=================================================================\n",
            "lstm_1 (LSTM)                (None, 30, 100)           47600     \n",
            "_________________________________________________________________\n",
            "dropout_1 (Dropout)          (None, 30, 100)           0         \n",
            "_________________________________________________________________\n",
            "lstm_2 (LSTM)                (None, 50)                30200     \n",
            "_________________________________________________________________\n",
            "dropout_2 (Dropout)          (None, 50)                0         \n",
            "_________________________________________________________________\n",
            "dense_1 (Dense)              (None, 1)                 51        \n",
            "_________________________________________________________________\n",
            "activation_1 (Activation)    (None, 1)                 0         \n",
            "=================================================================\n",
            "Total params: 77,851\n",
            "Trainable params: 77,851\n",
            "Non-trainable params: 0\n",
            "_________________________________________________________________\n",
            "None\n",
            "WARNING:tensorflow:From /usr/local/lib/python3.6/dist-packages/tensorflow/python/ops/math_ops.py:3066: to_int32 (from tensorflow.python.ops.math_ops) is deprecated and will be removed in a future version.\n",
            "Instructions for updating:\n",
            "Use tf.cast instead.\n",
            "Train on 16749 samples, validate on 882 samples\n",
            "Epoch 1/50\n",
            " - 18s - loss: 10673.5294 - mean_absolute_error: 83.5826 - r2_keras: -1.8208e+00 - val_loss: 10035.3924 - val_mean_absolute_error: 80.6835 - val_r2_keras: -2.8653e+00\n",
            "Epoch 2/50\n",
            " - 17s - loss: 9878.4964 - mean_absolute_error: 79.3987 - r2_keras: -1.6123e+00 - val_loss: 9389.0277 - val_mean_absolute_error: 77.2837 - val_r2_keras: -2.5880e+00\n",
            "Epoch 3/50\n",
            " - 17s - loss: 9242.4322 - mean_absolute_error: 76.1030 - r2_keras: -1.4455e+00 - val_loss: 8778.1934 - val_mean_absolute_error: 74.0859 - val_r2_keras: -2.3299e+00\n",
            "Epoch 4/50\n",
            " - 17s - loss: 8652.4141 - mean_absolute_error: 73.0289 - r2_keras: -1.2899e+00 - val_loss: 8203.9618 - val_mean_absolute_error: 71.0950 - val_r2_keras: -2.0914e+00\n",
            "Epoch 5/50\n",
            " - 17s - loss: 8090.7378 - mean_absolute_error: 70.1179 - r2_keras: -1.1465e+00 - val_loss: 7665.1933 - val_mean_absolute_error: 68.3044 - val_r2_keras: -1.8720e+00\n",
            "Epoch 6/50\n",
            " - 17s - loss: 7565.3325 - mean_absolute_error: 67.4280 - r2_keras: -9.9930e-01 - val_loss: 7159.5938 - val_mean_absolute_error: 65.7022 - val_r2_keras: -1.6708e+00\n",
            "Epoch 7/50\n",
            " - 17s - loss: 7083.3900 - mean_absolute_error: 64.9962 - r2_keras: -8.7406e-01 - val_loss: 6690.1114 - val_mean_absolute_error: 63.3036 - val_r2_keras: -1.4888e+00\n",
            "Epoch 8/50\n",
            " - 17s - loss: 6618.6689 - mean_absolute_error: 62.6483 - r2_keras: -7.4713e-01 - val_loss: 6254.1156 - val_mean_absolute_error: 61.0952 - val_r2_keras: -1.3252e+00\n",
            "Epoch 9/50\n",
            " - 17s - loss: 6199.9348 - mean_absolute_error: 60.5533 - r2_keras: -6.3546e-01 - val_loss: 5854.5909 - val_mean_absolute_error: 59.0920 - val_r2_keras: -1.1809e+00\n",
            "Epoch 10/50\n",
            " - 17s - loss: 5813.9608 - mean_absolute_error: 58.6196 - r2_keras: -5.3570e-01 - val_loss: 5487.6818 - val_mean_absolute_error: 57.2761 - val_r2_keras: -1.0546e+00\n",
            "Epoch 11/50\n",
            " - 17s - loss: 5464.4512 - mean_absolute_error: 56.9321 - r2_keras: -4.4329e-01 - val_loss: 5159.5317 - val_mean_absolute_error: 55.6759 - val_r2_keras: -9.4832e-01\n",
            "Epoch 12/50\n",
            " - 17s - loss: 5162.6769 - mean_absolute_error: 55.4898 - r2_keras: -3.6238e-01 - val_loss: 4860.8366 - val_mean_absolute_error: 54.2465 - val_r2_keras: -8.5903e-01\n",
            "Epoch 13/50\n",
            " - 17s - loss: 4878.3208 - mean_absolute_error: 54.1558 - r2_keras: -2.8472e-01 - val_loss: 4600.5472 - val_mean_absolute_error: 53.0303 - val_r2_keras: -7.8938e-01\n",
            "Epoch 14/50\n",
            " - 16s - loss: 4482.9497 - mean_absolute_error: 50.7365 - r2_keras: -1.8375e-01 - val_loss: 4074.9581 - val_mean_absolute_error: 47.6992 - val_r2_keras: -4.8301e-01\n",
            "Epoch 15/50\n",
            " - 17s - loss: 3974.7097 - mean_absolute_error: 45.1000 - r2_keras: -4.9342e-02 - val_loss: 3648.4661 - val_mean_absolute_error: 43.6410 - val_r2_keras: -2.7491e-01\n",
            "Epoch 16/50\n",
            " - 17s - loss: 3624.3340 - mean_absolute_error: 42.0587 - r2_keras: 0.0447 - val_loss: 3314.1496 - val_mean_absolute_error: 40.2498 - val_r2_keras: -1.4589e-01\n",
            "Epoch 17/50\n",
            " - 17s - loss: 3299.1834 - mean_absolute_error: 39.0167 - r2_keras: 0.1325 - val_loss: 3260.5800 - val_mean_absolute_error: 38.2497 - val_r2_keras: -1.2707e-01\n",
            "Epoch 18/50\n",
            " - 17s - loss: 3025.6704 - mean_absolute_error: 36.6675 - r2_keras: 0.2039 - val_loss: 2783.3528 - val_mean_absolute_error: 36.2707 - val_r2_keras: 0.0231\n",
            "Epoch 19/50\n",
            " - 17s - loss: 2791.2929 - mean_absolute_error: 34.6822 - r2_keras: 0.2670 - val_loss: 2500.1247 - val_mean_absolute_error: 32.2111 - val_r2_keras: 0.1463\n",
            "Epoch 20/50\n",
            " - 17s - loss: 2559.0514 - mean_absolute_error: 32.9026 - r2_keras: 0.3280 - val_loss: 2320.2980 - val_mean_absolute_error: 31.8780 - val_r2_keras: 0.1981\n",
            "Epoch 21/50\n",
            " - 17s - loss: 2356.3308 - mean_absolute_error: 31.3992 - r2_keras: 0.3821 - val_loss: 2116.9077 - val_mean_absolute_error: 29.3503 - val_r2_keras: 0.2771\n",
            "Epoch 22/50\n",
            " - 17s - loss: 2165.1404 - mean_absolute_error: 29.8115 - r2_keras: 0.4319 - val_loss: 1979.3019 - val_mean_absolute_error: 29.3140 - val_r2_keras: 0.3098\n",
            "Epoch 23/50\n",
            " - 17s - loss: 2006.0755 - mean_absolute_error: 28.5300 - r2_keras: 0.4733 - val_loss: 1812.5356 - val_mean_absolute_error: 27.8496 - val_r2_keras: 0.3716\n",
            "Epoch 24/50\n",
            " - 17s - loss: 1862.7291 - mean_absolute_error: 27.3331 - r2_keras: 0.5117 - val_loss: 1678.0005 - val_mean_absolute_error: 25.9591 - val_r2_keras: 0.4136\n",
            "Epoch 25/50\n",
            " - 17s - loss: 1715.0907 - mean_absolute_error: 26.0640 - r2_keras: 0.5497 - val_loss: 1527.9412 - val_mean_absolute_error: 24.3354 - val_r2_keras: 0.4792\n",
            "Epoch 26/50\n",
            " - 17s - loss: 1593.7008 - mean_absolute_error: 25.0536 - r2_keras: 0.5823 - val_loss: 1499.7397 - val_mean_absolute_error: 25.8154 - val_r2_keras: 0.4590\n",
            "Epoch 27/50\n",
            " - 17s - loss: 1488.5058 - mean_absolute_error: 24.4098 - r2_keras: 0.6097 - val_loss: 1408.4340 - val_mean_absolute_error: 24.0735 - val_r2_keras: 0.4821\n",
            "Epoch 28/50\n",
            " - 17s - loss: 1385.4576 - mean_absolute_error: 23.3932 - r2_keras: 0.6366 - val_loss: 1290.9892 - val_mean_absolute_error: 24.0059 - val_r2_keras: 0.5414\n",
            "Epoch 29/50\n",
            " - 17s - loss: 1282.4892 - mean_absolute_error: 22.4884 - r2_keras: 0.6634 - val_loss: 1310.2922 - val_mean_absolute_error: 23.6727 - val_r2_keras: 0.5216\n",
            "Epoch 30/50\n",
            " - 17s - loss: 1206.5483 - mean_absolute_error: 21.9127 - r2_keras: 0.6841 - val_loss: 1212.8657 - val_mean_absolute_error: 23.0170 - val_r2_keras: 0.5812\n",
            "Epoch 31/50\n",
            " - 17s - loss: 1159.5016 - mean_absolute_error: 21.5433 - r2_keras: 0.6956 - val_loss: 1141.2676 - val_mean_absolute_error: 21.5907 - val_r2_keras: 0.6179\n",
            "Epoch 32/50\n",
            " - 17s - loss: 1093.3342 - mean_absolute_error: 20.9349 - r2_keras: 0.7124 - val_loss: 1144.5700 - val_mean_absolute_error: 22.6428 - val_r2_keras: 0.5875\n",
            "Epoch 33/50\n",
            " - 17s - loss: 1052.5641 - mean_absolute_error: 20.6750 - r2_keras: 0.7250 - val_loss: 1207.2816 - val_mean_absolute_error: 24.5416 - val_r2_keras: 0.5544\n",
            "Epoch 34/50\n",
            " - 17s - loss: 1012.9813 - mean_absolute_error: 20.3898 - r2_keras: 0.7339 - val_loss: 1174.8688 - val_mean_absolute_error: 22.4184 - val_r2_keras: 0.5819\n",
            "Epoch 35/50\n",
            " - 17s - loss: 973.8520 - mean_absolute_error: 19.9634 - r2_keras: 0.7445 - val_loss: 1633.8276 - val_mean_absolute_error: 23.0769 - val_r2_keras: 0.4694\n",
            "Epoch 36/50\n",
            " - 17s - loss: 948.6802 - mean_absolute_error: 19.8440 - r2_keras: 0.7507 - val_loss: 1162.8091 - val_mean_absolute_error: 21.4937 - val_r2_keras: 0.5778\n",
            "Epoch 37/50\n",
            " - 17s - loss: 911.2276 - mean_absolute_error: 19.5259 - r2_keras: 0.7612 - val_loss: 1410.6053 - val_mean_absolute_error: 23.6242 - val_r2_keras: 0.5080\n",
            "Epoch 38/50\n",
            " - 17s - loss: 886.3617 - mean_absolute_error: 19.2976 - r2_keras: 0.7665 - val_loss: 1032.8743 - val_mean_absolute_error: 19.7948 - val_r2_keras: 0.6341\n",
            "Epoch 39/50\n",
            " - 17s - loss: 858.0539 - mean_absolute_error: 19.1271 - r2_keras: 0.7744 - val_loss: 1230.6647 - val_mean_absolute_error: 23.9114 - val_r2_keras: 0.5160\n",
            "Epoch 40/50\n",
            " - 17s - loss: 849.9360 - mean_absolute_error: 18.9073 - r2_keras: 0.7772 - val_loss: 1214.3401 - val_mean_absolute_error: 22.6505 - val_r2_keras: 0.5470\n",
            "Epoch 41/50\n",
            " - 17s - loss: 809.0364 - mean_absolute_error: 18.5260 - r2_keras: 0.7880 - val_loss: 1850.6818 - val_mean_absolute_error: 28.2235 - val_r2_keras: 0.3169\n",
            "Epoch 42/50\n",
            " - 17s - loss: 800.4818 - mean_absolute_error: 18.5089 - r2_keras: 0.7896 - val_loss: 1401.9583 - val_mean_absolute_error: 24.5099 - val_r2_keras: 0.4873\n",
            "Epoch 43/50\n",
            " - 17s - loss: 769.8570 - mean_absolute_error: 18.1474 - r2_keras: 0.7978 - val_loss: 1906.4778 - val_mean_absolute_error: 26.4249 - val_r2_keras: 0.3304\n",
            "Epoch 44/50\n",
            " - 17s - loss: 768.5160 - mean_absolute_error: 18.1778 - r2_keras: 0.7988 - val_loss: 1525.2586 - val_mean_absolute_error: 26.0545 - val_r2_keras: 0.4275\n",
            "Epoch 45/50\n",
            " - 17s - loss: 730.4202 - mean_absolute_error: 17.7663 - r2_keras: 0.8078 - val_loss: 1704.1913 - val_mean_absolute_error: 29.2248 - val_r2_keras: 0.3358\n",
            "Epoch 46/50\n",
            " - 17s - loss: 725.9833 - mean_absolute_error: 17.6455 - r2_keras: 0.8090 - val_loss: 1806.3281 - val_mean_absolute_error: 27.6482 - val_r2_keras: 0.3172\n",
            "Epoch 47/50\n",
            " - 17s - loss: 689.2611 - mean_absolute_error: 17.2164 - r2_keras: 0.8197 - val_loss: 1960.8545 - val_mean_absolute_error: 32.3489 - val_r2_keras: 0.1454\n",
            "Epoch 48/50\n",
            " - 17s - loss: 675.6651 - mean_absolute_error: 17.1133 - r2_keras: 0.8221 - val_loss: 1806.8717 - val_mean_absolute_error: 26.8212 - val_r2_keras: 0.3577\n",
            "dict_keys(['val_loss', 'val_mean_absolute_error', 'val_r2_keras', 'loss', 'mean_absolute_error', 'r2_keras'])\n"
          ],
          "name": "stdout"
        }
      ]
    },
    {
      "cell_type": "code",
      "metadata": {
        "id": "cSksNO6tKov5",
        "colab_type": "code",
        "colab": {}
      },
      "source": [
        ""
      ],
      "execution_count": 0,
      "outputs": []
    },
    {
      "cell_type": "code",
      "metadata": {
        "id": "lepKgBnuKr_8",
        "colab_type": "code",
        "outputId": "92074a27-b421-4ba9-d306-4fcb415eb19d",
        "colab": {
          "base_uri": "https://localhost:8080/",
          "height": 621
        }
      },
      "source": [
        "# summarize history for R^2\n",
        "fig_acc = plt.figure(figsize=(10, 10))\n",
        "plt.plot(history.history['r2_keras'])\n",
        "plt.plot(history.history['val_r2_keras'])\n",
        "plt.title('model r^2')\n",
        "plt.ylabel('R^2')\n",
        "plt.xlabel('epoch')\n",
        "plt.legend(['train', 'test'], loc='upper left')\n",
        "plt.show()\n",
        "fig_acc.savefig(\"model_r2.png\")"
      ],
      "execution_count": 34,
      "outputs": [
        {
          "output_type": "display_data",
          "data": {
            "image/png": "[encoded data removed]",
            "text/plain": [
              "<Figure size 720x720 with 1 Axes>"
            ]
          },
          "metadata": {
            "tags": []
          }
        }
      ]
    },
    {
      "cell_type": "code",
      "metadata": {
        "id": "J_Es4whmLEwW",
        "colab_type": "code",
        "outputId": "9ae07129-4f70-452d-adc1-25bbbf6b9c8a",
        "colab": {
          "base_uri": "https://localhost:8080/",
          "height": 621
        }
      },
      "source": [
        "# summarize history for MAE\n",
        "fig_acc = plt.figure(figsize=(10, 10))\n",
        "plt.plot(history.history['mean_absolute_error'])\n",
        "plt.plot(history.history['val_mean_absolute_error'])\n",
        "plt.title('model MAE')\n",
        "plt.ylabel('MAE')\n",
        "plt.xlabel('epoch')\n",
        "plt.legend(['train', 'test'], loc='upper left')\n",
        "plt.show()\n",
        "fig_acc.savefig(\"model_mae.png\")"
      ],
      "execution_count": 35,
      "outputs": [
        {
          "output_type": "display_data",
          "data": {
            "image/png": "[encoded data removed]",
            "text/plain": [
              "<Figure size 720x720 with 1 Axes>"
            ]
          },
          "metadata": {
            "tags": []
          }
        }
      ]
    },
    {
      "cell_type": "code",
      "metadata": {
        "id": "qRiTHbEnLMLC",
        "colab_type": "code",
        "outputId": "8e383e51-f87c-4f6f-e80e-d520547a5c8d",
        "colab": {
          "base_uri": "https://localhost:8080/",
          "height": 621
        }
      },
      "source": [
        "# summarize history for Loss\n",
        "fig_acc = plt.figure(figsize=(10, 10))\n",
        "plt.plot(history.history['loss'])\n",
        "plt.plot(history.history['val_loss'])\n",
        "plt.title('model loss')\n",
        "plt.ylabel('loss')\n",
        "plt.xlabel('epoch')\n",
        "plt.legend(['train', 'test'], loc='upper left')\n",
        "plt.show()\n",
        "fig_acc.savefig(\"model_regression_loss.png\")"
      ],
      "execution_count": 36,
      "outputs": [
        {
          "output_type": "display_data",
          "data": {
            "image/png": "[encoded data removed]",
            "text/plain": [
              "<Figure size 720x720 with 1 Axes>"
            ]
          },
          "metadata": {
            "tags": []
          }
        }
      ]
    },
    {
      "cell_type": "code",
      "metadata": {
        "id": "S4T6k2WaLOzA",
        "colab_type": "code",
        "colab": {}
      },
      "source": [
        ""
      ],
      "execution_count": 0,
      "outputs": []
    },
    {
      "cell_type": "code",
      "metadata": {
        "id": "7pn1CasKFENw",
        "colab_type": "code",
        "outputId": "d697d5d2-9f3f-4a91-e644-c16c25bdf5a8",
        "colab": {
          "base_uri": "https://localhost:8080/",
          "height": 119
        }
      },
      "source": [
        "# training metrics\n",
        "scores = model.evaluate(seq_array, label_array, verbose=1, batch_size=200)\n",
        "print('\\nMAE: {}'.format(scores[1]))\n",
        "print('\\nR^2: {}'.format(scores[2]))\n",
        "\n",
        "y_pred = model.predict(seq_array,verbose=1, batch_size=200)\n",
        "y_true = label_array\n",
        "\n",
        "test_set = pd.DataFrame(y_pred)\n",
        "test_set.to_csv('submit_train.csv', index = None)"
      ],
      "execution_count": 37,
      "outputs": [
        {
          "output_type": "stream",
          "text": [
            "17631/17631 [==============================] - 5s 281us/step\n",
            "\n",
            "MAE: 16.046037405281353\n",
            "\n",
            "R^2: 0.7910469122153674\n",
            "17631/17631 [==============================] - 5s 304us/step\n"
          ],
          "name": "stdout"
        }
      ]
    },
    {
      "cell_type": "code",
      "metadata": {
        "id": "Aj9_Xr8oG6rY",
        "colab_type": "code",
        "colab": {}
      },
      "source": [
        "from sklearn.metrics import mean_squared_error,mean_absolute_error,r2_score"
      ],
      "execution_count": 0,
      "outputs": []
    },
    {
      "cell_type": "code",
      "metadata": {
        "id": "xv0djKClIh4K",
        "colab_type": "code",
        "colab": {}
      },
      "source": [
        "def RHS_score(y_pred, y_true):\n",
        "  delta = y_pred-y_true\n",
        "  s1 = np.exp(-delta[delta<0]/13)-1\n",
        "  s2 = np.exp(delta[delta>=0]/10)-1\n",
        "  rhs = (np.sum(s1)+np.sum(s2))/len(delta)\n",
        "  return rhs"
      ],
      "execution_count": 0,
      "outputs": []
    },
    {
      "cell_type": "code",
      "metadata": {
        "id": "ZJS_ZuP-FFZQ",
        "colab_type": "code",
        "colab": {}
      },
      "source": [
        "delta = y_pred-y_true"
      ],
      "execution_count": 0,
      "outputs": []
    },
    {
      "cell_type": "code",
      "metadata": {
        "id": "utjOCjB0LdGd",
        "colab_type": "code",
        "colab": {}
      },
      "source": [
        ""
      ],
      "execution_count": 0,
      "outputs": []
    },
    {
      "cell_type": "code",
      "metadata": {
        "id": "W7BMaFscGGVG",
        "colab_type": "code",
        "outputId": "dbe11318-ea5a-420a-dece-7ad32d4ae063",
        "colab": {
          "base_uri": "https://localhost:8080/",
          "height": 102
        }
      },
      "source": [
        "mse_valid = np.sum((y_pred - y_true)**2)/len(y_true)\n",
        "rmse_valid = mse_valid**0.5\n",
        "mae_valid = np.sum(np.absolute(y_pred - y_true))/len(y_true)\n",
        "r2_valid = 1 - mse_valid/np.var(y_true)\n",
        "rhs_valid = RHS_score(y_pred,y_true)\n",
        "print('mse:',mse_valid)\n",
        "print('rmse:',rmse_valid)\n",
        "print('mae:',mae_valid)\n",
        "print('r2:',r2_valid)\n",
        "print('rhs:',rhs_valid)"
      ],
      "execution_count": 39,
      "outputs": [
        {
          "output_type": "stream",
          "text": [
            "mse: 686.4831830298905\n",
            "rmse: 26.200824090663456\n",
            "mae: 16.04603751914242\n",
            "r2: 0.8196023244121218\n",
            "rhs: 438.24848278600194\n"
          ],
          "name": "stdout"
        }
      ]
    },
    {
      "cell_type": "code",
      "metadata": {
        "id": "A24lnnBlVEIb",
        "colab_type": "code",
        "colab": {}
      },
      "source": [
        "# define path to save model\n",
        "model_path = 'LSTM_30.h5'\n",
        "model.save(model_path)"
      ],
      "execution_count": 0,
      "outputs": []
    },
    {
      "cell_type": "code",
      "metadata": {
        "id": "XBADN_pZVarx",
        "colab_type": "code",
        "outputId": "12916cec-0fb1-40f1-d6c2-460242406498",
        "colab": {
          "base_uri": "https://localhost:8080/",
          "height": 102
        }
      },
      "source": [
        "scores = model.evaluate(seq_array, label_array, verbose=1, batch_size=200)\n",
        "print('\\nMAE: {}'.format(scores[1]))\n",
        "print('\\nR^2: {}'.format(scores[2]))"
      ],
      "execution_count": 41,
      "outputs": [
        {
          "output_type": "stream",
          "text": [
            "17631/17631 [==============================] - 5s 279us/step\n",
            "\n",
            "MAE: 16.046037405281353\n",
            "\n",
            "R^2: 0.7910469122153674\n"
          ],
          "name": "stdout"
        }
      ]
    },
    {
      "cell_type": "code",
      "metadata": {
        "id": "0R7vKJH_XCU9",
        "colab_type": "code",
        "outputId": "e3abd246-1078-4866-c004-d3bce59ec79d",
        "colab": {
          "base_uri": "https://localhost:8080/",
          "height": 34
        }
      },
      "source": [
        "y_pred.shape"
      ],
      "execution_count": 0,
      "outputs": [
        {
          "output_type": "execute_result",
          "data": {
            "text/plain": [
              "(15631, 1)"
            ]
          },
          "metadata": {
            "tags": []
          },
          "execution_count": 76
        }
      ]
    },
    {
      "cell_type": "code",
      "metadata": {
        "id": "7YwuCyWWXM4f",
        "colab_type": "code",
        "colab": {}
      },
      "source": [
        "# We pick the last sequence for each id in the test data\n",
        "seq_array_test_last = [test_df[test_df['id']==id][sequence_cols].values[-sequence_length:] \n",
        "                       for id in test_df['id'].unique() if len(test_df[test_df['id']==id]) >= sequence_length]\n",
        "\n",
        "seq_array_test_last = np.asarray(seq_array_test_last).astype(np.float32)\n",
        "#print(\"seq_array_test_last\")\n",
        "#print(seq_array_test_last)\n",
        "#print(seq_array_test_last.shape)\n",
        "\n",
        "# Similarly, we pick the labels\n",
        "#print(\"y_mask\")\n",
        "y_mask = [len(test_df[test_df['id']==id]) >= sequence_length for id in test_df['id'].unique()]\n",
        "label_array_test_last = test_df.groupby('id')['RUL'].nth(-1)[y_mask].values\n",
        "label_array_test_last = label_array_test_last.reshape(label_array_test_last.shape[0],1).astype(np.float32)\n",
        "#print(label_array_test_last.shape)\n",
        "#print(\"label_array_test_last\")\n",
        "#print(label_array_test_last)\n",
        "\n"
      ],
      "execution_count": 0,
      "outputs": []
    },
    {
      "cell_type": "code",
      "metadata": {
        "id": "TuDCjv-6Xp6X",
        "colab_type": "code",
        "outputId": "effe4dd5-d8ee-4e52-c67a-675a8a7d7ee7",
        "colab": {
          "base_uri": "https://localhost:8080/",
          "height": 418
        }
      },
      "source": [
        "# if best iteration's model was saved then load and use it\n",
        "if os.path.isfile(model_path):\n",
        "    estimator = load_model(model_path,custom_objects={'r2_keras': r2_keras}) # 加载模型\n",
        "\n",
        "    # test metrics\n",
        "    scores_test = estimator.evaluate(seq_array_test_last, label_array_test_last, verbose=2)\n",
        "    print('\\nMAE: {}'.format(scores_test[1]))\n",
        "    print('\\nR^2: {}'.format(scores_test[2]))\n",
        "\n",
        "    y_pred_test = estimator.predict(seq_array_test_last)\n",
        "    y_true_test = label_array_test_last\n",
        "\n",
        "    test_set = pd.DataFrame(y_pred_test)\n",
        "    test_set.to_csv('submit_test.csv', index = None)\n",
        "\n",
        "    # Plot in blue color the predicted data and in green color the\n",
        "    # actual data to verify visually the accuracy of the model.\n",
        "    fig_verify = plt.figure(figsize=(10, 5))\n",
        "    plt.plot(y_pred_test, 'b-o')\n",
        "    plt.plot(y_true_test, 'r-^')\n",
        "    plt.title('prediction')\n",
        "    plt.ylabel('value')\n",
        "    plt.xlabel('row')\n",
        "    plt.legend(['predicted', 'actual data'], loc='upper left')\n",
        "    plt.show()\n",
        "    fig_verify.savefig(\"model_regression_verify.png\")"
      ],
      "execution_count": 43,
      "outputs": [
        {
          "output_type": "stream",
          "text": [
            "\n",
            "MAE: 15.00973602294922\n",
            "\n",
            "R^2: 0.6916443276405334\n"
          ],
          "name": "stdout"
        },
        {
          "output_type": "display_data",
          "data": {
            "image/png": "[encoded data removed]",
            "text/plain": [
              "<Figure size 720x360 with 1 Axes>"
            ]
          },
          "metadata": {
            "tags": []
          }
        }
      ]
    },
    {
      "cell_type": "code",
      "metadata": {
        "id": "Xe3Vb-GzY5I0",
        "colab_type": "code",
        "outputId": "7d0211d9-0751-4c76-89a9-98407dac1567",
        "colab": {
          "base_uri": "https://localhost:8080/",
          "height": 102
        }
      },
      "source": [
        "mse_test = np.sum((y_pred_test - y_true_test)**2)/len(y_true_test)\n",
        "rmse_test = mse_test**0.5\n",
        "mae_test = np.sum(np.absolute(y_pred_test - y_true_test))/len(y_true_test)\n",
        "r2_test = 1 - mse_test/np.var(y_true_test)\n",
        "rhs_test = RHS_score(y_pred_test, y_true_test)\n",
        "print('mse:',mse_test)\n",
        "print('rmse:',rmse_test)\n",
        "print('mae:',mae_test)\n",
        "print('r2:',r2_test)\n",
        "print('rhs_test:',rhs_test)\n"
      ],
      "execution_count": 44,
      "outputs": [
        {
          "output_type": "stream",
          "text": [
            "mse: 537.6266796875\n",
            "rmse: 23.186778122186357\n",
            "mae: 15.009737548828125\n",
            "r2: 0.6886697706113485\n",
            "rhs_test: 406.378046875\n"
          ],
          "name": "stdout"
        }
      ]
    },
    {
      "cell_type": "code",
      "metadata": {
        "id": "IgNw4yHxPmP8",
        "colab_type": "code",
        "colab": {}
      },
      "source": [
        ""
      ],
      "execution_count": 0,
      "outputs": []
    }
  ]
}