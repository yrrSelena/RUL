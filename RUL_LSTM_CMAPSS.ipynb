{
  "nbformat": 4,
  "nbformat_minor": 0,
  "metadata": {
    "colab": {
      "name": "RUL_LSTM_CMAPSS.ipynb",
      "version": "0.3.2",
      "provenance": [],
      "collapsed_sections": [],
      "toc_visible": true,
      "include_colab_link": true
    },
    "kernelspec": {
      "name": "python3",
      "display_name": "Python 3"
    }
  },
  "cells": [
    {
      "cell_type": "markdown",
      "metadata": {
        "id": "view-in-github",
        "colab_type": "text"
      },
      "source": [
        "<a href=\"https://colab.research.google.com/github/yrrSelena/RUL/blob/master/RUL_LSTM_CMAPSS.ipynb\" target=\"_parent\"><img src=\"https://colab.research.google.com/assets/colab-badge.svg\" alt=\"Open In Colab\"/></a>"
      ]
    },
    {
      "cell_type": "markdown",
      "metadata": {
        "id": "UYu45S4Gd3e6",
        "colab_type": "text"
      },
      "source": [
        "# 载入库"
      ]
    },
    {
      "cell_type": "code",
      "metadata": {
        "id": "SIt_-AUzdQzJ",
        "colab_type": "code",
        "colab": {
          "base_uri": "https://localhost:8080/",
          "height": 34
        },
        "outputId": "6e133f8c-f931-48a0-86ad-3128adfd0dcf"
      },
      "source": [
        "import keras\n",
        "import keras.backend as K\n",
        "from keras.layers.core import Activation\n",
        "from keras.models import Sequential,load_model\n",
        "from keras.layers import Dense, Dropout, LSTM\n",
        "\n",
        "import pandas as pd\n",
        "import numpy as np\n",
        "import matplotlib.pyplot as plt\n",
        "import os\n",
        "from sklearn import preprocessing"
      ],
      "execution_count": 2,
      "outputs": [
        {
          "output_type": "stream",
          "text": [
            "Using TensorFlow backend.\n"
          ],
          "name": "stderr"
        }
      ]
    },
    {
      "cell_type": "code",
      "metadata": {
        "id": "gvqDxLwudr2F",
        "colab_type": "code",
        "colab": {}
      },
      "source": [
        "# Setting seed for reproducibility\n",
        "np.random.seed(1234)  \n",
        "PYTHONHASHSEED = 0\n"
      ],
      "execution_count": 0,
      "outputs": []
    },
    {
      "cell_type": "markdown",
      "metadata": {
        "id": "YsWZ2xo9d9-r",
        "colab_type": "text"
      },
      "source": [
        "# 读取数据"
      ]
    },
    {
      "cell_type": "markdown",
      "metadata": {
        "id": "bgi2gbMIflE8",
        "colab_type": "text"
      },
      "source": [
        "## 设置常量参数"
      ]
    },
    {
      "cell_type": "code",
      "metadata": {
        "id": "ePC32-Hfflah",
        "colab_type": "code",
        "colab": {}
      },
      "source": [
        "train_file = 'train_FD001.txt'\n",
        "test_file = 'test_FD001.txt'\n",
        "test_rul_file = 'RUL_FD001.txt'\n",
        "n_ftrs = 26\n",
        "n_units = 100\n",
        "col_name = ['id', 'cycle', 'setting1', 'setting2', 'setting3', 's1', 's2', 's3',\n",
        "             's4', 's5', 's6', 's7', 's8', 's9', 's10', 's11', 's12', 's13', 's14',\n",
        "             's15', 's16', 's17', 's18', 's19', 's20', 's21']\n",
        "#ftr_col_name = col_name[5:]"
      ],
      "execution_count": 0,
      "outputs": []
    },
    {
      "cell_type": "markdown",
      "metadata": {
        "id": "_vzB-wetgicu",
        "colab_type": "text"
      },
      "source": [
        "## 载入数据"
      ]
    },
    {
      "cell_type": "code",
      "metadata": {
        "id": "_KH0yOB9d1XU",
        "colab_type": "code",
        "colab": {}
      },
      "source": [
        "# read training data - It is the aircraft engine run-to-failure data.\n",
        "train_df = pd.read_csv(train_file,names = col_name, header=None,delim_whitespace=True)\n",
        "test_df = pd.read_csv(test_file,names = col_name, header=None,delim_whitespace=True)\n",
        "rul_df = pd.read_csv(test_rul_file, names=['RUL'],header=None,delim_whitespace=True) "
      ],
      "execution_count": 0,
      "outputs": []
    },
    {
      "cell_type": "markdown",
      "metadata": {
        "id": "rHNcG8c-gZ7U",
        "colab_type": "text"
      },
      "source": [
        "# 数据预处理"
      ]
    },
    {
      "cell_type": "markdown",
      "metadata": {
        "id": "kq8Z_rtKgrBa",
        "colab_type": "text"
      },
      "source": [
        "## 训练数据"
      ]
    },
    {
      "cell_type": "markdown",
      "metadata": {
        "id": "1slAdCmOhTEk",
        "colab_type": "text"
      },
      "source": [
        "### 计算RUL"
      ]
    },
    {
      "cell_type": "code",
      "metadata": {
        "id": "HbLXvMMQeJS7",
        "colab_type": "code",
        "colab": {}
      },
      "source": [
        "rul = pd.DataFrame(train_df.groupby('id')['cycle'].max()).reset_index() #添加一列作为索引\n",
        "rul.columns = ['id', 'max']\n",
        "train_df = train_df.merge(rul, on=['id'], how='left')\n",
        "train_df['RUL'] = train_df['max'] - train_df['cycle']\n",
        "train_df.drop('max', axis=1, inplace=True)"
      ],
      "execution_count": 0,
      "outputs": []
    },
    {
      "cell_type": "markdown",
      "metadata": {
        "id": "fg35ViO5hWJM",
        "colab_type": "text"
      },
      "source": [
        "### MinMax归一化处理"
      ]
    },
    {
      "cell_type": "code",
      "metadata": {
        "id": "_BCY20wfhN4X",
        "colab_type": "code",
        "colab": {}
      },
      "source": [
        "# MinMax normalization (from 0 to 1)\n",
        "train_df['cycle_norm'] = train_df['cycle']\n",
        "cols_normalize = train_df.columns.difference(['id','cycle','RUL'])\n",
        "\n",
        "# 对数据进行min-max归一化处理[0,1]\n",
        "min_max_scaler = preprocessing.MinMaxScaler()\n",
        "norm_train_df = pd.DataFrame(min_max_scaler.fit_transform(train_df[cols_normalize]), \n",
        "                             columns=cols_normalize, \n",
        "                             index=train_df.index)\n",
        "join_df = train_df[train_df.columns.difference(cols_normalize)].join(norm_train_df)\n",
        "train_df = join_df.reindex(columns = train_df.columns)"
      ],
      "execution_count": 0,
      "outputs": []
    },
    {
      "cell_type": "markdown",
      "metadata": {
        "id": "l5blbm9fl10h",
        "colab_type": "text"
      },
      "source": [
        "### 特征筛选"
      ]
    },
    {
      "cell_type": "code",
      "metadata": {
        "id": "PfPhcDmCjPsY",
        "colab_type": "code",
        "colab": {
          "base_uri": "https://localhost:8080/",
          "height": 85
        },
        "outputId": "79949978-e771-4149-8c15-604f81994bdd"
      },
      "source": [
        "t = train_df.max()==0\n",
        "rebundant_ftr_name = t[t==True].index.tolist() #7个常量特征\n",
        "selected_ftr_name = train_df.columns.difference(rebundant_ftr_name)\n",
        "selected_ftr_name"
      ],
      "execution_count": 9,
      "outputs": [
        {
          "output_type": "execute_result",
          "data": {
            "text/plain": [
              "Index(['RUL', 'cycle', 'cycle_norm', 'id', 's11', 's12', 's13', 's14', 's15',\n",
              "       's17', 's2', 's20', 's21', 's3', 's4', 's6', 's7', 's8', 's9',\n",
              "       'setting1', 'setting2'],\n",
              "      dtype='object')"
            ]
          },
          "metadata": {
            "tags": []
          },
          "execution_count": 9
        }
      ]
    },
    {
      "cell_type": "code",
      "metadata": {
        "id": "f3Os9xWupDud",
        "colab_type": "code",
        "colab": {
          "base_uri": "https://localhost:8080/",
          "height": 34
        },
        "outputId": "39bbe5b6-6994-4b69-be26-9e3fce06f3f0"
      },
      "source": [
        "len(selected_ftr_name)"
      ],
      "execution_count": 52,
      "outputs": [
        {
          "output_type": "execute_result",
          "data": {
            "text/plain": [
              "21"
            ]
          },
          "metadata": {
            "tags": []
          },
          "execution_count": 52
        }
      ]
    },
    {
      "cell_type": "code",
      "metadata": {
        "id": "C2FXvK7zl_mx",
        "colab_type": "code",
        "colab": {}
      },
      "source": [
        "train_df =train_df.loc[:,selected_ftr_name]"
      ],
      "execution_count": 0,
      "outputs": []
    },
    {
      "cell_type": "markdown",
      "metadata": {
        "id": "rN3eYF5Lhm3c",
        "colab_type": "text"
      },
      "source": [
        "## 测试数据"
      ]
    },
    {
      "cell_type": "markdown",
      "metadata": {
        "id": "RbAnWUQ1hqTU",
        "colab_type": "text"
      },
      "source": [
        "### MinMax归一化处理"
      ]
    },
    {
      "cell_type": "code",
      "metadata": {
        "id": "-G9c62Mtgxiy",
        "colab_type": "code",
        "colab": {}
      },
      "source": [
        "test_df['cycle_norm'] = test_df['cycle']\n",
        "norm_test_df = pd.DataFrame(min_max_scaler.transform(test_df[cols_normalize]), \n",
        "                            columns=cols_normalize, \n",
        "                            index=test_df.index)\n",
        "test_join_df = test_df[test_df.columns.difference(cols_normalize)].join(norm_test_df)\n",
        "test_df = test_join_df.reindex(columns = test_df.columns)\n",
        "test_df = test_df.reset_index(drop=True)"
      ],
      "execution_count": 0,
      "outputs": []
    },
    {
      "cell_type": "markdown",
      "metadata": {
        "id": "mlnhqzz-hzqO",
        "colab_type": "text"
      },
      "source": [
        "### 计算测试数据的RUL"
      ]
    },
    {
      "cell_type": "code",
      "metadata": {
        "id": "7WUrD0Tdhycd",
        "colab_type": "code",
        "colab": {}
      },
      "source": [
        "rul = pd.DataFrame(test_df.groupby('id')['cycle'].max()).reset_index() \n",
        "rul.columns = ['id', 'max']\n",
        "rul_df.columns = ['more']\n",
        "rul_df['id'] = rul_df.index + 1 # 获得每个发动机的编号\n",
        "rul_df['max'] = rul['max'] + rul_df['more'] # 测试数据的生命周期=发动机的运行时间+剩余寿命\n",
        "rul_df.drop('more', axis=1, inplace=True)\n",
        "\n",
        "# generate RUL for test data\n",
        "test_df = test_df.merge(rul_df, on=['id'], how='left')\n",
        "test_df['RUL'] = test_df['max'] - test_df['cycle']\n",
        "test_df.drop('max', axis=1, inplace=True)\n"
      ],
      "execution_count": 0,
      "outputs": []
    },
    {
      "cell_type": "code",
      "metadata": {
        "id": "kstWDIVSm3dn",
        "colab_type": "code",
        "colab": {
          "base_uri": "https://localhost:8080/",
          "height": 224
        },
        "outputId": "4e9bd72b-6973-427b-eaca-9cd0907d7476"
      },
      "source": [
        "test_df.head()"
      ],
      "execution_count": 46,
      "outputs": [
        {
          "output_type": "execute_result",
          "data": {
            "text/html": [
              "<div>\n",
              "<style scoped>\n",
              "    .dataframe tbody tr th:only-of-type {\n",
              "        vertical-align: middle;\n",
              "    }\n",
              "\n",
              "    .dataframe tbody tr th {\n",
              "        vertical-align: top;\n",
              "    }\n",
              "\n",
              "    .dataframe thead th {\n",
              "        text-align: right;\n",
              "    }\n",
              "</style>\n",
              "<table border=\"1\" class=\"dataframe\">\n",
              "  <thead>\n",
              "    <tr style=\"text-align: right;\">\n",
              "      <th></th>\n",
              "      <th>id</th>\n",
              "      <th>cycle</th>\n",
              "      <th>setting1</th>\n",
              "      <th>setting2</th>\n",
              "      <th>setting3</th>\n",
              "      <th>s1</th>\n",
              "      <th>s2</th>\n",
              "      <th>s3</th>\n",
              "      <th>s4</th>\n",
              "      <th>s5</th>\n",
              "      <th>s6</th>\n",
              "      <th>s7</th>\n",
              "      <th>s8</th>\n",
              "      <th>s9</th>\n",
              "      <th>s10</th>\n",
              "      <th>s11</th>\n",
              "      <th>s12</th>\n",
              "      <th>s13</th>\n",
              "      <th>s14</th>\n",
              "      <th>s15</th>\n",
              "      <th>s16</th>\n",
              "      <th>s17</th>\n",
              "      <th>s18</th>\n",
              "      <th>s19</th>\n",
              "      <th>s20</th>\n",
              "      <th>s21</th>\n",
              "      <th>cycle_norm</th>\n",
              "      <th>RUL</th>\n",
              "    </tr>\n",
              "  </thead>\n",
              "  <tbody>\n",
              "    <tr>\n",
              "      <th>0</th>\n",
              "      <td>1</td>\n",
              "      <td>1</td>\n",
              "      <td>0.632184</td>\n",
              "      <td>0.750000</td>\n",
              "      <td>0.0</td>\n",
              "      <td>0.0</td>\n",
              "      <td>0.545181</td>\n",
              "      <td>0.310661</td>\n",
              "      <td>0.269413</td>\n",
              "      <td>0.0</td>\n",
              "      <td>1.0</td>\n",
              "      <td>0.652174</td>\n",
              "      <td>0.212121</td>\n",
              "      <td>0.127614</td>\n",
              "      <td>0.0</td>\n",
              "      <td>0.208333</td>\n",
              "      <td>0.646055</td>\n",
              "      <td>0.220588</td>\n",
              "      <td>0.132160</td>\n",
              "      <td>0.308965</td>\n",
              "      <td>0.0</td>\n",
              "      <td>0.333333</td>\n",
              "      <td>0.0</td>\n",
              "      <td>0.0</td>\n",
              "      <td>0.558140</td>\n",
              "      <td>0.661834</td>\n",
              "      <td>0.00000</td>\n",
              "      <td>142</td>\n",
              "    </tr>\n",
              "    <tr>\n",
              "      <th>1</th>\n",
              "      <td>1</td>\n",
              "      <td>2</td>\n",
              "      <td>0.344828</td>\n",
              "      <td>0.250000</td>\n",
              "      <td>0.0</td>\n",
              "      <td>0.0</td>\n",
              "      <td>0.150602</td>\n",
              "      <td>0.379551</td>\n",
              "      <td>0.222316</td>\n",
              "      <td>0.0</td>\n",
              "      <td>1.0</td>\n",
              "      <td>0.805153</td>\n",
              "      <td>0.166667</td>\n",
              "      <td>0.146684</td>\n",
              "      <td>0.0</td>\n",
              "      <td>0.386905</td>\n",
              "      <td>0.739872</td>\n",
              "      <td>0.264706</td>\n",
              "      <td>0.204768</td>\n",
              "      <td>0.213159</td>\n",
              "      <td>0.0</td>\n",
              "      <td>0.416667</td>\n",
              "      <td>0.0</td>\n",
              "      <td>0.0</td>\n",
              "      <td>0.682171</td>\n",
              "      <td>0.686827</td>\n",
              "      <td>0.00277</td>\n",
              "      <td>141</td>\n",
              "    </tr>\n",
              "    <tr>\n",
              "      <th>2</th>\n",
              "      <td>1</td>\n",
              "      <td>3</td>\n",
              "      <td>0.517241</td>\n",
              "      <td>0.583333</td>\n",
              "      <td>0.0</td>\n",
              "      <td>0.0</td>\n",
              "      <td>0.376506</td>\n",
              "      <td>0.346632</td>\n",
              "      <td>0.322248</td>\n",
              "      <td>0.0</td>\n",
              "      <td>1.0</td>\n",
              "      <td>0.685990</td>\n",
              "      <td>0.227273</td>\n",
              "      <td>0.158081</td>\n",
              "      <td>0.0</td>\n",
              "      <td>0.386905</td>\n",
              "      <td>0.699360</td>\n",
              "      <td>0.220588</td>\n",
              "      <td>0.155640</td>\n",
              "      <td>0.458638</td>\n",
              "      <td>0.0</td>\n",
              "      <td>0.416667</td>\n",
              "      <td>0.0</td>\n",
              "      <td>0.0</td>\n",
              "      <td>0.728682</td>\n",
              "      <td>0.721348</td>\n",
              "      <td>0.00554</td>\n",
              "      <td>140</td>\n",
              "    </tr>\n",
              "    <tr>\n",
              "      <th>3</th>\n",
              "      <td>1</td>\n",
              "      <td>4</td>\n",
              "      <td>0.741379</td>\n",
              "      <td>0.500000</td>\n",
              "      <td>0.0</td>\n",
              "      <td>0.0</td>\n",
              "      <td>0.370482</td>\n",
              "      <td>0.285154</td>\n",
              "      <td>0.408001</td>\n",
              "      <td>0.0</td>\n",
              "      <td>1.0</td>\n",
              "      <td>0.679549</td>\n",
              "      <td>0.196970</td>\n",
              "      <td>0.105717</td>\n",
              "      <td>0.0</td>\n",
              "      <td>0.255952</td>\n",
              "      <td>0.573561</td>\n",
              "      <td>0.250000</td>\n",
              "      <td>0.170090</td>\n",
              "      <td>0.257022</td>\n",
              "      <td>0.0</td>\n",
              "      <td>0.250000</td>\n",
              "      <td>0.0</td>\n",
              "      <td>0.0</td>\n",
              "      <td>0.666667</td>\n",
              "      <td>0.662110</td>\n",
              "      <td>0.00831</td>\n",
              "      <td>139</td>\n",
              "    </tr>\n",
              "    <tr>\n",
              "      <th>4</th>\n",
              "      <td>1</td>\n",
              "      <td>5</td>\n",
              "      <td>0.580460</td>\n",
              "      <td>0.500000</td>\n",
              "      <td>0.0</td>\n",
              "      <td>0.0</td>\n",
              "      <td>0.391566</td>\n",
              "      <td>0.352082</td>\n",
              "      <td>0.332039</td>\n",
              "      <td>0.0</td>\n",
              "      <td>1.0</td>\n",
              "      <td>0.694042</td>\n",
              "      <td>0.166667</td>\n",
              "      <td>0.102396</td>\n",
              "      <td>0.0</td>\n",
              "      <td>0.273810</td>\n",
              "      <td>0.737740</td>\n",
              "      <td>0.220588</td>\n",
              "      <td>0.152751</td>\n",
              "      <td>0.300885</td>\n",
              "      <td>0.0</td>\n",
              "      <td>0.166667</td>\n",
              "      <td>0.0</td>\n",
              "      <td>0.0</td>\n",
              "      <td>0.658915</td>\n",
              "      <td>0.716377</td>\n",
              "      <td>0.01108</td>\n",
              "      <td>138</td>\n",
              "    </tr>\n",
              "  </tbody>\n",
              "</table>\n",
              "</div>"
            ],
            "text/plain": [
              "   id  cycle  setting1  setting2  ...       s20       s21  cycle_norm  RUL\n",
              "0   1      1  0.632184  0.750000  ...  0.558140  0.661834     0.00000  142\n",
              "1   1      2  0.344828  0.250000  ...  0.682171  0.686827     0.00277  141\n",
              "2   1      3  0.517241  0.583333  ...  0.728682  0.721348     0.00554  140\n",
              "3   1      4  0.741379  0.500000  ...  0.666667  0.662110     0.00831  139\n",
              "4   1      5  0.580460  0.500000  ...  0.658915  0.716377     0.01108  138\n",
              "\n",
              "[5 rows x 28 columns]"
            ]
          },
          "metadata": {
            "tags": []
          },
          "execution_count": 46
        }
      ]
    },
    {
      "cell_type": "code",
      "metadata": {
        "id": "ILnP4SpsiIUH",
        "colab_type": "code",
        "colab": {}
      },
      "source": [
        "test_df =test_df.loc[:,selected_ftr_name]"
      ],
      "execution_count": 0,
      "outputs": []
    },
    {
      "cell_type": "markdown",
      "metadata": {
        "id": "EXT_hoEXiXUb",
        "colab_type": "text"
      },
      "source": [
        "# 生成样本特征"
      ]
    },
    {
      "cell_type": "code",
      "metadata": {
        "id": "rzzUVlynif94",
        "colab_type": "code",
        "colab": {}
      },
      "source": [
        "sequence_length = 50 #设置时间窗口大小\n",
        "sequence_cols = list(selected_ftr_name.difference(['RUL','cycle','id'])) #设置特征(18)"
      ],
      "execution_count": 0,
      "outputs": []
    },
    {
      "cell_type": "code",
      "metadata": {
        "id": "-vw0Arlup7rk",
        "colab_type": "code",
        "colab": {
          "base_uri": "https://localhost:8080/",
          "height": 34
        },
        "outputId": "7c2e5e38-01fb-4a56-91e3-5cea51488dea"
      },
      "source": [
        "len(sequence_cols)"
      ],
      "execution_count": 14,
      "outputs": [
        {
          "output_type": "execute_result",
          "data": {
            "text/plain": [
              "18"
            ]
          },
          "metadata": {
            "tags": []
          },
          "execution_count": 14
        }
      ]
    },
    {
      "cell_type": "code",
      "metadata": {
        "id": "b20ANWWMiKLF",
        "colab_type": "code",
        "colab": {}
      },
      "source": [
        "# pick a large window size of 50 cycles\n",
        "\n",
        "# function to reshape features into (samples, time steps, features) \n",
        "# 生成特征样本\n",
        "def gen_sequence(id_df, seq_length, seq_cols):\n",
        "    \"\"\" Only sequences that meet the window-length are considered, no padding is used. This means for testing\n",
        "    we need to drop those which are below the window-length. An alternative would be to pad sequences so that\n",
        "    we can use shorter ones \n",
        "    只有比时间窗口大的序列会被提取特征，若测试样本的时间序列过小，则被忽视。\n",
        "    另一种方法是对序列进行填充\n",
        "    \"\"\"\n",
        "    # for one id I put all the rows in a single matrix\n",
        "    data_matrix = id_df[seq_cols].values # 获得对应列的值\n",
        "    num_elements = data_matrix.shape[0]\n",
        "    # Iterate over two lists in parallel.\n",
        "    # For example id1 have 192 rows and sequence_length is equal to 50\n",
        "    # so zip iterate over two following list of numbers (0,142),(50,192)\n",
        "    # 0 50 -> from row 0 to row 50\n",
        "    # 1 51 -> from row 1 to row 51\n",
        "    # 2 52 -> from row 2 to row 52\n",
        "    # ...\n",
        "    # 141 191 -> from row 141 to 191\n",
        "    \n",
        "    # zip将数据打包为元组的列表\n",
        "    for start, stop in zip(range(0, num_elements-seq_length), range(seq_length, num_elements)):\n",
        "        yield data_matrix[start:stop, :] #yield 相当于返回\n",
        "        "
      ],
      "execution_count": 0,
      "outputs": []
    },
    {
      "cell_type": "code",
      "metadata": {
        "id": "DEeBufZ-o0Y2",
        "colab_type": "code",
        "colab": {
          "base_uri": "https://localhost:8080/",
          "height": 34
        },
        "outputId": "d164d2f2-7155-4477-9cd4-1c6836766b81"
      },
      "source": [
        "# TODO for debug \n",
        "# 样例测试\n",
        "# val is a list of 192 - 50 = 142 bi-dimensional array (50 rows x 18 columns)\n",
        "val=list(gen_sequence(train_df[train_df['id']==1], sequence_length, sequence_cols))\n",
        "print(len(val))"
      ],
      "execution_count": 57,
      "outputs": [
        {
          "output_type": "stream",
          "text": [
            "142\n"
          ],
          "name": "stdout"
        }
      ]
    },
    {
      "cell_type": "code",
      "metadata": {
        "id": "19JiSKmEo7Nc",
        "colab_type": "code",
        "colab": {}
      },
      "source": [
        "# 对每个发动机生成训练样本\n",
        "# generator for the sequences\n",
        "# transform each id of the train dataset in a sequence\n",
        "seq_gen = (list(gen_sequence(train_df[train_df['id']==id], sequence_length, sequence_cols)) \n",
        "           for id in train_df['id'].unique())"
      ],
      "execution_count": 0,
      "outputs": []
    },
    {
      "cell_type": "code",
      "metadata": {
        "id": "7csjFBDlpqVT",
        "colab_type": "code",
        "colab": {
          "base_uri": "https://localhost:8080/",
          "height": 34
        },
        "outputId": "ab0412ce-d0ac-4e88-a65c-6b16a3fc00a0"
      },
      "source": [
        "# generate sequences and convert to numpy array\n",
        "seq_array = np.concatenate(list(seq_gen)).astype(np.float32)\n",
        "print(seq_array.shape)"
      ],
      "execution_count": 17,
      "outputs": [
        {
          "output_type": "stream",
          "text": [
            "(15631, 50, 18)\n"
          ],
          "name": "stdout"
        }
      ]
    },
    {
      "cell_type": "markdown",
      "metadata": {
        "id": "tfW-mfvPqZil",
        "colab_type": "text"
      },
      "source": [
        "# 生成样本标签"
      ]
    },
    {
      "cell_type": "code",
      "metadata": {
        "id": "bp9XaEZSpsWj",
        "colab_type": "code",
        "colab": {}
      },
      "source": [
        "# function to generate labels\n",
        "def gen_labels(id_df, seq_length, label):\n",
        "    \"\"\" Only sequences that meet the window-length are considered, no padding is used. This means for testing\n",
        "    we need to drop those which are below the window-length. An alternative would be to pad sequences so that\n",
        "    we can use shorter ones \"\"\"\n",
        "    # For one id I put all the labels in a single matrix.\n",
        "    # For example:\n",
        "    # [[1]\n",
        "    # [4]\n",
        "    # [1]\n",
        "    # [5]\n",
        "    # [9]\n",
        "    # ...\n",
        "    # [200]] \n",
        "    data_matrix = id_df[label].values\n",
        "    num_elements = data_matrix.shape[0]\n",
        "    # I have to remove the first seq_length labels\n",
        "    # because for one id the first sequence of seq_length size have as target\n",
        "    # the last label (the previus ones are discarded).\n",
        "    # All the next id's sequences will have associated step by step one label as target.\n",
        "    return data_matrix[seq_length:num_elements, :]"
      ],
      "execution_count": 0,
      "outputs": []
    },
    {
      "cell_type": "code",
      "metadata": {
        "id": "7gM8UsOqqcPf",
        "colab_type": "code",
        "colab": {
          "base_uri": "https://localhost:8080/",
          "height": 34
        },
        "outputId": "bfa0fc24-370f-4733-d98c-38752f29dd86"
      },
      "source": [
        "# generate labels\n",
        "label_gen = [gen_labels(train_df[train_df['id']==id], sequence_length, ['RUL']) \n",
        "             for id in train_df['id'].unique()]\n",
        "\n",
        "label_array = np.concatenate(label_gen).astype(np.float32)\n",
        "label_array.shape"
      ],
      "execution_count": 19,
      "outputs": [
        {
          "output_type": "execute_result",
          "data": {
            "text/plain": [
              "(15631, 1)"
            ]
          },
          "metadata": {
            "tags": []
          },
          "execution_count": 19
        }
      ]
    },
    {
      "cell_type": "markdown",
      "metadata": {
        "id": "SMxhsjmRqh-y",
        "colab_type": "text"
      },
      "source": [
        "# 构建深度网络"
      ]
    },
    {
      "cell_type": "code",
      "metadata": {
        "id": "Jrh9naccqqRq",
        "colab_type": "code",
        "colab": {}
      },
      "source": [
        "# define path to save model\n",
        "model_path = 'LSTM_cmpass_model1.h5'"
      ],
      "execution_count": 0,
      "outputs": []
    },
    {
      "cell_type": "code",
      "metadata": {
        "id": "qa59A4XpqeFU",
        "colab_type": "code",
        "colab": {
          "base_uri": "https://localhost:8080/",
          "height": 2264
        },
        "outputId": "d257c137-7c3b-463f-9daa-f8173f394b0f"
      },
      "source": [
        "def r2_keras(y_true, y_pred):\n",
        "    \"\"\"Coefficient of Determination \n",
        "    \"\"\"\n",
        "    SS_res =  K.sum(K.square( y_true - y_pred ))\n",
        "    SS_tot = K.sum(K.square( y_true - K.mean(y_true) ) )\n",
        "    return ( 1 - SS_res/(SS_tot + K.epsilon()) )\n",
        "\n",
        "# Next, we build a deep network. \n",
        "# The first layer is an LSTM layer with 100 units followed by another LSTM layer with 50 units. \n",
        "# Dropout is also applied after each LSTM layer to control overfitting. \n",
        "# 采用Dropout防止过拟合\n",
        "# Final layer is a Dense output layer with single unit and linear activation since this is a regression problem.\n",
        "# 由于此问题是回归问题，因此在最后采用单一神经元以及一个线性激活函数\n",
        "\n",
        "nb_features = seq_array.shape[2] # 特征数目：25\n",
        "nb_out = label_array.shape[1] # 输出大小：1\n",
        "\n",
        "# 定义一个sequential模型（多个网络层线性堆叠而成）\n",
        "model = Sequential()\n",
        "# 向模型中加入layer\n",
        "model.add(LSTM(\n",
        "         input_shape=(sequence_length, nb_features),#第一层需要接收一个样本数据shape的参数\n",
        "         units=100,\n",
        "         return_sequences=True))\n",
        "model.add(Dropout(0.2))\n",
        "model.add(LSTM(\n",
        "          units=50,\n",
        "          return_sequences=False))\n",
        "model.add(Dropout(0.2)) #增加一个Dropout\n",
        "model.add(Dense(units=nb_out)) #密集模块\n",
        "model.add(Activation(\"linear\")) # 线性激活函数\n",
        "# 编译模型，对model进行配置\n",
        "model.compile(loss='mean_squared_error', optimizer='rmsprop',metrics=['mae',r2_keras])\n",
        "# 采用MSE进行模型训练，采用rmsprop作为优化器，采用mae和自己定义的r2_keras进行性能评估\n",
        "\n",
        "print(model.summary())\n",
        "\n",
        "# fit the network\n",
        "# 模型训练\n",
        "history = model.fit(seq_array, label_array, epochs=50, batch_size=200, validation_split=0.05, verbose=2,\n",
        "          callbacks = [keras.callbacks.EarlyStopping(monitor='val_loss', min_delta=0, patience=10, verbose=0, mode='min'),\n",
        "                       keras.callbacks.ModelCheckpoint(model_path,monitor='val_loss', save_best_only=True, mode='min', verbose=0)]\n",
        "          )\n",
        "\n",
        "# list all data in history\n",
        "print(history.history.keys())"
      ],
      "execution_count": 22,
      "outputs": [
        {
          "output_type": "stream",
          "text": [
            "WARNING:tensorflow:From /usr/local/lib/python3.6/dist-packages/tensorflow/python/framework/op_def_library.py:263: colocate_with (from tensorflow.python.framework.ops) is deprecated and will be removed in a future version.\n",
            "Instructions for updating:\n",
            "Colocations handled automatically by placer.\n",
            "WARNING:tensorflow:From /usr/local/lib/python3.6/dist-packages/keras/backend/tensorflow_backend.py:3445: calling dropout (from tensorflow.python.ops.nn_ops) with keep_prob is deprecated and will be removed in a future version.\n",
            "Instructions for updating:\n",
            "Please use `rate` instead of `keep_prob`. Rate should be set to `rate = 1 - keep_prob`.\n",
            "_________________________________________________________________\n",
            "Layer (type)                 Output Shape              Param #   \n",
            "=================================================================\n",
            "lstm_1 (LSTM)                (None, 50, 100)           47600     \n",
            "_________________________________________________________________\n",
            "dropout_1 (Dropout)          (None, 50, 100)           0         \n",
            "_________________________________________________________________\n",
            "lstm_2 (LSTM)                (None, 50)                30200     \n",
            "_________________________________________________________________\n",
            "dropout_2 (Dropout)          (None, 50)                0         \n",
            "_________________________________________________________________\n",
            "dense_1 (Dense)              (None, 1)                 51        \n",
            "_________________________________________________________________\n",
            "activation_1 (Activation)    (None, 1)                 0         \n",
            "=================================================================\n",
            "Total params: 77,851\n",
            "Trainable params: 77,851\n",
            "Non-trainable params: 0\n",
            "_________________________________________________________________\n",
            "None\n",
            "WARNING:tensorflow:From /usr/local/lib/python3.6/dist-packages/tensorflow/python/ops/math_ops.py:3066: to_int32 (from tensorflow.python.ops.math_ops) is deprecated and will be removed in a future version.\n",
            "Instructions for updating:\n",
            "Use tf.cast instead.\n",
            "Train on 14849 samples, validate on 782 samples\n",
            "Epoch 1/50\n",
            " - 28s - loss: 8739.4853 - mean_absolute_error: 74.7453 - r2_keras: -1.7001e+00 - val_loss: 8164.9439 - val_mean_absolute_error: 71.9124 - val_r2_keras: -2.4578e+00\n",
            "Epoch 2/50\n",
            " - 26s - loss: 8081.5900 - mean_absolute_error: 70.9268 - r2_keras: -1.4913e+00 - val_loss: 7653.5579 - val_mean_absolute_error: 68.9417 - val_r2_keras: -2.2150e+00\n",
            "Epoch 3/50\n",
            " - 26s - loss: 7579.1706 - mean_absolute_error: 68.0268 - r2_keras: -1.3371e+00 - val_loss: 7169.1595 - val_mean_absolute_error: 66.1459 - val_r2_keras: -1.9867e+00\n",
            "Epoch 4/50\n",
            " - 26s - loss: 7109.4571 - mean_absolute_error: 65.3303 - r2_keras: -1.1903e+00 - val_loss: 6715.1303 - val_mean_absolute_error: 63.5420 - val_r2_keras: -1.7746e+00\n",
            "Epoch 5/50\n",
            " - 26s - loss: 6667.0450 - mean_absolute_error: 62.8610 - r2_keras: -1.0535e+00 - val_loss: 6285.7790 - val_mean_absolute_error: 61.0967 - val_r2_keras: -1.5760e+00\n",
            "Epoch 6/50\n",
            " - 26s - loss: 6244.5465 - mean_absolute_error: 60.4563 - r2_keras: -9.2325e-01 - val_loss: 5885.5797 - val_mean_absolute_error: 58.8371 - val_r2_keras: -1.3930e+00\n",
            "Epoch 7/50\n",
            " - 28s - loss: 5860.4476 - mean_absolute_error: 58.3322 - r2_keras: -8.0510e-01 - val_loss: 5517.0840 - val_mean_absolute_error: 56.7779 - val_r2_keras: -1.2267e+00\n",
            "Epoch 8/50\n",
            " - 26s - loss: 5506.1871 - mean_absolute_error: 56.3678 - r2_keras: -6.9347e-01 - val_loss: 5170.3327 - val_mean_absolute_error: 54.8610 - val_r2_keras: -1.0726e+00\n",
            "Epoch 9/50\n",
            " - 26s - loss: 5160.6766 - mean_absolute_error: 54.5150 - r2_keras: -5.8681e-01 - val_loss: 4853.8301 - val_mean_absolute_error: 53.1343 - val_r2_keras: -9.3451e-01\n",
            "Epoch 10/50\n",
            " - 26s - loss: 4855.3860 - mean_absolute_error: 52.8588 - r2_keras: -4.9140e-01 - val_loss: 4564.5946 - val_mean_absolute_error: 51.5841 - val_r2_keras: -8.1111e-01\n",
            "Epoch 11/50\n",
            " - 26s - loss: 4591.6821 - mean_absolute_error: 51.5112 - r2_keras: -4.1049e-01 - val_loss: 4306.1383 - val_mean_absolute_error: 50.2250 - val_r2_keras: -7.0383e-01\n",
            "Epoch 12/50\n",
            " - 26s - loss: 4332.4568 - mean_absolute_error: 50.1580 - r2_keras: -3.3131e-01 - val_loss: 4071.8849 - val_mean_absolute_error: 49.0229 - val_r2_keras: -6.0991e-01\n",
            "Epoch 13/50\n",
            " - 26s - loss: 4112.1766 - mean_absolute_error: 49.0826 - r2_keras: -2.6285e-01 - val_loss: 3864.8226 - val_mean_absolute_error: 47.9964 - val_r2_keras: -5.3060e-01\n",
            "Epoch 14/50\n",
            " - 26s - loss: 3920.0648 - mean_absolute_error: 48.1576 - r2_keras: -2.0356e-01 - val_loss: 3688.6696 - val_mean_absolute_error: 47.1587 - val_r2_keras: -4.6717e-01\n",
            "Epoch 15/50\n",
            " - 26s - loss: 3752.5431 - mean_absolute_error: 47.3616 - r2_keras: -1.5198e-01 - val_loss: 3535.6199 - val_mean_absolute_error: 46.4744 - val_r2_keras: -4.1675e-01\n",
            "Epoch 16/50\n",
            " - 26s - loss: 3619.9259 - mean_absolute_error: 46.8813 - r2_keras: -1.1252e-01 - val_loss: 3412.5695 - val_mean_absolute_error: 45.9738 - val_r2_keras: -3.8153e-01\n",
            "Epoch 17/50\n",
            " - 26s - loss: 3503.6210 - mean_absolute_error: 46.4650 - r2_keras: -7.6169e-02 - val_loss: 3320.0748 - val_mean_absolute_error: 45.6494 - val_r2_keras: -3.6076e-01\n",
            "Epoch 18/50\n",
            " - 26s - loss: 3426.4798 - mean_absolute_error: 46.1992 - r2_keras: -5.1852e-02 - val_loss: 3245.8463 - val_mean_absolute_error: 45.4405 - val_r2_keras: -3.5044e-01\n",
            "Epoch 19/50\n",
            " - 26s - loss: 3241.2666 - mean_absolute_error: 44.3836 - r2_keras: 0.0048 - val_loss: 3054.6710 - val_mean_absolute_error: 44.0613 - val_r2_keras: -2.8307e-01\n",
            "Epoch 20/50\n",
            " - 26s - loss: 2690.1587 - mean_absolute_error: 37.7721 - r2_keras: 0.1739 - val_loss: 2476.8651 - val_mean_absolute_error: 36.0066 - val_r2_keras: 0.0923\n",
            "Epoch 21/50\n",
            " - 26s - loss: 2311.0060 - mean_absolute_error: 32.9040 - r2_keras: 0.2931 - val_loss: 2529.0606 - val_mean_absolute_error: 39.5193 - val_r2_keras: -6.3901e-02\n",
            "Epoch 22/50\n",
            " - 26s - loss: 2112.1774 - mean_absolute_error: 30.6943 - r2_keras: 0.3540 - val_loss: 1825.8711 - val_mean_absolute_error: 28.4419 - val_r2_keras: 0.3336\n",
            "Epoch 23/50\n",
            " - 26s - loss: 1933.1831 - mean_absolute_error: 28.6682 - r2_keras: 0.4094 - val_loss: 2047.2064 - val_mean_absolute_error: 30.7757 - val_r2_keras: 0.2861\n",
            "Epoch 24/50\n",
            " - 26s - loss: 1835.5095 - mean_absolute_error: 28.1205 - r2_keras: 0.4374 - val_loss: 1718.8266 - val_mean_absolute_error: 29.4659 - val_r2_keras: 0.3224\n",
            "Epoch 25/50\n",
            " - 26s - loss: 1666.5005 - mean_absolute_error: 26.2656 - r2_keras: 0.4910 - val_loss: 1410.8829 - val_mean_absolute_error: 22.2688 - val_r2_keras: 0.5315\n",
            "Epoch 26/50\n",
            " - 26s - loss: 1587.7201 - mean_absolute_error: 25.6746 - r2_keras: 0.5162 - val_loss: 1366.9522 - val_mean_absolute_error: 23.7074 - val_r2_keras: 0.4852\n",
            "Epoch 27/50\n",
            " - 26s - loss: 1455.0783 - mean_absolute_error: 24.2161 - r2_keras: 0.5555 - val_loss: 1281.8832 - val_mean_absolute_error: 20.9528 - val_r2_keras: 0.5783\n",
            "Epoch 28/50\n",
            " - 26s - loss: 1349.2741 - mean_absolute_error: 22.9873 - r2_keras: 0.5877 - val_loss: 1243.5885 - val_mean_absolute_error: 24.0539 - val_r2_keras: 0.5234\n",
            "Epoch 29/50\n",
            " - 26s - loss: 1253.8165 - mean_absolute_error: 22.1013 - r2_keras: 0.6184 - val_loss: 1158.3256 - val_mean_absolute_error: 21.8045 - val_r2_keras: 0.5514\n",
            "Epoch 30/50\n",
            " - 26s - loss: 1169.0754 - mean_absolute_error: 21.1080 - r2_keras: 0.6442 - val_loss: 993.3455 - val_mean_absolute_error: 18.5533 - val_r2_keras: 0.6620\n",
            "Epoch 31/50\n",
            " - 26s - loss: 1091.5444 - mean_absolute_error: 20.3542 - r2_keras: 0.6667 - val_loss: 1013.4453 - val_mean_absolute_error: 18.6896 - val_r2_keras: 0.6637\n",
            "Epoch 32/50\n",
            " - 26s - loss: 1036.7396 - mean_absolute_error: 19.8405 - r2_keras: 0.6834 - val_loss: 939.5164 - val_mean_absolute_error: 19.2388 - val_r2_keras: 0.6626\n",
            "Epoch 33/50\n",
            " - 26s - loss: 978.6732 - mean_absolute_error: 19.3081 - r2_keras: 0.7021 - val_loss: 867.8005 - val_mean_absolute_error: 19.0176 - val_r2_keras: 0.6620\n",
            "Epoch 34/50\n",
            " - 26s - loss: 932.1687 - mean_absolute_error: 18.8648 - r2_keras: 0.7161 - val_loss: 795.5635 - val_mean_absolute_error: 15.9078 - val_r2_keras: 0.7247\n",
            "Epoch 35/50\n",
            " - 26s - loss: 907.0760 - mean_absolute_error: 18.5687 - r2_keras: 0.7239 - val_loss: 830.6281 - val_mean_absolute_error: 18.5119 - val_r2_keras: 0.6668\n",
            "Epoch 36/50\n",
            " - 26s - loss: 851.9452 - mean_absolute_error: 17.9807 - r2_keras: 0.7395 - val_loss: 906.3191 - val_mean_absolute_error: 22.3572 - val_r2_keras: 0.5938\n",
            "Epoch 37/50\n",
            " - 26s - loss: 815.7747 - mean_absolute_error: 17.7355 - r2_keras: 0.7516 - val_loss: 766.6605 - val_mean_absolute_error: 19.1592 - val_r2_keras: 0.6619\n",
            "Epoch 38/50\n",
            " - 26s - loss: 797.5940 - mean_absolute_error: 17.5950 - r2_keras: 0.7572 - val_loss: 834.3784 - val_mean_absolute_error: 17.3246 - val_r2_keras: 0.6882\n",
            "Epoch 39/50\n",
            " - 26s - loss: 774.9104 - mean_absolute_error: 17.4148 - r2_keras: 0.7628 - val_loss: 697.9058 - val_mean_absolute_error: 17.3673 - val_r2_keras: 0.6969\n",
            "Epoch 40/50\n",
            " - 26s - loss: 752.9071 - mean_absolute_error: 17.2350 - r2_keras: 0.7702 - val_loss: 636.7096 - val_mean_absolute_error: 15.3969 - val_r2_keras: 0.7646\n",
            "Epoch 41/50\n",
            " - 26s - loss: 737.4036 - mean_absolute_error: 17.0335 - r2_keras: 0.7747 - val_loss: 701.3594 - val_mean_absolute_error: 16.5698 - val_r2_keras: 0.7426\n",
            "Epoch 42/50\n",
            " - 26s - loss: 723.1898 - mean_absolute_error: 16.8200 - r2_keras: 0.7786 - val_loss: 600.1902 - val_mean_absolute_error: 15.5560 - val_r2_keras: 0.7466\n",
            "Epoch 43/50\n",
            " - 26s - loss: 699.5063 - mean_absolute_error: 16.6501 - r2_keras: 0.7864 - val_loss: 613.2191 - val_mean_absolute_error: 16.9219 - val_r2_keras: 0.7270\n",
            "Epoch 44/50\n",
            " - 26s - loss: 690.3712 - mean_absolute_error: 16.5785 - r2_keras: 0.7895 - val_loss: 617.4994 - val_mean_absolute_error: 15.9143 - val_r2_keras: 0.7095\n",
            "Epoch 45/50\n",
            " - 26s - loss: 679.2273 - mean_absolute_error: 16.3581 - r2_keras: 0.7925 - val_loss: 673.1639 - val_mean_absolute_error: 17.7742 - val_r2_keras: 0.7030\n",
            "Epoch 46/50\n",
            " - 26s - loss: 671.0559 - mean_absolute_error: 16.2918 - r2_keras: 0.7944 - val_loss: 605.4461 - val_mean_absolute_error: 14.8996 - val_r2_keras: 0.7513\n",
            "Epoch 47/50\n",
            " - 26s - loss: 650.5458 - mean_absolute_error: 16.0550 - r2_keras: 0.8011 - val_loss: 581.9818 - val_mean_absolute_error: 15.3691 - val_r2_keras: 0.7267\n",
            "Epoch 48/50\n",
            " - 26s - loss: 639.6967 - mean_absolute_error: 15.9981 - r2_keras: 0.8054 - val_loss: 758.4796 - val_mean_absolute_error: 15.6320 - val_r2_keras: 0.7360\n",
            "Epoch 49/50\n",
            " - 26s - loss: 631.4120 - mean_absolute_error: 15.8140 - r2_keras: 0.8074 - val_loss: 586.4787 - val_mean_absolute_error: 15.5147 - val_r2_keras: 0.7231\n",
            "Epoch 50/50\n",
            " - 26s - loss: 613.2167 - mean_absolute_error: 15.6253 - r2_keras: 0.8125 - val_loss: 840.7122 - val_mean_absolute_error: 19.7126 - val_r2_keras: 0.5264\n",
            "dict_keys(['val_loss', 'val_mean_absolute_error', 'val_r2_keras', 'loss', 'mean_absolute_error', 'r2_keras'])\n"
          ],
          "name": "stdout"
        }
      ]
    },
    {
      "cell_type": "code",
      "metadata": {
        "id": "LpSnx0r2DQks",
        "colab_type": "code",
        "colab": {}
      },
      "source": [
        ""
      ],
      "execution_count": 0,
      "outputs": []
    },
    {
      "cell_type": "code",
      "metadata": {
        "id": "vPwIUegnqszf",
        "colab_type": "code",
        "colab": {
          "base_uri": "https://localhost:8080/",
          "height": 802
        },
        "outputId": "7f0af125-2462-4839-cb2f-06c364ec3484"
      },
      "source": [
        "# fit the network\n",
        "# 模型训练\n",
        "history = model.fit(seq_array, label_array, epochs=50, batch_size=200, validation_split=0.05, verbose=2,\n",
        "          callbacks = [keras.callbacks.EarlyStopping(monitor='val_loss', min_delta=0, patience=10, verbose=0, mode='min'),\n",
        "                       keras.callbacks.ModelCheckpoint(model_path,monitor='val_loss', save_best_only=True, mode='min', verbose=0)]\n",
        "          )"
      ],
      "execution_count": 23,
      "outputs": [
        {
          "output_type": "stream",
          "text": [
            "Train on 14849 samples, validate on 782 samples\n",
            "Epoch 1/50\n",
            " - 26s - loss: 606.9260 - mean_absolute_error: 15.5290 - r2_keras: 0.8144 - val_loss: 896.7807 - val_mean_absolute_error: 19.5974 - val_r2_keras: 0.4812\n",
            "Epoch 2/50\n",
            " - 26s - loss: 597.1045 - mean_absolute_error: 15.3777 - r2_keras: 0.8171 - val_loss: 620.2856 - val_mean_absolute_error: 16.2761 - val_r2_keras: 0.7221\n",
            "Epoch 3/50\n",
            " - 26s - loss: 587.6749 - mean_absolute_error: 15.1665 - r2_keras: 0.8213 - val_loss: 730.2551 - val_mean_absolute_error: 16.9858 - val_r2_keras: 0.6999\n",
            "Epoch 4/50\n",
            " - 26s - loss: 574.6524 - mean_absolute_error: 15.0652 - r2_keras: 0.8238 - val_loss: 737.6172 - val_mean_absolute_error: 19.9982 - val_r2_keras: 0.6787\n",
            "Epoch 5/50\n",
            " - 26s - loss: 564.1780 - mean_absolute_error: 14.9722 - r2_keras: 0.8275 - val_loss: 741.3241 - val_mean_absolute_error: 16.5970 - val_r2_keras: 0.6115\n",
            "Epoch 6/50\n",
            " - 26s - loss: 553.3881 - mean_absolute_error: 14.7131 - r2_keras: 0.8305 - val_loss: 632.1895 - val_mean_absolute_error: 15.7627 - val_r2_keras: 0.7257\n",
            "Epoch 7/50\n",
            " - 26s - loss: 522.4363 - mean_absolute_error: 14.4468 - r2_keras: 0.8405 - val_loss: 675.3200 - val_mean_absolute_error: 15.4671 - val_r2_keras: 0.7105\n",
            "Epoch 8/50\n",
            " - 26s - loss: 519.6682 - mean_absolute_error: 14.4056 - r2_keras: 0.8405 - val_loss: 874.4253 - val_mean_absolute_error: 18.7178 - val_r2_keras: 0.5265\n",
            "Epoch 9/50\n",
            " - 26s - loss: 509.0574 - mean_absolute_error: 14.2370 - r2_keras: 0.8439 - val_loss: 937.6918 - val_mean_absolute_error: 18.9802 - val_r2_keras: 0.4850\n",
            "Epoch 10/50\n",
            " - 26s - loss: 493.0904 - mean_absolute_error: 14.1278 - r2_keras: 0.8491 - val_loss: 770.6316 - val_mean_absolute_error: 17.3265 - val_r2_keras: 0.6244\n",
            "Epoch 11/50\n",
            " - 26s - loss: 488.6973 - mean_absolute_error: 13.9400 - r2_keras: 0.8496 - val_loss: 948.1703 - val_mean_absolute_error: 19.6976 - val_r2_keras: 0.5926\n",
            "Epoch 12/50\n",
            " - 26s - loss: 485.8389 - mean_absolute_error: 13.9003 - r2_keras: 0.8516 - val_loss: 540.8949 - val_mean_absolute_error: 15.5734 - val_r2_keras: 0.6863\n",
            "Epoch 13/50\n",
            " - 26s - loss: 457.8710 - mean_absolute_error: 13.6331 - r2_keras: 0.8594 - val_loss: 1058.0652 - val_mean_absolute_error: 22.1635 - val_r2_keras: 0.3903\n",
            "Epoch 14/50\n",
            " - 26s - loss: 463.8973 - mean_absolute_error: 13.7075 - r2_keras: 0.8571 - val_loss: 994.6238 - val_mean_absolute_error: 19.4622 - val_r2_keras: 0.4594\n",
            "Epoch 15/50\n",
            " - 26s - loss: 444.4207 - mean_absolute_error: 13.4628 - r2_keras: 0.8631 - val_loss: 1133.8338 - val_mean_absolute_error: 21.6193 - val_r2_keras: 0.3724\n",
            "Epoch 16/50\n",
            " - 26s - loss: 449.1687 - mean_absolute_error: 13.4795 - r2_keras: 0.8623 - val_loss: 1094.8297 - val_mean_absolute_error: 20.3233 - val_r2_keras: 0.5162\n",
            "Epoch 17/50\n",
            " - 26s - loss: 436.7900 - mean_absolute_error: 13.2762 - r2_keras: 0.8658 - val_loss: 1383.4037 - val_mean_absolute_error: 23.6759 - val_r2_keras: 0.1864\n",
            "Epoch 18/50\n",
            " - 26s - loss: 425.9025 - mean_absolute_error: 13.1825 - r2_keras: 0.8693 - val_loss: 913.9110 - val_mean_absolute_error: 19.1813 - val_r2_keras: 0.5426\n",
            "Epoch 19/50\n",
            " - 26s - loss: 416.8562 - mean_absolute_error: 13.0785 - r2_keras: 0.8724 - val_loss: 862.3558 - val_mean_absolute_error: 17.9251 - val_r2_keras: 0.5382\n",
            "Epoch 20/50\n",
            " - 26s - loss: 422.4556 - mean_absolute_error: 13.0675 - r2_keras: 0.8709 - val_loss: 1090.6747 - val_mean_absolute_error: 20.3509 - val_r2_keras: 0.3899\n",
            "Epoch 21/50\n",
            " - 26s - loss: 414.8765 - mean_absolute_error: 12.9794 - r2_keras: 0.8723 - val_loss: 951.2285 - val_mean_absolute_error: 19.4763 - val_r2_keras: 0.4496\n",
            "Epoch 22/50\n",
            " - 26s - loss: 400.0317 - mean_absolute_error: 12.7506 - r2_keras: 0.8771 - val_loss: 953.2979 - val_mean_absolute_error: 18.6669 - val_r2_keras: 0.4503\n"
          ],
          "name": "stdout"
        }
      ]
    },
    {
      "cell_type": "code",
      "metadata": {
        "id": "IdX6cdGNG_X-",
        "colab_type": "code",
        "colab": {
          "base_uri": "https://localhost:8080/",
          "height": 54
        },
        "outputId": "8e039c61-e69c-4e77-e629-71b438df82e1"
      },
      "source": [
        "# list all data in history\n",
        "print(history.history.keys())"
      ],
      "execution_count": 24,
      "outputs": [
        {
          "output_type": "stream",
          "text": [
            "dict_keys(['val_loss', 'val_mean_absolute_error', 'val_r2_keras', 'loss', 'mean_absolute_error', 'r2_keras'])\n"
          ],
          "name": "stdout"
        }
      ]
    },
    {
      "cell_type": "code",
      "metadata": {
        "id": "lepKgBnuKr_8",
        "colab_type": "code",
        "colab": {
          "base_uri": "https://localhost:8080/",
          "height": 621
        },
        "outputId": "cdfdb9f6-d2bf-4e33-e402-41ddda70444c"
      },
      "source": [
        "# summarize history for R^2\n",
        "fig_acc = plt.figure(figsize=(10, 10))\n",
        "plt.plot(history.history['r2_keras'])\n",
        "plt.plot(history.history['val_r2_keras'])\n",
        "plt.title('model r^2')\n",
        "plt.ylabel('R^2')\n",
        "plt.xlabel('epoch')\n",
        "plt.legend(['train', 'test'], loc='upper left')\n",
        "plt.show()\n",
        "fig_acc.savefig(\"model_r2.png\")"
      ],
      "execution_count": 25,
      "outputs": [
        {
          "output_type": "display_data",
          "data": {
            "image/png": "[encoded data removed]",
            "text/plain": [
              "<Figure size 720x720 with 1 Axes>"
            ]
          },
          "metadata": {
            "tags": []
          }
        }
      ]
    },
    {
      "cell_type": "code",
      "metadata": {
        "id": "J_Es4whmLEwW",
        "colab_type": "code",
        "colab": {
          "base_uri": "https://localhost:8080/",
          "height": 621
        },
        "outputId": "18cac5ab-73d4-4611-91d8-9297c78b580d"
      },
      "source": [
        "# summarize history for MAE\n",
        "fig_acc = plt.figure(figsize=(10, 10))\n",
        "plt.plot(history.history['mean_absolute_error'])\n",
        "plt.plot(history.history['val_mean_absolute_error'])\n",
        "plt.title('model MAE')\n",
        "plt.ylabel('MAE')\n",
        "plt.xlabel('epoch')\n",
        "plt.legend(['train', 'test'], loc='upper left')\n",
        "plt.show()\n",
        "fig_acc.savefig(\"model_mae.png\")"
      ],
      "execution_count": 26,
      "outputs": [
        {
          "output_type": "display_data",
          "data": {
            "image/png": "[encoded data removed]",
            "text/plain": [
              "<Figure size 720x720 with 1 Axes>"
            ]
          },
          "metadata": {
            "tags": []
          }
        }
      ]
    },
    {
      "cell_type": "code",
      "metadata": {
        "id": "qRiTHbEnLMLC",
        "colab_type": "code",
        "colab": {
          "base_uri": "https://localhost:8080/",
          "height": 621
        },
        "outputId": "77a24d98-dc54-46ec-c8b8-5bbbef6c04ae"
      },
      "source": [
        "# summarize history for Loss\n",
        "fig_acc = plt.figure(figsize=(10, 10))\n",
        "plt.plot(history.history['loss'])\n",
        "plt.plot(history.history['val_loss'])\n",
        "plt.title('model loss')\n",
        "plt.ylabel('loss')\n",
        "plt.xlabel('epoch')\n",
        "plt.legend(['train', 'test'], loc='upper left')\n",
        "plt.show()\n",
        "fig_acc.savefig(\"model_regression_loss.png\")"
      ],
      "execution_count": 27,
      "outputs": [
        {
          "output_type": "display_data",
          "data": {
            "image/png": "[encoded data removed]",
            "text/plain": [
              "<Figure size 720x720 with 1 Axes>"
            ]
          },
          "metadata": {
            "tags": []
          }
        }
      ]
    },
    {
      "cell_type": "code",
      "metadata": {
        "id": "S4T6k2WaLOzA",
        "colab_type": "code",
        "colab": {}
      },
      "source": [
        ""
      ],
      "execution_count": 0,
      "outputs": []
    },
    {
      "cell_type": "code",
      "metadata": {
        "id": "7pn1CasKFENw",
        "colab_type": "code",
        "outputId": "fc84d876-2d44-4ec7-f665-5f538b3015bf",
        "colab": {
          "base_uri": "https://localhost:8080/",
          "height": 119
        }
      },
      "source": [
        "# training metrics\n",
        "scores = model.evaluate(seq_array, label_array, verbose=1, batch_size=200)\n",
        "print('\\nMAE: {}'.format(scores[1]))\n",
        "print('\\nR^2: {}'.format(scores[2]))\n",
        "\n",
        "y_pred = model.predict(seq_array,verbose=1, batch_size=200)\n",
        "y_true = label_array\n",
        "\n",
        "test_set = pd.DataFrame(y_pred)\n",
        "test_set.to_csv('submit_train.csv', index = None)"
      ],
      "execution_count": 28,
      "outputs": [
        {
          "output_type": "stream",
          "text": [
            "15631/15631 [==============================] - 7s 480us/step\n",
            "\n",
            "MAE: 12.075915369006115\n",
            "\n",
            "R^2: 0.8509904890156214\n",
            "15631/15631 [==============================] - 8s 495us/step\n"
          ],
          "name": "stdout"
        }
      ]
    },
    {
      "cell_type": "code",
      "metadata": {
        "id": "Aj9_Xr8oG6rY",
        "colab_type": "code",
        "colab": {}
      },
      "source": [
        "from sklearn.metrics import mean_squared_error,mean_absolute_error,r2_score"
      ],
      "execution_count": 0,
      "outputs": []
    },
    {
      "cell_type": "code",
      "metadata": {
        "id": "xv0djKClIh4K",
        "colab_type": "code",
        "colab": {}
      },
      "source": [
        "def RHS_score(y_pred, y_true):\n",
        "  delta = y_pred-y_true\n",
        "  s1 = np.exp(-delta[delta<0]/13)-1\n",
        "  s2 = np.exp(delta[delta>=0]/10)-1\n",
        "  rhs = (np.sum(s1)+np.sum(s2))/len(delta)\n",
        "  return rhs"
      ],
      "execution_count": 0,
      "outputs": []
    },
    {
      "cell_type": "code",
      "metadata": {
        "id": "ZJS_ZuP-FFZQ",
        "colab_type": "code",
        "colab": {}
      },
      "source": [
        "delta = y_pred-y_true"
      ],
      "execution_count": 0,
      "outputs": []
    },
    {
      "cell_type": "code",
      "metadata": {
        "id": "utjOCjB0LdGd",
        "colab_type": "code",
        "colab": {}
      },
      "source": [
        ""
      ],
      "execution_count": 0,
      "outputs": []
    },
    {
      "cell_type": "code",
      "metadata": {
        "id": "W7BMaFscGGVG",
        "colab_type": "code",
        "outputId": "890a7a67-917a-4850-da22-b8ba312fe041",
        "colab": {
          "base_uri": "https://localhost:8080/",
          "height": 102
        }
      },
      "source": [
        "mse_valid = np.sum((y_pred - y_true)**2)/len(y_true)\n",
        "rmse_valid = mse_valid**0.5\n",
        "mae_valid = np.sum(np.absolute(y_pred - y_true))/len(y_true)\n",
        "r2_valid = 1 - mse_valid/np.var(y_true)\n",
        "rhs_valid = RHS_score(y_pred,y_true)\n",
        "print('mse:',mse_valid)\n",
        "print('rmse:',rmse_valid)\n",
        "print('mae:',mae_valid)\n",
        "print('r2:',r2_valid)\n",
        "print('rhs:',rhs_valid)"
      ],
      "execution_count": 32,
      "outputs": [
        {
          "output_type": "stream",
          "text": [
            "mse: 377.39428059625106\n",
            "rmse: 19.426638427588315\n",
            "mae: 12.075915848314247\n",
            "r2: 0.8844198311195588\n",
            "rhs: 77.69869969931547\n"
          ],
          "name": "stdout"
        }
      ]
    },
    {
      "cell_type": "code",
      "metadata": {
        "id": "A24lnnBlVEIb",
        "colab_type": "code",
        "colab": {}
      },
      "source": [
        "model.save(model_path)"
      ],
      "execution_count": 0,
      "outputs": []
    },
    {
      "cell_type": "code",
      "metadata": {
        "id": "XBADN_pZVarx",
        "colab_type": "code",
        "outputId": "3bed04f0-bb19-49ba-f747-e9d59fbafc36",
        "colab": {
          "base_uri": "https://localhost:8080/",
          "height": 102
        }
      },
      "source": [
        "scores = model.evaluate(seq_array, label_array, verbose=1, batch_size=200)\n",
        "print('\\nMAE: {}'.format(scores[1]))\n",
        "print('\\nR^2: {}'.format(scores[2]))"
      ],
      "execution_count": 35,
      "outputs": [
        {
          "output_type": "stream",
          "text": [
            "15631/15631 [==============================] - 8s 480us/step\n",
            "\n",
            "MAE: 12.075915369006115\n",
            "\n",
            "R^2: 0.8509904890156214\n"
          ],
          "name": "stdout"
        }
      ]
    },
    {
      "cell_type": "code",
      "metadata": {
        "id": "0R7vKJH_XCU9",
        "colab_type": "code",
        "outputId": "e3abd246-1078-4866-c004-d3bce59ec79d",
        "colab": {
          "base_uri": "https://localhost:8080/",
          "height": 34
        }
      },
      "source": [
        "y_pred.shape"
      ],
      "execution_count": 0,
      "outputs": [
        {
          "output_type": "execute_result",
          "data": {
            "text/plain": [
              "(15631, 1)"
            ]
          },
          "metadata": {
            "tags": []
          },
          "execution_count": 76
        }
      ]
    },
    {
      "cell_type": "code",
      "metadata": {
        "id": "7YwuCyWWXM4f",
        "colab_type": "code",
        "colab": {}
      },
      "source": [
        "# We pick the last sequence for each id in the test data\n",
        "seq_array_test_last = [test_df[test_df['id']==id][sequence_cols].values[-sequence_length:] \n",
        "                       for id in test_df['id'].unique() if len(test_df[test_df['id']==id]) >= sequence_length]\n",
        "\n",
        "seq_array_test_last = np.asarray(seq_array_test_last).astype(np.float32)\n",
        "#print(\"seq_array_test_last\")\n",
        "#print(seq_array_test_last)\n",
        "#print(seq_array_test_last.shape)\n",
        "\n",
        "# Similarly, we pick the labels\n",
        "#print(\"y_mask\")\n",
        "y_mask = [len(test_df[test_df['id']==id]) >= sequence_length for id in test_df['id'].unique()]\n",
        "label_array_test_last = test_df.groupby('id')['RUL'].nth(-1)[y_mask].values\n",
        "label_array_test_last = label_array_test_last.reshape(label_array_test_last.shape[0],1).astype(np.float32)\n",
        "#print(label_array_test_last.shape)\n",
        "#print(\"label_array_test_last\")\n",
        "#print(label_array_test_last)\n",
        "\n"
      ],
      "execution_count": 0,
      "outputs": []
    },
    {
      "cell_type": "code",
      "metadata": {
        "id": "TuDCjv-6Xp6X",
        "colab_type": "code",
        "outputId": "50e1afef-9a1b-407f-f080-fb31cd977959",
        "colab": {
          "base_uri": "https://localhost:8080/",
          "height": 418
        }
      },
      "source": [
        "# if best iteration's model was saved then load and use it\n",
        "if os.path.isfile(model_path):\n",
        "    estimator = load_model(model_path,custom_objects={'r2_keras': r2_keras}) # 加载模型\n",
        "\n",
        "    # test metrics\n",
        "    scores_test = estimator.evaluate(seq_array_test_last, label_array_test_last, verbose=2)\n",
        "    print('\\nMAE: {}'.format(scores_test[1]))\n",
        "    print('\\nR^2: {}'.format(scores_test[2]))\n",
        "\n",
        "    y_pred_test = estimator.predict(seq_array_test_last)\n",
        "    y_true_test = label_array_test_last\n",
        "\n",
        "    test_set = pd.DataFrame(y_pred_test)\n",
        "    test_set.to_csv('submit_test.csv', index = None)\n",
        "\n",
        "    # Plot in blue color the predicted data and in green color the\n",
        "    # actual data to verify visually the accuracy of the model.\n",
        "    fig_verify = plt.figure(figsize=(10, 5))\n",
        "    plt.plot(y_pred_test, 'b-o')\n",
        "    plt.plot(y_true_test, 'r-^')\n",
        "    plt.title('prediction')\n",
        "    plt.ylabel('value')\n",
        "    plt.xlabel('row')\n",
        "    plt.legend(['predicted', 'actual data'], loc='upper left')\n",
        "    plt.show()\n",
        "    fig_verify.savefig(\"model_regression_verify.png\")"
      ],
      "execution_count": 38,
      "outputs": [
        {
          "output_type": "stream",
          "text": [
            "\n",
            "MAE: 13.880435307820639\n",
            "\n",
            "R^2: 0.7385698928627916\n"
          ],
          "name": "stdout"
        },
        {
          "output_type": "display_data",
          "data": {
            "image/png": "[encoded data removed]",
            "text/plain": [
              "<Figure size 720x360 with 1 Axes>"
            ]
          },
          "metadata": {
            "tags": []
          }
        }
      ]
    },
    {
      "cell_type": "code",
      "metadata": {
        "id": "Xe3Vb-GzY5I0",
        "colab_type": "code",
        "outputId": "6df59460-ac56-4158-d6a5-0f3f9a3fd86b",
        "colab": {
          "base_uri": "https://localhost:8080/",
          "height": 102
        }
      },
      "source": [
        "mse_test = np.sum((y_pred_test - y_true_test)**2)/len(y_true_test)\n",
        "rmse_test = mse_test**0.5\n",
        "mae_test = np.sum(np.absolute(y_pred_test - y_true_test))/len(y_true_test)\n",
        "r2_test = 1 - mse_test/np.var(y_true_test)\n",
        "rhs_test = RHS_score(y_pred_test, y_true_test)\n",
        "print('mse:',mse_test)\n",
        "print('rmse:',rmse_test)\n",
        "print('mae:',mae_test)\n",
        "print('r2:',r2_test)\n",
        "print('rhs_test:',rhs_test)\n"
      ],
      "execution_count": 39,
      "outputs": [
        {
          "output_type": "stream",
          "text": [
            "mse: 451.6507056451613\n",
            "rmse: 21.252075325604352\n",
            "mae: 13.880436722950268\n",
            "r2: 0.7316982989646048\n",
            "rhs_test: 35.72644436743952\n"
          ],
          "name": "stdout"
        }
      ]
    },
    {
      "cell_type": "code",
      "metadata": {
        "id": "u2PkJCUfMEby",
        "colab_type": "code",
        "colab": {}
      },
      "source": [
        ""
      ],
      "execution_count": 0,
      "outputs": []
    }
  ]
}