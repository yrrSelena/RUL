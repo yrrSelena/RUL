{
  "nbformat": 4,
  "nbformat_minor": 0,
  "metadata": {
    "colab": {
      "name": "RUL_LSTM_CMAPSS.ipynb",
      "version": "0.3.2",
      "provenance": [],
      "collapsed_sections": [],
      "include_colab_link": true
    },
    "kernelspec": {
      "name": "python3",
      "display_name": "Python 3"
    }
  },
  "cells": [
    {
      "cell_type": "markdown",
      "metadata": {
        "id": "view-in-github",
        "colab_type": "text"
      },
      "source": [
        "<a href=\"https://colab.research.google.com/github/yrrSelena/RUL/blob/master/RUL_LSTM_CMAPSS.ipynb\" target=\"_parent\"><img src=\"https://colab.research.google.com/assets/colab-badge.svg\" alt=\"Open In Colab\"/></a>"
      ]
    },
    {
      "cell_type": "markdown",
      "metadata": {
        "id": "UYu45S4Gd3e6",
        "colab_type": "text"
      },
      "source": [
        "# 载入库"
      ]
    },
    {
      "cell_type": "code",
      "metadata": {
        "id": "SIt_-AUzdQzJ",
        "colab_type": "code",
        "colab": {
          "base_uri": "https://localhost:8080/",
          "height": 34
        },
        "outputId": "64d89208-10f2-48c8-9abb-78d0be7522f0"
      },
      "source": [
        "import keras\n",
        "import keras.backend as K\n",
        "from keras.layers.core import Activation\n",
        "from keras.models import Sequential,load_model\n",
        "from keras.layers import Dense, Dropout, LSTM\n",
        "\n",
        "import pandas as pd\n",
        "import numpy as np\n",
        "import matplotlib.pyplot as plt\n",
        "import os\n",
        "from sklearn import preprocessing"
      ],
      "execution_count": 1,
      "outputs": [
        {
          "output_type": "stream",
          "text": [
            "Using TensorFlow backend.\n"
          ],
          "name": "stderr"
        }
      ]
    },
    {
      "cell_type": "code",
      "metadata": {
        "id": "gvqDxLwudr2F",
        "colab_type": "code",
        "colab": {}
      },
      "source": [
        "# Setting seed for reproducibility\n",
        "np.random.seed(1234)  \n",
        "PYTHONHASHSEED = 0\n",
        "\n",
        "# define path to save model\n",
        "model_path = 'LSTM_cmpass_model.h5'"
      ],
      "execution_count": 0,
      "outputs": []
    },
    {
      "cell_type": "markdown",
      "metadata": {
        "id": "YsWZ2xo9d9-r",
        "colab_type": "text"
      },
      "source": [
        "# 读取数据"
      ]
    },
    {
      "cell_type": "markdown",
      "metadata": {
        "id": "bgi2gbMIflE8",
        "colab_type": "text"
      },
      "source": [
        "## 设置常量参数"
      ]
    },
    {
      "cell_type": "code",
      "metadata": {
        "id": "ePC32-Hfflah",
        "colab_type": "code",
        "colab": {}
      },
      "source": [
        "train_file = 'train_FD001.txt'\n",
        "test_file = 'test_FD001.txt'\n",
        "test_rul_file = 'RUL_FD001.txt'\n",
        "n_ftrs = 26\n",
        "n_units = 100\n",
        "col_name = ['id', 'cycle', 'setting1', 'setting2', 'setting3', 's1', 's2', 's3',\n",
        "             's4', 's5', 's6', 's7', 's8', 's9', 's10', 's11', 's12', 's13', 's14',\n",
        "             's15', 's16', 's17', 's18', 's19', 's20', 's21']\n",
        "#ftr_col_name = col_name[5:]"
      ],
      "execution_count": 0,
      "outputs": []
    },
    {
      "cell_type": "markdown",
      "metadata": {
        "id": "_vzB-wetgicu",
        "colab_type": "text"
      },
      "source": [
        "## 载入数据"
      ]
    },
    {
      "cell_type": "code",
      "metadata": {
        "id": "_KH0yOB9d1XU",
        "colab_type": "code",
        "colab": {}
      },
      "source": [
        "# read training data - It is the aircraft engine run-to-failure data.\n",
        "train_df = pd.read_csv(train_file,names = col_name, header=None,delim_whitespace=True)\n",
        "test_df = pd.read_csv(test_file,names = col_name, header=None,delim_whitespace=True)\n",
        "rul_df = pd.read_csv(test_rul_file, names=['RUL'],header=None,delim_whitespace=True) "
      ],
      "execution_count": 0,
      "outputs": []
    },
    {
      "cell_type": "markdown",
      "metadata": {
        "id": "rHNcG8c-gZ7U",
        "colab_type": "text"
      },
      "source": [
        "# 数据预处理"
      ]
    },
    {
      "cell_type": "markdown",
      "metadata": {
        "id": "kq8Z_rtKgrBa",
        "colab_type": "text"
      },
      "source": [
        "## 训练数据"
      ]
    },
    {
      "cell_type": "markdown",
      "metadata": {
        "id": "1slAdCmOhTEk",
        "colab_type": "text"
      },
      "source": [
        "### 计算RUL"
      ]
    },
    {
      "cell_type": "code",
      "metadata": {
        "id": "HbLXvMMQeJS7",
        "colab_type": "code",
        "colab": {}
      },
      "source": [
        "rul = pd.DataFrame(train_df.groupby('id')['cycle'].max()).reset_index() #添加一列作为索引\n",
        "rul.columns = ['id', 'max']\n",
        "train_df = train_df.merge(rul, on=['id'], how='left')\n",
        "train_df['RUL'] = train_df['max'] - train_df['cycle']\n",
        "train_df.drop('max', axis=1, inplace=True)"
      ],
      "execution_count": 0,
      "outputs": []
    },
    {
      "cell_type": "markdown",
      "metadata": {
        "id": "fg35ViO5hWJM",
        "colab_type": "text"
      },
      "source": [
        "### MinMax归一化处理"
      ]
    },
    {
      "cell_type": "code",
      "metadata": {
        "id": "_BCY20wfhN4X",
        "colab_type": "code",
        "colab": {}
      },
      "source": [
        "# MinMax normalization (from 0 to 1)\n",
        "train_df['cycle_norm'] = train_df['cycle']\n",
        "cols_normalize = train_df.columns.difference(['id','cycle','RUL'])\n",
        "\n",
        "# 对数据进行min-max归一化处理[0,1]\n",
        "min_max_scaler = preprocessing.MinMaxScaler()\n",
        "norm_train_df = pd.DataFrame(min_max_scaler.fit_transform(train_df[cols_normalize]), \n",
        "                             columns=cols_normalize, \n",
        "                             index=train_df.index)\n",
        "join_df = train_df[train_df.columns.difference(cols_normalize)].join(norm_train_df)\n",
        "train_df = join_df.reindex(columns = train_df.columns)"
      ],
      "execution_count": 0,
      "outputs": []
    },
    {
      "cell_type": "markdown",
      "metadata": {
        "id": "l5blbm9fl10h",
        "colab_type": "text"
      },
      "source": [
        "### 特征筛选"
      ]
    },
    {
      "cell_type": "code",
      "metadata": {
        "id": "PfPhcDmCjPsY",
        "colab_type": "code",
        "colab": {
          "base_uri": "https://localhost:8080/",
          "height": 85
        },
        "outputId": "fec79e42-7521-475b-b2dd-01eaa6802443"
      },
      "source": [
        "t = train_df.max()==0\n",
        "rebundant_ftr_name = t[t==True].index.tolist()\n",
        "selected_ftr_name = train_df.columns.difference(rebundant_ftr_name)\n",
        "selected_ftr_name"
      ],
      "execution_count": 42,
      "outputs": [
        {
          "output_type": "execute_result",
          "data": {
            "text/plain": [
              "Index(['RUL', 'cycle', 'cycle_norm', 'id', 's11', 's12', 's13', 's14', 's15',\n",
              "       's17', 's2', 's20', 's21', 's3', 's4', 's6', 's7', 's8', 's9',\n",
              "       'setting1', 'setting2'],\n",
              "      dtype='object')"
            ]
          },
          "metadata": {
            "tags": []
          },
          "execution_count": 42
        }
      ]
    },
    {
      "cell_type": "code",
      "metadata": {
        "id": "C2FXvK7zl_mx",
        "colab_type": "code",
        "colab": {}
      },
      "source": [
        "train_df =train_df.loc[:,selected_ftr_name]"
      ],
      "execution_count": 0,
      "outputs": []
    },
    {
      "cell_type": "markdown",
      "metadata": {
        "id": "rN3eYF5Lhm3c",
        "colab_type": "text"
      },
      "source": [
        "## 测试数据"
      ]
    },
    {
      "cell_type": "markdown",
      "metadata": {
        "id": "RbAnWUQ1hqTU",
        "colab_type": "text"
      },
      "source": [
        "### MinMax归一化处理"
      ]
    },
    {
      "cell_type": "code",
      "metadata": {
        "id": "-G9c62Mtgxiy",
        "colab_type": "code",
        "colab": {}
      },
      "source": [
        "test_df['cycle_norm'] = test_df['cycle']\n",
        "norm_test_df = pd.DataFrame(min_max_scaler.transform(test_df[cols_normalize]), \n",
        "                            columns=cols_normalize, \n",
        "                            index=test_df.index)\n",
        "test_join_df = test_df[test_df.columns.difference(cols_normalize)].join(norm_test_df)\n",
        "test_df = test_join_df.reindex(columns = test_df.columns)\n",
        "test_df = test_df.reset_index(drop=True)"
      ],
      "execution_count": 0,
      "outputs": []
    },
    {
      "cell_type": "markdown",
      "metadata": {
        "id": "mlnhqzz-hzqO",
        "colab_type": "text"
      },
      "source": [
        "### 计算测试数据的RUL"
      ]
    },
    {
      "cell_type": "code",
      "metadata": {
        "id": "7WUrD0Tdhycd",
        "colab_type": "code",
        "colab": {}
      },
      "source": [
        "rul = pd.DataFrame(test_df.groupby('id')['cycle'].max()).reset_index() \n",
        "rul.columns = ['id', 'max']\n",
        "rul_df.columns = ['more']\n",
        "rul_df['id'] = rul_df.index + 1 # 获得每个发动机的编号\n",
        "rul_df['max'] = rul['max'] + rul_df['more'] # 测试数据的生命周期=发动机的运行时间+剩余寿命\n",
        "rul_df.drop('more', axis=1, inplace=True)\n",
        "\n",
        "# generate RUL for test data\n",
        "test_df = test_df.merge(rul_df, on=['id'], how='left')\n",
        "test_df['RUL'] = test_df['max'] - test_df['cycle']\n",
        "test_df.drop('max', axis=1, inplace=True)\n"
      ],
      "execution_count": 0,
      "outputs": []
    },
    {
      "cell_type": "code",
      "metadata": {
        "id": "kstWDIVSm3dn",
        "colab_type": "code",
        "colab": {
          "base_uri": "https://localhost:8080/",
          "height": 224
        },
        "outputId": "4e9bd72b-6973-427b-eaca-9cd0907d7476"
      },
      "source": [
        "test_df.head()"
      ],
      "execution_count": 46,
      "outputs": [
        {
          "output_type": "execute_result",
          "data": {
            "text/html": [
              "<div>\n",
              "<style scoped>\n",
              "    .dataframe tbody tr th:only-of-type {\n",
              "        vertical-align: middle;\n",
              "    }\n",
              "\n",
              "    .dataframe tbody tr th {\n",
              "        vertical-align: top;\n",
              "    }\n",
              "\n",
              "    .dataframe thead th {\n",
              "        text-align: right;\n",
              "    }\n",
              "</style>\n",
              "<table border=\"1\" class=\"dataframe\">\n",
              "  <thead>\n",
              "    <tr style=\"text-align: right;\">\n",
              "      <th></th>\n",
              "      <th>id</th>\n",
              "      <th>cycle</th>\n",
              "      <th>setting1</th>\n",
              "      <th>setting2</th>\n",
              "      <th>setting3</th>\n",
              "      <th>s1</th>\n",
              "      <th>s2</th>\n",
              "      <th>s3</th>\n",
              "      <th>s4</th>\n",
              "      <th>s5</th>\n",
              "      <th>s6</th>\n",
              "      <th>s7</th>\n",
              "      <th>s8</th>\n",
              "      <th>s9</th>\n",
              "      <th>s10</th>\n",
              "      <th>s11</th>\n",
              "      <th>s12</th>\n",
              "      <th>s13</th>\n",
              "      <th>s14</th>\n",
              "      <th>s15</th>\n",
              "      <th>s16</th>\n",
              "      <th>s17</th>\n",
              "      <th>s18</th>\n",
              "      <th>s19</th>\n",
              "      <th>s20</th>\n",
              "      <th>s21</th>\n",
              "      <th>cycle_norm</th>\n",
              "      <th>RUL</th>\n",
              "    </tr>\n",
              "  </thead>\n",
              "  <tbody>\n",
              "    <tr>\n",
              "      <th>0</th>\n",
              "      <td>1</td>\n",
              "      <td>1</td>\n",
              "      <td>0.632184</td>\n",
              "      <td>0.750000</td>\n",
              "      <td>0.0</td>\n",
              "      <td>0.0</td>\n",
              "      <td>0.545181</td>\n",
              "      <td>0.310661</td>\n",
              "      <td>0.269413</td>\n",
              "      <td>0.0</td>\n",
              "      <td>1.0</td>\n",
              "      <td>0.652174</td>\n",
              "      <td>0.212121</td>\n",
              "      <td>0.127614</td>\n",
              "      <td>0.0</td>\n",
              "      <td>0.208333</td>\n",
              "      <td>0.646055</td>\n",
              "      <td>0.220588</td>\n",
              "      <td>0.132160</td>\n",
              "      <td>0.308965</td>\n",
              "      <td>0.0</td>\n",
              "      <td>0.333333</td>\n",
              "      <td>0.0</td>\n",
              "      <td>0.0</td>\n",
              "      <td>0.558140</td>\n",
              "      <td>0.661834</td>\n",
              "      <td>0.00000</td>\n",
              "      <td>142</td>\n",
              "    </tr>\n",
              "    <tr>\n",
              "      <th>1</th>\n",
              "      <td>1</td>\n",
              "      <td>2</td>\n",
              "      <td>0.344828</td>\n",
              "      <td>0.250000</td>\n",
              "      <td>0.0</td>\n",
              "      <td>0.0</td>\n",
              "      <td>0.150602</td>\n",
              "      <td>0.379551</td>\n",
              "      <td>0.222316</td>\n",
              "      <td>0.0</td>\n",
              "      <td>1.0</td>\n",
              "      <td>0.805153</td>\n",
              "      <td>0.166667</td>\n",
              "      <td>0.146684</td>\n",
              "      <td>0.0</td>\n",
              "      <td>0.386905</td>\n",
              "      <td>0.739872</td>\n",
              "      <td>0.264706</td>\n",
              "      <td>0.204768</td>\n",
              "      <td>0.213159</td>\n",
              "      <td>0.0</td>\n",
              "      <td>0.416667</td>\n",
              "      <td>0.0</td>\n",
              "      <td>0.0</td>\n",
              "      <td>0.682171</td>\n",
              "      <td>0.686827</td>\n",
              "      <td>0.00277</td>\n",
              "      <td>141</td>\n",
              "    </tr>\n",
              "    <tr>\n",
              "      <th>2</th>\n",
              "      <td>1</td>\n",
              "      <td>3</td>\n",
              "      <td>0.517241</td>\n",
              "      <td>0.583333</td>\n",
              "      <td>0.0</td>\n",
              "      <td>0.0</td>\n",
              "      <td>0.376506</td>\n",
              "      <td>0.346632</td>\n",
              "      <td>0.322248</td>\n",
              "      <td>0.0</td>\n",
              "      <td>1.0</td>\n",
              "      <td>0.685990</td>\n",
              "      <td>0.227273</td>\n",
              "      <td>0.158081</td>\n",
              "      <td>0.0</td>\n",
              "      <td>0.386905</td>\n",
              "      <td>0.699360</td>\n",
              "      <td>0.220588</td>\n",
              "      <td>0.155640</td>\n",
              "      <td>0.458638</td>\n",
              "      <td>0.0</td>\n",
              "      <td>0.416667</td>\n",
              "      <td>0.0</td>\n",
              "      <td>0.0</td>\n",
              "      <td>0.728682</td>\n",
              "      <td>0.721348</td>\n",
              "      <td>0.00554</td>\n",
              "      <td>140</td>\n",
              "    </tr>\n",
              "    <tr>\n",
              "      <th>3</th>\n",
              "      <td>1</td>\n",
              "      <td>4</td>\n",
              "      <td>0.741379</td>\n",
              "      <td>0.500000</td>\n",
              "      <td>0.0</td>\n",
              "      <td>0.0</td>\n",
              "      <td>0.370482</td>\n",
              "      <td>0.285154</td>\n",
              "      <td>0.408001</td>\n",
              "      <td>0.0</td>\n",
              "      <td>1.0</td>\n",
              "      <td>0.679549</td>\n",
              "      <td>0.196970</td>\n",
              "      <td>0.105717</td>\n",
              "      <td>0.0</td>\n",
              "      <td>0.255952</td>\n",
              "      <td>0.573561</td>\n",
              "      <td>0.250000</td>\n",
              "      <td>0.170090</td>\n",
              "      <td>0.257022</td>\n",
              "      <td>0.0</td>\n",
              "      <td>0.250000</td>\n",
              "      <td>0.0</td>\n",
              "      <td>0.0</td>\n",
              "      <td>0.666667</td>\n",
              "      <td>0.662110</td>\n",
              "      <td>0.00831</td>\n",
              "      <td>139</td>\n",
              "    </tr>\n",
              "    <tr>\n",
              "      <th>4</th>\n",
              "      <td>1</td>\n",
              "      <td>5</td>\n",
              "      <td>0.580460</td>\n",
              "      <td>0.500000</td>\n",
              "      <td>0.0</td>\n",
              "      <td>0.0</td>\n",
              "      <td>0.391566</td>\n",
              "      <td>0.352082</td>\n",
              "      <td>0.332039</td>\n",
              "      <td>0.0</td>\n",
              "      <td>1.0</td>\n",
              "      <td>0.694042</td>\n",
              "      <td>0.166667</td>\n",
              "      <td>0.102396</td>\n",
              "      <td>0.0</td>\n",
              "      <td>0.273810</td>\n",
              "      <td>0.737740</td>\n",
              "      <td>0.220588</td>\n",
              "      <td>0.152751</td>\n",
              "      <td>0.300885</td>\n",
              "      <td>0.0</td>\n",
              "      <td>0.166667</td>\n",
              "      <td>0.0</td>\n",
              "      <td>0.0</td>\n",
              "      <td>0.658915</td>\n",
              "      <td>0.716377</td>\n",
              "      <td>0.01108</td>\n",
              "      <td>138</td>\n",
              "    </tr>\n",
              "  </tbody>\n",
              "</table>\n",
              "</div>"
            ],
            "text/plain": [
              "   id  cycle  setting1  setting2  ...       s20       s21  cycle_norm  RUL\n",
              "0   1      1  0.632184  0.750000  ...  0.558140  0.661834     0.00000  142\n",
              "1   1      2  0.344828  0.250000  ...  0.682171  0.686827     0.00277  141\n",
              "2   1      3  0.517241  0.583333  ...  0.728682  0.721348     0.00554  140\n",
              "3   1      4  0.741379  0.500000  ...  0.666667  0.662110     0.00831  139\n",
              "4   1      5  0.580460  0.500000  ...  0.658915  0.716377     0.01108  138\n",
              "\n",
              "[5 rows x 28 columns]"
            ]
          },
          "metadata": {
            "tags": []
          },
          "execution_count": 46
        }
      ]
    },
    {
      "cell_type": "code",
      "metadata": {
        "id": "ILnP4SpsiIUH",
        "colab_type": "code",
        "colab": {}
      },
      "source": [
        "test_df =test_df.loc[:,selected_ftr_name]"
      ],
      "execution_count": 0,
      "outputs": []
    },
    {
      "cell_type": "markdown",
      "metadata": {
        "id": "EXT_hoEXiXUb",
        "colab_type": "text"
      },
      "source": [
        "# 生成样本特征"
      ]
    },
    {
      "cell_type": "code",
      "metadata": {
        "id": "rzzUVlynif94",
        "colab_type": "code",
        "colab": {}
      },
      "source": [
        "sequence_length = 50 #设置时间窗口大小"
      ],
      "execution_count": 0,
      "outputs": []
    },
    {
      "cell_type": "code",
      "metadata": {
        "id": "b20ANWWMiKLF",
        "colab_type": "code",
        "colab": {}
      },
      "source": [
        "# pick a large window size of 50 cycles\n",
        "\n",
        "# function to reshape features into (samples, time steps, features) \n",
        "# 生成特征样本\n",
        "def gen_sequence(id_df, seq_length, seq_cols):\n",
        "    \"\"\" Only sequences that meet the window-length are considered, no padding is used. This means for testing\n",
        "    we need to drop those which are below the window-length. An alternative would be to pad sequences so that\n",
        "    we can use shorter ones \n",
        "    只有比时间窗口大的序列会被提取特征，若测试样本的时间序列过小，则被忽视。\n",
        "    另一种方法是对序列进行填充\n",
        "    \"\"\"\n",
        "    # for one id I put all the rows in a single matrix\n",
        "    data_matrix = id_df[seq_cols].values # 获得对应列的值\n",
        "    num_elements = data_matrix.shape[0]\n",
        "    # Iterate over two lists in parallel.\n",
        "    # For example id1 have 192 rows and sequence_length is equal to 50\n",
        "    # so zip iterate over two following list of numbers (0,142),(50,192)\n",
        "    # 0 50 -> from row 0 to row 50\n",
        "    # 1 51 -> from row 1 to row 51\n",
        "    # 2 52 -> from row 2 to row 52\n",
        "    # ...\n",
        "    # 141 191 -> from row 141 to 191\n",
        "    \n",
        "    # zip将数据打包为元组的列表\n",
        "    for start, stop in zip(range(0, num_elements-seq_length), range(seq_length, num_elements)):\n",
        "        yield data_matrix[start:stop, :] #yield 相当于返回\n",
        "        "
      ],
      "execution_count": 0,
      "outputs": []
    }
  ]
}