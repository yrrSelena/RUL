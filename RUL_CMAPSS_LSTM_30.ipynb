{
  "nbformat": 4,
  "nbformat_minor": 0,
  "metadata": {
    "colab": {
      "name": "CMAPSS_LSTM_30.ipynb",
      "version": "0.3.2",
      "provenance": [],
      "include_colab_link": true
    },
    "kernelspec": {
      "name": "python3",
      "display_name": "Python 3"
    }
  },
  "cells": [
    {
      "cell_type": "markdown",
      "metadata": {
        "id": "view-in-github",
        "colab_type": "text"
      },
      "source": [
        "<a href=\"https://colab.research.google.com/github/yrrSelena/RUL/blob/master/RUL_CMAPSS_LSTM_30.ipynb\" target=\"_parent\"><img src=\"https://colab.research.google.com/assets/colab-badge.svg\" alt=\"Open In Colab\"/></a>"
      ]
    },
    {
      "cell_type": "markdown",
      "metadata": {
        "id": "UYu45S4Gd3e6",
        "colab_type": "text"
      },
      "source": [
        "# 载入库"
      ]
    },
    {
      "cell_type": "code",
      "metadata": {
        "id": "SIt_-AUzdQzJ",
        "colab_type": "code",
        "outputId": "0234fcc6-c44f-4239-a8ec-905b2acf8e73",
        "colab": {
          "base_uri": "https://localhost:8080/",
          "height": 35
        }
      },
      "source": [
        "import keras\n",
        "import keras.backend as K\n",
        "from keras.layers.core import Activation\n",
        "from keras.models import Sequential,load_model\n",
        "from keras.layers import Dense, Dropout, LSTM\n",
        "\n",
        "import pandas as pd\n",
        "import numpy as np\n",
        "import matplotlib.pyplot as plt\n",
        "import os\n",
        "from sklearn import preprocessing"
      ],
      "execution_count": 1,
      "outputs": [
        {
          "output_type": "stream",
          "text": [
            "Using TensorFlow backend.\n"
          ],
          "name": "stderr"
        }
      ]
    },
    {
      "cell_type": "code",
      "metadata": {
        "id": "gvqDxLwudr2F",
        "colab_type": "code",
        "colab": {}
      },
      "source": [
        "# Setting seed for reproducibility\n",
        "np.random.seed(1234)  \n",
        "PYTHONHASHSEED = 0"
      ],
      "execution_count": 0,
      "outputs": []
    },
    {
      "cell_type": "markdown",
      "metadata": {
        "id": "YsWZ2xo9d9-r",
        "colab_type": "text"
      },
      "source": [
        "# 读取数据"
      ]
    },
    {
      "cell_type": "markdown",
      "metadata": {
        "id": "bgi2gbMIflE8",
        "colab_type": "text"
      },
      "source": [
        "## 设置常量参数"
      ]
    },
    {
      "cell_type": "code",
      "metadata": {
        "id": "ePC32-Hfflah",
        "colab_type": "code",
        "colab": {}
      },
      "source": [
        "train_file = 'train_FD001.txt'\n",
        "test_file = 'test_FD001.txt'\n",
        "test_rul_file = 'RUL_FD001.txt'\n",
        "n_ftrs = 26\n",
        "n_units = 100\n",
        "col_name = ['id', 'cycle', 'setting1', 'setting2', 'setting3', 's1', 's2', 's3',\n",
        "             's4', 's5', 's6', 's7', 's8', 's9', 's10', 's11', 's12', 's13', 's14',\n",
        "             's15', 's16', 's17', 's18', 's19', 's20', 's21']"
      ],
      "execution_count": 0,
      "outputs": []
    },
    {
      "cell_type": "markdown",
      "metadata": {
        "id": "_vzB-wetgicu",
        "colab_type": "text"
      },
      "source": [
        "## 载入数据"
      ]
    },
    {
      "cell_type": "code",
      "metadata": {
        "id": "_KH0yOB9d1XU",
        "colab_type": "code",
        "colab": {}
      },
      "source": [
        "# read training data - It is the aircraft engine run-to-failure data.\n",
        "raw_train_df = pd.read_csv(train_file,names = col_name, header=None,delim_whitespace=True)\n",
        "raw_test_df = pd.read_csv(test_file,names = col_name, header=None,delim_whitespace=True)\n",
        "raw_rul_df = pd.read_csv(test_rul_file, names=['RUL'],header=None,delim_whitespace=True) "
      ],
      "execution_count": 0,
      "outputs": []
    },
    {
      "cell_type": "code",
      "metadata": {
        "id": "g_cAG_N8zLdI",
        "colab_type": "code",
        "colab": {}
      },
      "source": [
        "train_df = raw_train_df\n",
        "test_df = raw_test_df\n",
        "rul_df = raw_rul_df"
      ],
      "execution_count": 0,
      "outputs": []
    },
    {
      "cell_type": "code",
      "metadata": {
        "id": "qxTcFYOsxML9",
        "colab_type": "code",
        "colab": {}
      },
      "source": [
        "ftr_col_name = train_df.columns.difference(['id','cycle'])"
      ],
      "execution_count": 0,
      "outputs": []
    },
    {
      "cell_type": "code",
      "metadata": {
        "id": "Ym2lVG_bxQ85",
        "colab_type": "code",
        "colab": {
          "base_uri": "https://localhost:8080/",
          "height": 89
        },
        "outputId": "4ea5b95d-9ed0-4fb8-c0ef-6dc2c484816b"
      },
      "source": [
        "ftr_col_name"
      ],
      "execution_count": 7,
      "outputs": [
        {
          "output_type": "execute_result",
          "data": {
            "text/plain": [
              "Index(['s1', 's10', 's11', 's12', 's13', 's14', 's15', 's16', 's17', 's18',\n",
              "       's19', 's2', 's20', 's21', 's3', 's4', 's5', 's6', 's7', 's8', 's9',\n",
              "       'setting1', 'setting2', 'setting3'],\n",
              "      dtype='object')"
            ]
          },
          "metadata": {
            "tags": []
          },
          "execution_count": 7
        }
      ]
    },
    {
      "cell_type": "markdown",
      "metadata": {
        "id": "rHNcG8c-gZ7U",
        "colab_type": "text"
      },
      "source": [
        "# 数据预处理"
      ]
    },
    {
      "cell_type": "markdown",
      "metadata": {
        "id": "kq8Z_rtKgrBa",
        "colab_type": "text"
      },
      "source": [
        "## 训练数据"
      ]
    },
    {
      "cell_type": "markdown",
      "metadata": {
        "id": "1slAdCmOhTEk",
        "colab_type": "text"
      },
      "source": [
        "### 计算RUL"
      ]
    },
    {
      "cell_type": "code",
      "metadata": {
        "id": "HbLXvMMQeJS7",
        "colab_type": "code",
        "colab": {}
      },
      "source": [
        "train_df = raw_train_df\n",
        "rul = pd.DataFrame(train_df.groupby('id')['cycle'].max()).reset_index() #添加一列作为索引\n",
        "rul.columns = ['id', 'max']\n",
        "train_df = train_df.merge(rul, on=['id'], how='left')\n",
        "train_df['RUL'] = train_df['max'] - train_df['cycle']\n",
        "train_df.drop('max', axis=1, inplace=True)"
      ],
      "execution_count": 0,
      "outputs": []
    },
    {
      "cell_type": "code",
      "metadata": {
        "id": "GyTUa3ZX3yeR",
        "colab_type": "code",
        "colab": {
          "base_uri": "https://localhost:8080/",
          "height": 224
        },
        "outputId": "415a7460-3094-4071-f3de-cdf9ea23e348"
      },
      "source": [
        "train_df.head()"
      ],
      "execution_count": 98,
      "outputs": [
        {
          "output_type": "execute_result",
          "data": {
            "text/html": [
              "<div>\n",
              "<style scoped>\n",
              "    .dataframe tbody tr th:only-of-type {\n",
              "        vertical-align: middle;\n",
              "    }\n",
              "\n",
              "    .dataframe tbody tr th {\n",
              "        vertical-align: top;\n",
              "    }\n",
              "\n",
              "    .dataframe thead th {\n",
              "        text-align: right;\n",
              "    }\n",
              "</style>\n",
              "<table border=\"1\" class=\"dataframe\">\n",
              "  <thead>\n",
              "    <tr style=\"text-align: right;\">\n",
              "      <th></th>\n",
              "      <th>id</th>\n",
              "      <th>cycle</th>\n",
              "      <th>setting1</th>\n",
              "      <th>setting2</th>\n",
              "      <th>setting3</th>\n",
              "      <th>s1</th>\n",
              "      <th>s2</th>\n",
              "      <th>s3</th>\n",
              "      <th>s4</th>\n",
              "      <th>s5</th>\n",
              "      <th>s6</th>\n",
              "      <th>s7</th>\n",
              "      <th>s8</th>\n",
              "      <th>s9</th>\n",
              "      <th>s10</th>\n",
              "      <th>s11</th>\n",
              "      <th>s12</th>\n",
              "      <th>s13</th>\n",
              "      <th>s14</th>\n",
              "      <th>s15</th>\n",
              "      <th>s16</th>\n",
              "      <th>s17</th>\n",
              "      <th>s18</th>\n",
              "      <th>s19</th>\n",
              "      <th>s20</th>\n",
              "      <th>s21</th>\n",
              "      <th>RUL</th>\n",
              "    </tr>\n",
              "  </thead>\n",
              "  <tbody>\n",
              "    <tr>\n",
              "      <th>0</th>\n",
              "      <td>1</td>\n",
              "      <td>1</td>\n",
              "      <td>-0.0007</td>\n",
              "      <td>-0.0004</td>\n",
              "      <td>100.0</td>\n",
              "      <td>518.67</td>\n",
              "      <td>641.82</td>\n",
              "      <td>1589.70</td>\n",
              "      <td>1400.60</td>\n",
              "      <td>14.62</td>\n",
              "      <td>21.61</td>\n",
              "      <td>554.36</td>\n",
              "      <td>2388.06</td>\n",
              "      <td>9046.19</td>\n",
              "      <td>1.3</td>\n",
              "      <td>47.47</td>\n",
              "      <td>521.66</td>\n",
              "      <td>2388.02</td>\n",
              "      <td>8138.62</td>\n",
              "      <td>8.4195</td>\n",
              "      <td>0.03</td>\n",
              "      <td>392</td>\n",
              "      <td>2388</td>\n",
              "      <td>100.0</td>\n",
              "      <td>39.06</td>\n",
              "      <td>23.4190</td>\n",
              "      <td>191</td>\n",
              "    </tr>\n",
              "    <tr>\n",
              "      <th>1</th>\n",
              "      <td>1</td>\n",
              "      <td>2</td>\n",
              "      <td>0.0019</td>\n",
              "      <td>-0.0003</td>\n",
              "      <td>100.0</td>\n",
              "      <td>518.67</td>\n",
              "      <td>642.15</td>\n",
              "      <td>1591.82</td>\n",
              "      <td>1403.14</td>\n",
              "      <td>14.62</td>\n",
              "      <td>21.61</td>\n",
              "      <td>553.75</td>\n",
              "      <td>2388.04</td>\n",
              "      <td>9044.07</td>\n",
              "      <td>1.3</td>\n",
              "      <td>47.49</td>\n",
              "      <td>522.28</td>\n",
              "      <td>2388.07</td>\n",
              "      <td>8131.49</td>\n",
              "      <td>8.4318</td>\n",
              "      <td>0.03</td>\n",
              "      <td>392</td>\n",
              "      <td>2388</td>\n",
              "      <td>100.0</td>\n",
              "      <td>39.00</td>\n",
              "      <td>23.4236</td>\n",
              "      <td>190</td>\n",
              "    </tr>\n",
              "    <tr>\n",
              "      <th>2</th>\n",
              "      <td>1</td>\n",
              "      <td>3</td>\n",
              "      <td>-0.0043</td>\n",
              "      <td>0.0003</td>\n",
              "      <td>100.0</td>\n",
              "      <td>518.67</td>\n",
              "      <td>642.35</td>\n",
              "      <td>1587.99</td>\n",
              "      <td>1404.20</td>\n",
              "      <td>14.62</td>\n",
              "      <td>21.61</td>\n",
              "      <td>554.26</td>\n",
              "      <td>2388.08</td>\n",
              "      <td>9052.94</td>\n",
              "      <td>1.3</td>\n",
              "      <td>47.27</td>\n",
              "      <td>522.42</td>\n",
              "      <td>2388.03</td>\n",
              "      <td>8133.23</td>\n",
              "      <td>8.4178</td>\n",
              "      <td>0.03</td>\n",
              "      <td>390</td>\n",
              "      <td>2388</td>\n",
              "      <td>100.0</td>\n",
              "      <td>38.95</td>\n",
              "      <td>23.3442</td>\n",
              "      <td>189</td>\n",
              "    </tr>\n",
              "    <tr>\n",
              "      <th>3</th>\n",
              "      <td>1</td>\n",
              "      <td>4</td>\n",
              "      <td>0.0007</td>\n",
              "      <td>0.0000</td>\n",
              "      <td>100.0</td>\n",
              "      <td>518.67</td>\n",
              "      <td>642.35</td>\n",
              "      <td>1582.79</td>\n",
              "      <td>1401.87</td>\n",
              "      <td>14.62</td>\n",
              "      <td>21.61</td>\n",
              "      <td>554.45</td>\n",
              "      <td>2388.11</td>\n",
              "      <td>9049.48</td>\n",
              "      <td>1.3</td>\n",
              "      <td>47.13</td>\n",
              "      <td>522.86</td>\n",
              "      <td>2388.08</td>\n",
              "      <td>8133.83</td>\n",
              "      <td>8.3682</td>\n",
              "      <td>0.03</td>\n",
              "      <td>392</td>\n",
              "      <td>2388</td>\n",
              "      <td>100.0</td>\n",
              "      <td>38.88</td>\n",
              "      <td>23.3739</td>\n",
              "      <td>188</td>\n",
              "    </tr>\n",
              "    <tr>\n",
              "      <th>4</th>\n",
              "      <td>1</td>\n",
              "      <td>5</td>\n",
              "      <td>-0.0019</td>\n",
              "      <td>-0.0002</td>\n",
              "      <td>100.0</td>\n",
              "      <td>518.67</td>\n",
              "      <td>642.37</td>\n",
              "      <td>1582.85</td>\n",
              "      <td>1406.22</td>\n",
              "      <td>14.62</td>\n",
              "      <td>21.61</td>\n",
              "      <td>554.00</td>\n",
              "      <td>2388.06</td>\n",
              "      <td>9055.15</td>\n",
              "      <td>1.3</td>\n",
              "      <td>47.28</td>\n",
              "      <td>522.19</td>\n",
              "      <td>2388.04</td>\n",
              "      <td>8133.80</td>\n",
              "      <td>8.4294</td>\n",
              "      <td>0.03</td>\n",
              "      <td>393</td>\n",
              "      <td>2388</td>\n",
              "      <td>100.0</td>\n",
              "      <td>38.90</td>\n",
              "      <td>23.4044</td>\n",
              "      <td>187</td>\n",
              "    </tr>\n",
              "  </tbody>\n",
              "</table>\n",
              "</div>"
            ],
            "text/plain": [
              "   id  cycle  setting1  setting2  setting3  ...   s18    s19    s20      s21  RUL\n",
              "0   1      1   -0.0007   -0.0004     100.0  ...  2388  100.0  39.06  23.4190  191\n",
              "1   1      2    0.0019   -0.0003     100.0  ...  2388  100.0  39.00  23.4236  190\n",
              "2   1      3   -0.0043    0.0003     100.0  ...  2388  100.0  38.95  23.3442  189\n",
              "3   1      4    0.0007    0.0000     100.0  ...  2388  100.0  38.88  23.3739  188\n",
              "4   1      5   -0.0019   -0.0002     100.0  ...  2388  100.0  38.90  23.4044  187\n",
              "\n",
              "[5 rows x 27 columns]"
            ]
          },
          "metadata": {
            "tags": []
          },
          "execution_count": 98
        }
      ]
    },
    {
      "cell_type": "markdown",
      "metadata": {
        "id": "gOXvzW-ewWyE",
        "colab_type": "text"
      },
      "source": [
        "### 数据平滑处理"
      ]
    },
    {
      "cell_type": "code",
      "metadata": {
        "id": "Bp8eCwn5wVt9",
        "colab_type": "code",
        "colab": {}
      },
      "source": [
        "def smoothEWM(data,n_units,ftr_col_name,ewm_win_size):\n",
        "    data_group = data.groupby(data['id'])\n",
        "    ewm_ftr = pd.DataFrame()\n",
        "    for unit_no in range(1,n_units+1):\n",
        "        tmp_unit = data_group.get_group(unit_no)\n",
        "        tmp_unit1 = tmp_unit.loc[:,ftr_col_name].ewm(span=ewm_win_size).mean()\n",
        "        ewm_ftr = pd.concat([ewm_ftr,tmp_unit1])#ewm_ftr.append(tmp_unit1)\n",
        "    ewm_ftr['id'] = data['id']\n",
        "    ewm_ftr['cycle'] = data['cycle']\n",
        "    return ewm_ftr"
      ],
      "execution_count": 0,
      "outputs": []
    },
    {
      "cell_type": "code",
      "metadata": {
        "id": "TFuv6HvZwhaw",
        "colab_type": "code",
        "colab": {}
      },
      "source": [
        "ewm_win_size = 10\n",
        "ewm_train_ftr = pd.DataFrame()\n",
        "ewm_train_ftr = smoothEWM(train_df, n_units, ftr_col_name,ewm_win_size)"
      ],
      "execution_count": 0,
      "outputs": []
    },
    {
      "cell_type": "code",
      "metadata": {
        "id": "CgPKFsAgxmBu",
        "colab_type": "code",
        "colab": {}
      },
      "source": [
        "ewm_train_ftr = ewm_train_ftr[col_name]\n",
        "ewm_train_ftr['RUL'] = train_df['RUL']\n",
        "train_df = ewm_train_ftr"
      ],
      "execution_count": 0,
      "outputs": []
    },
    {
      "cell_type": "markdown",
      "metadata": {
        "id": "fg35ViO5hWJM",
        "colab_type": "text"
      },
      "source": [
        "### MinMax归一化处理"
      ]
    },
    {
      "cell_type": "code",
      "metadata": {
        "id": "_BCY20wfhN4X",
        "colab_type": "code",
        "colab": {}
      },
      "source": [
        "# MinMax normalization (from 0 to 1)\n",
        "train_df['cycle_norm'] = train_df['cycle']\n",
        "cols_normalize = train_df.columns.difference(['id','cycle','RUL'])\n",
        "\n",
        "# 对数据进行min-max归一化处理[0,1]\n",
        "min_max_scaler = preprocessing.MinMaxScaler()\n",
        "norm_train_df = pd.DataFrame(min_max_scaler.fit_transform(train_df[cols_normalize]), \n",
        "                             columns=cols_normalize, \n",
        "                             index=train_df.index)\n",
        "join_df = train_df[train_df.columns.difference(cols_normalize)].join(norm_train_df)\n",
        "train_df = join_df.reindex(columns = train_df.columns)"
      ],
      "execution_count": 0,
      "outputs": []
    },
    {
      "cell_type": "code",
      "metadata": {
        "id": "5XVqV7ObyNjw",
        "colab_type": "code",
        "colab": {
          "base_uri": "https://localhost:8080/",
          "height": 224
        },
        "outputId": "643de67a-25f2-4fab-f04e-fe52afd044e9"
      },
      "source": [
        "train_df.head()"
      ],
      "execution_count": 102,
      "outputs": [
        {
          "output_type": "execute_result",
          "data": {
            "text/html": [
              "<div>\n",
              "<style scoped>\n",
              "    .dataframe tbody tr th:only-of-type {\n",
              "        vertical-align: middle;\n",
              "    }\n",
              "\n",
              "    .dataframe tbody tr th {\n",
              "        vertical-align: top;\n",
              "    }\n",
              "\n",
              "    .dataframe thead th {\n",
              "        text-align: right;\n",
              "    }\n",
              "</style>\n",
              "<table border=\"1\" class=\"dataframe\">\n",
              "  <thead>\n",
              "    <tr style=\"text-align: right;\">\n",
              "      <th></th>\n",
              "      <th>id</th>\n",
              "      <th>cycle</th>\n",
              "      <th>setting1</th>\n",
              "      <th>setting2</th>\n",
              "      <th>setting3</th>\n",
              "      <th>s1</th>\n",
              "      <th>s2</th>\n",
              "      <th>s3</th>\n",
              "      <th>s4</th>\n",
              "      <th>s5</th>\n",
              "      <th>s6</th>\n",
              "      <th>s7</th>\n",
              "      <th>s8</th>\n",
              "      <th>s9</th>\n",
              "      <th>s10</th>\n",
              "      <th>s11</th>\n",
              "      <th>s12</th>\n",
              "      <th>s13</th>\n",
              "      <th>s14</th>\n",
              "      <th>s15</th>\n",
              "      <th>s16</th>\n",
              "      <th>s17</th>\n",
              "      <th>s18</th>\n",
              "      <th>s19</th>\n",
              "      <th>s20</th>\n",
              "      <th>s21</th>\n",
              "      <th>RUL</th>\n",
              "      <th>cycle_norm</th>\n",
              "    </tr>\n",
              "  </thead>\n",
              "  <tbody>\n",
              "    <tr>\n",
              "      <th>0</th>\n",
              "      <td>1</td>\n",
              "      <td>1</td>\n",
              "      <td>0.527273</td>\n",
              "      <td>0.166667</td>\n",
              "      <td>0.0</td>\n",
              "      <td>0.0</td>\n",
              "      <td>0.152747</td>\n",
              "      <td>0.495953</td>\n",
              "      <td>0.307035</td>\n",
              "      <td>0.0</td>\n",
              "      <td>1.0</td>\n",
              "      <td>0.766807</td>\n",
              "      <td>0.361307</td>\n",
              "      <td>0.091366</td>\n",
              "      <td>0.0</td>\n",
              "      <td>0.425668</td>\n",
              "      <td>0.640978</td>\n",
              "      <td>0.231062</td>\n",
              "      <td>0.200888</td>\n",
              "      <td>0.446382</td>\n",
              "      <td>0.0</td>\n",
              "      <td>0.287032</td>\n",
              "      <td>0.0</td>\n",
              "      <td>0.0</td>\n",
              "      <td>0.767506</td>\n",
              "      <td>0.768934</td>\n",
              "      <td>191</td>\n",
              "      <td>0.00000</td>\n",
              "    </tr>\n",
              "    <tr>\n",
              "      <th>1</th>\n",
              "      <td>1</td>\n",
              "      <td>2</td>\n",
              "      <td>0.657273</td>\n",
              "      <td>0.212500</td>\n",
              "      <td>0.0</td>\n",
              "      <td>0.0</td>\n",
              "      <td>0.227676</td>\n",
              "      <td>0.530622</td>\n",
              "      <td>0.339481</td>\n",
              "      <td>0.0</td>\n",
              "      <td>1.0</td>\n",
              "      <td>0.689345</td>\n",
              "      <td>0.332918</td>\n",
              "      <td>0.085096</td>\n",
              "      <td>0.0</td>\n",
              "      <td>0.434339</td>\n",
              "      <td>0.741327</td>\n",
              "      <td>0.301665</td>\n",
              "      <td>0.177575</td>\n",
              "      <td>0.480236</td>\n",
              "      <td>0.0</td>\n",
              "      <td>0.287032</td>\n",
              "      <td>0.0</td>\n",
              "      <td>0.0</td>\n",
              "      <td>0.730972</td>\n",
              "      <td>0.773978</td>\n",
              "      <td>190</td>\n",
              "      <td>0.00277</td>\n",
              "    </tr>\n",
              "    <tr>\n",
              "      <th>2</th>\n",
              "      <td>1</td>\n",
              "      <td>3</td>\n",
              "      <td>0.473452</td>\n",
              "      <td>0.428571</td>\n",
              "      <td>0.0</td>\n",
              "      <td>0.0</td>\n",
              "      <td>0.285511</td>\n",
              "      <td>0.496246</td>\n",
              "      <td>0.360049</td>\n",
              "      <td>0.0</td>\n",
              "      <td>1.0</td>\n",
              "      <td>0.711203</td>\n",
              "      <td>0.365079</td>\n",
              "      <td>0.102209</td>\n",
              "      <td>0.0</td>\n",
              "      <td>0.367477</td>\n",
              "      <td>0.790895</td>\n",
              "      <td>0.283604</td>\n",
              "      <td>0.174066</td>\n",
              "      <td>0.463207</td>\n",
              "      <td>0.0</td>\n",
              "      <td>0.171647</td>\n",
              "      <td>0.0</td>\n",
              "      <td>0.0</td>\n",
              "      <td>0.696703</td>\n",
              "      <td>0.712003</td>\n",
              "      <td>189</td>\n",
              "      <td>0.00554</td>\n",
              "    </tr>\n",
              "    <tr>\n",
              "      <th>3</th>\n",
              "      <td>1</td>\n",
              "      <td>4</td>\n",
              "      <td>0.533114</td>\n",
              "      <td>0.452104</td>\n",
              "      <td>0.0</td>\n",
              "      <td>0.0</td>\n",
              "      <td>0.313856</td>\n",
              "      <td>0.428461</td>\n",
              "      <td>0.352301</td>\n",
              "      <td>0.0</td>\n",
              "      <td>1.0</td>\n",
              "      <td>0.736368</td>\n",
              "      <td>0.406349</td>\n",
              "      <td>0.104466</td>\n",
              "      <td>0.0</td>\n",
              "      <td>0.298350</td>\n",
              "      <td>0.857846</td>\n",
              "      <td>0.317044</td>\n",
              "      <td>0.173521</td>\n",
              "      <td>0.373086</td>\n",
              "      <td>0.0</td>\n",
              "      <td>0.209661</td>\n",
              "      <td>0.0</td>\n",
              "      <td>0.0</td>\n",
              "      <td>0.654375</td>\n",
              "      <td>0.701137</td>\n",
              "      <td>188</td>\n",
              "      <td>0.00831</td>\n",
              "    </tr>\n",
              "    <tr>\n",
              "      <th>4</th>\n",
              "      <td>1</td>\n",
              "      <td>5</td>\n",
              "      <td>0.500120</td>\n",
              "      <td>0.418008</td>\n",
              "      <td>0.0</td>\n",
              "      <td>0.0</td>\n",
              "      <td>0.332788</td>\n",
              "      <td>0.389367</td>\n",
              "      <td>0.376776</td>\n",
              "      <td>0.0</td>\n",
              "      <td>1.0</td>\n",
              "      <td>0.721245</td>\n",
              "      <td>0.393418</td>\n",
              "      <td>0.114538</td>\n",
              "      <td>0.0</td>\n",
              "      <td>0.291904</td>\n",
              "      <td>0.840364</td>\n",
              "      <td>0.307101</td>\n",
              "      <td>0.173151</td>\n",
              "      <td>0.408349</td>\n",
              "      <td>0.0</td>\n",
              "      <td>0.273072</td>\n",
              "      <td>0.0</td>\n",
              "      <td>0.0</td>\n",
              "      <td>0.636001</td>\n",
              "      <td>0.712244</td>\n",
              "      <td>187</td>\n",
              "      <td>0.01108</td>\n",
              "    </tr>\n",
              "  </tbody>\n",
              "</table>\n",
              "</div>"
            ],
            "text/plain": [
              "   id  cycle  setting1  setting2  ...       s20       s21  RUL  cycle_norm\n",
              "0   1      1  0.527273  0.166667  ...  0.767506  0.768934  191     0.00000\n",
              "1   1      2  0.657273  0.212500  ...  0.730972  0.773978  190     0.00277\n",
              "2   1      3  0.473452  0.428571  ...  0.696703  0.712003  189     0.00554\n",
              "3   1      4  0.533114  0.452104  ...  0.654375  0.701137  188     0.00831\n",
              "4   1      5  0.500120  0.418008  ...  0.636001  0.712244  187     0.01108\n",
              "\n",
              "[5 rows x 28 columns]"
            ]
          },
          "metadata": {
            "tags": []
          },
          "execution_count": 102
        }
      ]
    },
    {
      "cell_type": "markdown",
      "metadata": {
        "id": "l5blbm9fl10h",
        "colab_type": "text"
      },
      "source": [
        "### 特征筛选"
      ]
    },
    {
      "cell_type": "code",
      "metadata": {
        "id": "PfPhcDmCjPsY",
        "colab_type": "code",
        "outputId": "9784206d-a97f-45e0-b052-8ed5c6637f5e",
        "colab": {
          "base_uri": "https://localhost:8080/",
          "height": 89
        }
      },
      "source": [
        "t = train_df.max()==0\n",
        "rebundant_ftr_name = t[t==True].index.tolist() #7个常量特征\n",
        "selected_ftr_name = train_df.columns.difference(rebundant_ftr_name)\n",
        "selected_ftr_name"
      ],
      "execution_count": 103,
      "outputs": [
        {
          "output_type": "execute_result",
          "data": {
            "text/plain": [
              "Index(['RUL', 'cycle', 'cycle_norm', 'id', 's11', 's12', 's13', 's14', 's15',\n",
              "       's17', 's2', 's20', 's21', 's3', 's4', 's6', 's7', 's8', 's9',\n",
              "       'setting1', 'setting2'],\n",
              "      dtype='object')"
            ]
          },
          "metadata": {
            "tags": []
          },
          "execution_count": 103
        }
      ]
    },
    {
      "cell_type": "code",
      "metadata": {
        "id": "f3Os9xWupDud",
        "colab_type": "code",
        "outputId": "cf7c8f3f-9447-4988-ab11-ac149337e24d",
        "colab": {
          "base_uri": "https://localhost:8080/",
          "height": 35
        }
      },
      "source": [
        "rebundant_ftr_name"
      ],
      "execution_count": 95,
      "outputs": [
        {
          "output_type": "execute_result",
          "data": {
            "text/plain": [
              "['setting3', 's1', 's5', 's10', 's16', 's18', 's19']"
            ]
          },
          "metadata": {
            "tags": []
          },
          "execution_count": 95
        }
      ]
    },
    {
      "cell_type": "code",
      "metadata": {
        "id": "C2FXvK7zl_mx",
        "colab_type": "code",
        "colab": {
          "base_uri": "https://localhost:8080/",
          "height": 224
        },
        "outputId": "db5f80f4-ec6f-4d76-b895-73c509ec1b85"
      },
      "source": [
        "#train_df =train_df.loc[:,selected_ftr_name]\n",
        "train_df.drop(rebundant_ftr_name, axis=1, inplace=True)\n",
        "train_df.head()"
      ],
      "execution_count": 104,
      "outputs": [
        {
          "output_type": "execute_result",
          "data": {
            "text/html": [
              "<div>\n",
              "<style scoped>\n",
              "    .dataframe tbody tr th:only-of-type {\n",
              "        vertical-align: middle;\n",
              "    }\n",
              "\n",
              "    .dataframe tbody tr th {\n",
              "        vertical-align: top;\n",
              "    }\n",
              "\n",
              "    .dataframe thead th {\n",
              "        text-align: right;\n",
              "    }\n",
              "</style>\n",
              "<table border=\"1\" class=\"dataframe\">\n",
              "  <thead>\n",
              "    <tr style=\"text-align: right;\">\n",
              "      <th></th>\n",
              "      <th>id</th>\n",
              "      <th>cycle</th>\n",
              "      <th>setting1</th>\n",
              "      <th>setting2</th>\n",
              "      <th>s2</th>\n",
              "      <th>s3</th>\n",
              "      <th>s4</th>\n",
              "      <th>s6</th>\n",
              "      <th>s7</th>\n",
              "      <th>s8</th>\n",
              "      <th>s9</th>\n",
              "      <th>s11</th>\n",
              "      <th>s12</th>\n",
              "      <th>s13</th>\n",
              "      <th>s14</th>\n",
              "      <th>s15</th>\n",
              "      <th>s17</th>\n",
              "      <th>s20</th>\n",
              "      <th>s21</th>\n",
              "      <th>RUL</th>\n",
              "      <th>cycle_norm</th>\n",
              "    </tr>\n",
              "  </thead>\n",
              "  <tbody>\n",
              "    <tr>\n",
              "      <th>0</th>\n",
              "      <td>1</td>\n",
              "      <td>1</td>\n",
              "      <td>0.527273</td>\n",
              "      <td>0.166667</td>\n",
              "      <td>0.152747</td>\n",
              "      <td>0.495953</td>\n",
              "      <td>0.307035</td>\n",
              "      <td>1.0</td>\n",
              "      <td>0.766807</td>\n",
              "      <td>0.361307</td>\n",
              "      <td>0.091366</td>\n",
              "      <td>0.425668</td>\n",
              "      <td>0.640978</td>\n",
              "      <td>0.231062</td>\n",
              "      <td>0.200888</td>\n",
              "      <td>0.446382</td>\n",
              "      <td>0.287032</td>\n",
              "      <td>0.767506</td>\n",
              "      <td>0.768934</td>\n",
              "      <td>191</td>\n",
              "      <td>0.00000</td>\n",
              "    </tr>\n",
              "    <tr>\n",
              "      <th>1</th>\n",
              "      <td>1</td>\n",
              "      <td>2</td>\n",
              "      <td>0.657273</td>\n",
              "      <td>0.212500</td>\n",
              "      <td>0.227676</td>\n",
              "      <td>0.530622</td>\n",
              "      <td>0.339481</td>\n",
              "      <td>1.0</td>\n",
              "      <td>0.689345</td>\n",
              "      <td>0.332918</td>\n",
              "      <td>0.085096</td>\n",
              "      <td>0.434339</td>\n",
              "      <td>0.741327</td>\n",
              "      <td>0.301665</td>\n",
              "      <td>0.177575</td>\n",
              "      <td>0.480236</td>\n",
              "      <td>0.287032</td>\n",
              "      <td>0.730972</td>\n",
              "      <td>0.773978</td>\n",
              "      <td>190</td>\n",
              "      <td>0.00277</td>\n",
              "    </tr>\n",
              "    <tr>\n",
              "      <th>2</th>\n",
              "      <td>1</td>\n",
              "      <td>3</td>\n",
              "      <td>0.473452</td>\n",
              "      <td>0.428571</td>\n",
              "      <td>0.285511</td>\n",
              "      <td>0.496246</td>\n",
              "      <td>0.360049</td>\n",
              "      <td>1.0</td>\n",
              "      <td>0.711203</td>\n",
              "      <td>0.365079</td>\n",
              "      <td>0.102209</td>\n",
              "      <td>0.367477</td>\n",
              "      <td>0.790895</td>\n",
              "      <td>0.283604</td>\n",
              "      <td>0.174066</td>\n",
              "      <td>0.463207</td>\n",
              "      <td>0.171647</td>\n",
              "      <td>0.696703</td>\n",
              "      <td>0.712003</td>\n",
              "      <td>189</td>\n",
              "      <td>0.00554</td>\n",
              "    </tr>\n",
              "    <tr>\n",
              "      <th>3</th>\n",
              "      <td>1</td>\n",
              "      <td>4</td>\n",
              "      <td>0.533114</td>\n",
              "      <td>0.452104</td>\n",
              "      <td>0.313856</td>\n",
              "      <td>0.428461</td>\n",
              "      <td>0.352301</td>\n",
              "      <td>1.0</td>\n",
              "      <td>0.736368</td>\n",
              "      <td>0.406349</td>\n",
              "      <td>0.104466</td>\n",
              "      <td>0.298350</td>\n",
              "      <td>0.857846</td>\n",
              "      <td>0.317044</td>\n",
              "      <td>0.173521</td>\n",
              "      <td>0.373086</td>\n",
              "      <td>0.209661</td>\n",
              "      <td>0.654375</td>\n",
              "      <td>0.701137</td>\n",
              "      <td>188</td>\n",
              "      <td>0.00831</td>\n",
              "    </tr>\n",
              "    <tr>\n",
              "      <th>4</th>\n",
              "      <td>1</td>\n",
              "      <td>5</td>\n",
              "      <td>0.500120</td>\n",
              "      <td>0.418008</td>\n",
              "      <td>0.332788</td>\n",
              "      <td>0.389367</td>\n",
              "      <td>0.376776</td>\n",
              "      <td>1.0</td>\n",
              "      <td>0.721245</td>\n",
              "      <td>0.393418</td>\n",
              "      <td>0.114538</td>\n",
              "      <td>0.291904</td>\n",
              "      <td>0.840364</td>\n",
              "      <td>0.307101</td>\n",
              "      <td>0.173151</td>\n",
              "      <td>0.408349</td>\n",
              "      <td>0.273072</td>\n",
              "      <td>0.636001</td>\n",
              "      <td>0.712244</td>\n",
              "      <td>187</td>\n",
              "      <td>0.01108</td>\n",
              "    </tr>\n",
              "  </tbody>\n",
              "</table>\n",
              "</div>"
            ],
            "text/plain": [
              "   id  cycle  setting1  setting2  ...       s20       s21  RUL  cycle_norm\n",
              "0   1      1  0.527273  0.166667  ...  0.767506  0.768934  191     0.00000\n",
              "1   1      2  0.657273  0.212500  ...  0.730972  0.773978  190     0.00277\n",
              "2   1      3  0.473452  0.428571  ...  0.696703  0.712003  189     0.00554\n",
              "3   1      4  0.533114  0.452104  ...  0.654375  0.701137  188     0.00831\n",
              "4   1      5  0.500120  0.418008  ...  0.636001  0.712244  187     0.01108\n",
              "\n",
              "[5 rows x 21 columns]"
            ]
          },
          "metadata": {
            "tags": []
          },
          "execution_count": 104
        }
      ]
    },
    {
      "cell_type": "markdown",
      "metadata": {
        "id": "rN3eYF5Lhm3c",
        "colab_type": "text"
      },
      "source": [
        "## 测试数据"
      ]
    },
    {
      "cell_type": "markdown",
      "metadata": {
        "id": "YTlKJQiNyt9Z",
        "colab_type": "text"
      },
      "source": [
        "### 数据平滑处理"
      ]
    },
    {
      "cell_type": "code",
      "metadata": {
        "id": "1RaIqZ4Uz5eQ",
        "colab_type": "code",
        "colab": {}
      },
      "source": [
        "test_df = raw_test_df"
      ],
      "execution_count": 0,
      "outputs": []
    },
    {
      "cell_type": "code",
      "metadata": {
        "id": "IwqJWf5_ytXL",
        "colab_type": "code",
        "colab": {}
      },
      "source": [
        "ewm_test_ftr = pd.DataFrame()\n",
        "ewm_test_ftr = smoothEWM(test_df, n_units, ftr_col_name,ewm_win_size)\n",
        "ewm_test_ftr = ewm_test_ftr[col_name]"
      ],
      "execution_count": 0,
      "outputs": []
    },
    {
      "cell_type": "code",
      "metadata": {
        "id": "_8i8X6Pyz9FO",
        "colab_type": "code",
        "colab": {
          "base_uri": "https://localhost:8080/",
          "height": 224
        },
        "outputId": "5e85306a-3804-48be-c6d6-ef7c60785e24"
      },
      "source": [
        "test_df = ewm_test_ftr\n",
        "test_df.head()"
      ],
      "execution_count": 107,
      "outputs": [
        {
          "output_type": "execute_result",
          "data": {
            "text/html": [
              "<div>\n",
              "<style scoped>\n",
              "    .dataframe tbody tr th:only-of-type {\n",
              "        vertical-align: middle;\n",
              "    }\n",
              "\n",
              "    .dataframe tbody tr th {\n",
              "        vertical-align: top;\n",
              "    }\n",
              "\n",
              "    .dataframe thead th {\n",
              "        text-align: right;\n",
              "    }\n",
              "</style>\n",
              "<table border=\"1\" class=\"dataframe\">\n",
              "  <thead>\n",
              "    <tr style=\"text-align: right;\">\n",
              "      <th></th>\n",
              "      <th>id</th>\n",
              "      <th>cycle</th>\n",
              "      <th>setting1</th>\n",
              "      <th>setting2</th>\n",
              "      <th>setting3</th>\n",
              "      <th>s1</th>\n",
              "      <th>s2</th>\n",
              "      <th>s3</th>\n",
              "      <th>s4</th>\n",
              "      <th>s5</th>\n",
              "      <th>s6</th>\n",
              "      <th>s7</th>\n",
              "      <th>s8</th>\n",
              "      <th>s9</th>\n",
              "      <th>s10</th>\n",
              "      <th>s11</th>\n",
              "      <th>s12</th>\n",
              "      <th>s13</th>\n",
              "      <th>s14</th>\n",
              "      <th>s15</th>\n",
              "      <th>s16</th>\n",
              "      <th>s17</th>\n",
              "      <th>s18</th>\n",
              "      <th>s19</th>\n",
              "      <th>s20</th>\n",
              "      <th>s21</th>\n",
              "    </tr>\n",
              "  </thead>\n",
              "  <tbody>\n",
              "    <tr>\n",
              "      <th>0</th>\n",
              "      <td>1</td>\n",
              "      <td>1</td>\n",
              "      <td>0.002300</td>\n",
              "      <td>0.000300</td>\n",
              "      <td>100.0</td>\n",
              "      <td>518.67</td>\n",
              "      <td>643.020000</td>\n",
              "      <td>1585.290000</td>\n",
              "      <td>1398.210000</td>\n",
              "      <td>14.62</td>\n",
              "      <td>21.61</td>\n",
              "      <td>553.900000</td>\n",
              "      <td>2388.040000</td>\n",
              "      <td>9050.170000</td>\n",
              "      <td>1.3</td>\n",
              "      <td>47.200000</td>\n",
              "      <td>521.720000</td>\n",
              "      <td>2388.030000</td>\n",
              "      <td>8125.550000</td>\n",
              "      <td>8.405200</td>\n",
              "      <td>0.03</td>\n",
              "      <td>392.000000</td>\n",
              "      <td>2388.0</td>\n",
              "      <td>100.0</td>\n",
              "      <td>38.860000</td>\n",
              "      <td>23.373500</td>\n",
              "    </tr>\n",
              "    <tr>\n",
              "      <th>1</th>\n",
              "      <td>1</td>\n",
              "      <td>2</td>\n",
              "      <td>-0.000450</td>\n",
              "      <td>-0.000030</td>\n",
              "      <td>100.0</td>\n",
              "      <td>518.67</td>\n",
              "      <td>642.299500</td>\n",
              "      <td>1587.028000</td>\n",
              "      <td>1396.675500</td>\n",
              "      <td>14.62</td>\n",
              "      <td>21.61</td>\n",
              "      <td>554.422500</td>\n",
              "      <td>2388.023500</td>\n",
              "      <td>9052.507500</td>\n",
              "      <td>1.3</td>\n",
              "      <td>47.365000</td>\n",
              "      <td>521.962000</td>\n",
              "      <td>2388.046500</td>\n",
              "      <td>8133.288500</td>\n",
              "      <td>8.391505</td>\n",
              "      <td>0.03</td>\n",
              "      <td>392.550000</td>\n",
              "      <td>2388.0</td>\n",
              "      <td>100.0</td>\n",
              "      <td>38.948000</td>\n",
              "      <td>23.383455</td>\n",
              "    </tr>\n",
              "    <tr>\n",
              "      <th>2</th>\n",
              "      <td>1</td>\n",
              "      <td>3</td>\n",
              "      <td>-0.000149</td>\n",
              "      <td>0.000022</td>\n",
              "      <td>100.0</td>\n",
              "      <td>518.67</td>\n",
              "      <td>642.364020</td>\n",
              "      <td>1586.992625</td>\n",
              "      <td>1398.550598</td>\n",
              "      <td>14.62</td>\n",
              "      <td>21.61</td>\n",
              "      <td>554.296877</td>\n",
              "      <td>2388.034153</td>\n",
              "      <td>9054.297375</td>\n",
              "      <td>1.3</td>\n",
              "      <td>47.419269</td>\n",
              "      <td>521.965216</td>\n",
              "      <td>2388.039867</td>\n",
              "      <td>8132.006744</td>\n",
              "      <td>8.412648</td>\n",
              "      <td>0.03</td>\n",
              "      <td>392.730897</td>\n",
              "      <td>2388.0</td>\n",
              "      <td>100.0</td>\n",
              "      <td>39.001063</td>\n",
              "      <td>23.396779</td>\n",
              "    </tr>\n",
              "    <tr>\n",
              "      <th>3</th>\n",
              "      <td>1</td>\n",
              "      <td>4</td>\n",
              "      <td>0.001284</td>\n",
              "      <td>0.000015</td>\n",
              "      <td>100.0</td>\n",
              "      <td>518.67</td>\n",
              "      <td>642.389052</td>\n",
              "      <td>1586.046223</td>\n",
              "      <td>1401.143215</td>\n",
              "      <td>14.62</td>\n",
              "      <td>21.61</td>\n",
              "      <td>554.222131</td>\n",
              "      <td>2388.032785</td>\n",
              "      <td>9051.329847</td>\n",
              "      <td>1.3</td>\n",
              "      <td>47.373386</td>\n",
              "      <td>521.772413</td>\n",
              "      <td>2388.043205</td>\n",
              "      <td>8132.301032</td>\n",
              "      <td>8.405746</td>\n",
              "      <td>0.03</td>\n",
              "      <td>392.160644</td>\n",
              "      <td>2388.0</td>\n",
              "      <td>100.0</td>\n",
              "      <td>39.000713</td>\n",
              "      <td>23.389176</td>\n",
              "    </tr>\n",
              "    <tr>\n",
              "      <th>4</th>\n",
              "      <td>1</td>\n",
              "      <td>5</td>\n",
              "      <td>0.001317</td>\n",
              "      <td>0.000011</td>\n",
              "      <td>100.0</td>\n",
              "      <td>518.67</td>\n",
              "      <td>642.423773</td>\n",
              "      <td>1586.374570</td>\n",
              "      <td>1401.366209</td>\n",
              "      <td>14.62</td>\n",
              "      <td>21.61</td>\n",
              "      <td>554.204295</td>\n",
              "      <td>2388.026244</td>\n",
              "      <td>9049.383537</td>\n",
              "      <td>1.3</td>\n",
              "      <td>47.355190</td>\n",
              "      <td>521.880808</td>\n",
              "      <td>2388.039415</td>\n",
              "      <td>8131.508415</td>\n",
              "      <td>8.404987</td>\n",
              "      <td>0.03</td>\n",
              "      <td>391.540382</td>\n",
              "      <td>2388.0</td>\n",
              "      <td>100.0</td>\n",
              "      <td>38.997637</td>\n",
              "      <td>23.396015</td>\n",
              "    </tr>\n",
              "  </tbody>\n",
              "</table>\n",
              "</div>"
            ],
            "text/plain": [
              "   id  cycle  setting1  setting2  ...     s18    s19        s20        s21\n",
              "0   1      1  0.002300  0.000300  ...  2388.0  100.0  38.860000  23.373500\n",
              "1   1      2 -0.000450 -0.000030  ...  2388.0  100.0  38.948000  23.383455\n",
              "2   1      3 -0.000149  0.000022  ...  2388.0  100.0  39.001063  23.396779\n",
              "3   1      4  0.001284  0.000015  ...  2388.0  100.0  39.000713  23.389176\n",
              "4   1      5  0.001317  0.000011  ...  2388.0  100.0  38.997637  23.396015\n",
              "\n",
              "[5 rows x 26 columns]"
            ]
          },
          "metadata": {
            "tags": []
          },
          "execution_count": 107
        }
      ]
    },
    {
      "cell_type": "markdown",
      "metadata": {
        "id": "RbAnWUQ1hqTU",
        "colab_type": "text"
      },
      "source": [
        "### MinMax归一化处理"
      ]
    },
    {
      "cell_type": "code",
      "metadata": {
        "id": "-G9c62Mtgxiy",
        "colab_type": "code",
        "colab": {}
      },
      "source": [
        "test_df['cycle_norm'] = test_df['cycle']\n",
        "norm_test_df = pd.DataFrame(min_max_scaler.transform(test_df[cols_normalize]), \n",
        "                            columns=cols_normalize, \n",
        "                            index=test_df.index)\n",
        "test_join_df = test_df[test_df.columns.difference(cols_normalize)].join(norm_test_df)\n",
        "test_df = test_join_df.reindex(columns = test_df.columns)\n",
        "test_df = test_df.reset_index(drop=True)"
      ],
      "execution_count": 0,
      "outputs": []
    },
    {
      "cell_type": "code",
      "metadata": {
        "id": "olSwxmcz2nfg",
        "colab_type": "code",
        "colab": {}
      },
      "source": [
        "raw_rul_df = pd.read_csv(test_rul_file, names=['RUL'],header=None,delim_whitespace=True) \n",
        "rul_df = raw_rul_df"
      ],
      "execution_count": 0,
      "outputs": []
    },
    {
      "cell_type": "code",
      "metadata": {
        "id": "w4O1kEaU2xeU",
        "colab_type": "code",
        "colab": {
          "base_uri": "https://localhost:8080/",
          "height": 204
        },
        "outputId": "712588f7-6a70-4b37-c38c-f7e9c4c9e4bc"
      },
      "source": [
        "rul_df.head()"
      ],
      "execution_count": 111,
      "outputs": [
        {
          "output_type": "execute_result",
          "data": {
            "text/html": [
              "<div>\n",
              "<style scoped>\n",
              "    .dataframe tbody tr th:only-of-type {\n",
              "        vertical-align: middle;\n",
              "    }\n",
              "\n",
              "    .dataframe tbody tr th {\n",
              "        vertical-align: top;\n",
              "    }\n",
              "\n",
              "    .dataframe thead th {\n",
              "        text-align: right;\n",
              "    }\n",
              "</style>\n",
              "<table border=\"1\" class=\"dataframe\">\n",
              "  <thead>\n",
              "    <tr style=\"text-align: right;\">\n",
              "      <th></th>\n",
              "      <th>RUL</th>\n",
              "    </tr>\n",
              "  </thead>\n",
              "  <tbody>\n",
              "    <tr>\n",
              "      <th>0</th>\n",
              "      <td>112</td>\n",
              "    </tr>\n",
              "    <tr>\n",
              "      <th>1</th>\n",
              "      <td>98</td>\n",
              "    </tr>\n",
              "    <tr>\n",
              "      <th>2</th>\n",
              "      <td>69</td>\n",
              "    </tr>\n",
              "    <tr>\n",
              "      <th>3</th>\n",
              "      <td>82</td>\n",
              "    </tr>\n",
              "    <tr>\n",
              "      <th>4</th>\n",
              "      <td>91</td>\n",
              "    </tr>\n",
              "  </tbody>\n",
              "</table>\n",
              "</div>"
            ],
            "text/plain": [
              "   RUL\n",
              "0  112\n",
              "1   98\n",
              "2   69\n",
              "3   82\n",
              "4   91"
            ]
          },
          "metadata": {
            "tags": []
          },
          "execution_count": 111
        }
      ]
    },
    {
      "cell_type": "markdown",
      "metadata": {
        "id": "mlnhqzz-hzqO",
        "colab_type": "text"
      },
      "source": [
        "### 计算测试数据的RUL"
      ]
    },
    {
      "cell_type": "code",
      "metadata": {
        "id": "7WUrD0Tdhycd",
        "colab_type": "code",
        "colab": {}
      },
      "source": [
        "rul = pd.DataFrame(test_df.groupby('id')['cycle'].max()).reset_index() \n",
        "rul.columns = ['id', 'max']\n",
        "rul_df.columns = ['more']\n",
        "rul_df['id'] = rul_df.index + 1 # 获得每个发动机的编号\n",
        "rul_df['max'] = rul['max'] + rul_df['more'] # 测试数据的生命周期=发动机的运行时间+剩余寿命\n",
        "rul_df.drop('more', axis=1, inplace=True)\n",
        "\n",
        "# generate RUL for test data\n",
        "test_df = test_df.merge(rul_df, on=['id'], how='left')\n",
        "test_df['RUL'] = test_df['max'] - test_df['cycle']\n",
        "test_df.drop('max', axis=1, inplace=True)\n"
      ],
      "execution_count": 0,
      "outputs": []
    },
    {
      "cell_type": "code",
      "metadata": {
        "id": "ILnP4SpsiIUH",
        "colab_type": "code",
        "colab": {
          "base_uri": "https://localhost:8080/",
          "height": 224
        },
        "outputId": "ea6c1a1e-3022-461f-bbbb-4d11d1c8220b"
      },
      "source": [
        "test_df.drop(rebundant_ftr_name, axis=1, inplace=True)\n",
        "test_df.head()"
      ],
      "execution_count": 113,
      "outputs": [
        {
          "output_type": "execute_result",
          "data": {
            "text/html": [
              "<div>\n",
              "<style scoped>\n",
              "    .dataframe tbody tr th:only-of-type {\n",
              "        vertical-align: middle;\n",
              "    }\n",
              "\n",
              "    .dataframe tbody tr th {\n",
              "        vertical-align: top;\n",
              "    }\n",
              "\n",
              "    .dataframe thead th {\n",
              "        text-align: right;\n",
              "    }\n",
              "</style>\n",
              "<table border=\"1\" class=\"dataframe\">\n",
              "  <thead>\n",
              "    <tr style=\"text-align: right;\">\n",
              "      <th></th>\n",
              "      <th>id</th>\n",
              "      <th>cycle</th>\n",
              "      <th>setting1</th>\n",
              "      <th>setting2</th>\n",
              "      <th>s2</th>\n",
              "      <th>s3</th>\n",
              "      <th>s4</th>\n",
              "      <th>s6</th>\n",
              "      <th>s7</th>\n",
              "      <th>s8</th>\n",
              "      <th>s9</th>\n",
              "      <th>s11</th>\n",
              "      <th>s12</th>\n",
              "      <th>s13</th>\n",
              "      <th>s14</th>\n",
              "      <th>s15</th>\n",
              "      <th>s17</th>\n",
              "      <th>s20</th>\n",
              "      <th>s21</th>\n",
              "      <th>cycle_norm</th>\n",
              "      <th>RUL</th>\n",
              "    </tr>\n",
              "  </thead>\n",
              "  <tbody>\n",
              "    <tr>\n",
              "      <th>0</th>\n",
              "      <td>1</td>\n",
              "      <td>1</td>\n",
              "      <td>0.800000</td>\n",
              "      <td>0.750000</td>\n",
              "      <td>0.648143</td>\n",
              "      <td>0.364829</td>\n",
              "      <td>0.251527</td>\n",
              "      <td>1.0</td>\n",
              "      <td>0.660600</td>\n",
              "      <td>0.309691</td>\n",
              "      <td>0.112770</td>\n",
              "      <td>0.212834</td>\n",
              "      <td>0.658634</td>\n",
              "      <td>0.256736</td>\n",
              "      <td>0.123188</td>\n",
              "      <td>0.374820</td>\n",
              "      <td>0.287032</td>\n",
              "      <td>0.546084</td>\n",
              "      <td>0.678223</td>\n",
              "      <td>0.00000</td>\n",
              "      <td>142</td>\n",
              "    </tr>\n",
              "    <tr>\n",
              "      <th>1</th>\n",
              "      <td>1</td>\n",
              "      <td>2</td>\n",
              "      <td>0.550000</td>\n",
              "      <td>0.475000</td>\n",
              "      <td>0.350699</td>\n",
              "      <td>0.416505</td>\n",
              "      <td>0.215889</td>\n",
              "      <td>1.0</td>\n",
              "      <td>0.781237</td>\n",
              "      <td>0.267109</td>\n",
              "      <td>0.125341</td>\n",
              "      <td>0.342899</td>\n",
              "      <td>0.729850</td>\n",
              "      <td>0.299097</td>\n",
              "      <td>0.169193</td>\n",
              "      <td>0.306287</td>\n",
              "      <td>0.365966</td>\n",
              "      <td>0.643510</td>\n",
              "      <td>0.698070</td>\n",
              "      <td>0.00277</td>\n",
              "      <td>141</td>\n",
              "    </tr>\n",
              "    <tr>\n",
              "      <th>2</th>\n",
              "      <td>1</td>\n",
              "      <td>3</td>\n",
              "      <td>0.577409</td>\n",
              "      <td>0.518549</td>\n",
              "      <td>0.377335</td>\n",
              "      <td>0.415454</td>\n",
              "      <td>0.259438</td>\n",
              "      <td>1.0</td>\n",
              "      <td>0.752233</td>\n",
              "      <td>0.294601</td>\n",
              "      <td>0.134967</td>\n",
              "      <td>0.385678</td>\n",
              "      <td>0.730797</td>\n",
              "      <td>0.282068</td>\n",
              "      <td>0.161573</td>\n",
              "      <td>0.412092</td>\n",
              "      <td>0.391927</td>\n",
              "      <td>0.702257</td>\n",
              "      <td>0.724633</td>\n",
              "      <td>0.00554</td>\n",
              "      <td>140</td>\n",
              "    </tr>\n",
              "    <tr>\n",
              "      <th>3</th>\n",
              "      <td>1</td>\n",
              "      <td>4</td>\n",
              "      <td>0.707649</td>\n",
              "      <td>0.512438</td>\n",
              "      <td>0.387669</td>\n",
              "      <td>0.387314</td>\n",
              "      <td>0.319652</td>\n",
              "      <td>1.0</td>\n",
              "      <td>0.734975</td>\n",
              "      <td>0.291070</td>\n",
              "      <td>0.119008</td>\n",
              "      <td>0.349510</td>\n",
              "      <td>0.674059</td>\n",
              "      <td>0.290639</td>\n",
              "      <td>0.163322</td>\n",
              "      <td>0.377555</td>\n",
              "      <td>0.310087</td>\n",
              "      <td>0.701869</td>\n",
              "      <td>0.709474</td>\n",
              "      <td>0.00831</td>\n",
              "      <td>139</td>\n",
              "    </tr>\n",
              "    <tr>\n",
              "      <th>4</th>\n",
              "      <td>1</td>\n",
              "      <td>5</td>\n",
              "      <td>0.710672</td>\n",
              "      <td>0.508867</td>\n",
              "      <td>0.402002</td>\n",
              "      <td>0.397077</td>\n",
              "      <td>0.324831</td>\n",
              "      <td>1.0</td>\n",
              "      <td>0.730857</td>\n",
              "      <td>0.274190</td>\n",
              "      <td>0.108541</td>\n",
              "      <td>0.335166</td>\n",
              "      <td>0.705957</td>\n",
              "      <td>0.280906</td>\n",
              "      <td>0.158610</td>\n",
              "      <td>0.373753</td>\n",
              "      <td>0.221069</td>\n",
              "      <td>0.698464</td>\n",
              "      <td>0.723110</td>\n",
              "      <td>0.01108</td>\n",
              "      <td>138</td>\n",
              "    </tr>\n",
              "  </tbody>\n",
              "</table>\n",
              "</div>"
            ],
            "text/plain": [
              "   id  cycle  setting1  setting2  ...       s20       s21  cycle_norm  RUL\n",
              "0   1      1  0.800000  0.750000  ...  0.546084  0.678223     0.00000  142\n",
              "1   1      2  0.550000  0.475000  ...  0.643510  0.698070     0.00277  141\n",
              "2   1      3  0.577409  0.518549  ...  0.702257  0.724633     0.00554  140\n",
              "3   1      4  0.707649  0.512438  ...  0.701869  0.709474     0.00831  139\n",
              "4   1      5  0.710672  0.508867  ...  0.698464  0.723110     0.01108  138\n",
              "\n",
              "[5 rows x 21 columns]"
            ]
          },
          "metadata": {
            "tags": []
          },
          "execution_count": 113
        }
      ]
    },
    {
      "cell_type": "code",
      "metadata": {
        "id": "edvlvMdV4_2X",
        "colab_type": "code",
        "colab": {}
      },
      "source": [
        "train_df = train_df[test_df.columns]"
      ],
      "execution_count": 0,
      "outputs": []
    },
    {
      "cell_type": "code",
      "metadata": {
        "id": "orGdTO3R5Fee",
        "colab_type": "code",
        "colab": {
          "base_uri": "https://localhost:8080/",
          "height": 204
        },
        "outputId": "b092f2b1-0507-4496-f249-4860b56d2ff1"
      },
      "source": [
        "train_df.head()"
      ],
      "execution_count": 115,
      "outputs": [
        {
          "output_type": "execute_result",
          "data": {
            "text/html": [
              "<div>\n",
              "<style scoped>\n",
              "    .dataframe tbody tr th:only-of-type {\n",
              "        vertical-align: middle;\n",
              "    }\n",
              "\n",
              "    .dataframe tbody tr th {\n",
              "        vertical-align: top;\n",
              "    }\n",
              "\n",
              "    .dataframe thead th {\n",
              "        text-align: right;\n",
              "    }\n",
              "</style>\n",
              "<table border=\"1\" class=\"dataframe\">\n",
              "  <thead>\n",
              "    <tr style=\"text-align: right;\">\n",
              "      <th></th>\n",
              "      <th>id</th>\n",
              "      <th>cycle</th>\n",
              "      <th>setting1</th>\n",
              "      <th>setting2</th>\n",
              "      <th>s2</th>\n",
              "      <th>s3</th>\n",
              "      <th>s4</th>\n",
              "      <th>s6</th>\n",
              "      <th>s7</th>\n",
              "      <th>s8</th>\n",
              "      <th>s9</th>\n",
              "      <th>s11</th>\n",
              "      <th>s12</th>\n",
              "      <th>s13</th>\n",
              "      <th>s14</th>\n",
              "      <th>s15</th>\n",
              "      <th>s17</th>\n",
              "      <th>s20</th>\n",
              "      <th>s21</th>\n",
              "      <th>cycle_norm</th>\n",
              "      <th>RUL</th>\n",
              "    </tr>\n",
              "  </thead>\n",
              "  <tbody>\n",
              "    <tr>\n",
              "      <th>0</th>\n",
              "      <td>1</td>\n",
              "      <td>1</td>\n",
              "      <td>0.527273</td>\n",
              "      <td>0.166667</td>\n",
              "      <td>0.152747</td>\n",
              "      <td>0.495953</td>\n",
              "      <td>0.307035</td>\n",
              "      <td>1.0</td>\n",
              "      <td>0.766807</td>\n",
              "      <td>0.361307</td>\n",
              "      <td>0.091366</td>\n",
              "      <td>0.425668</td>\n",
              "      <td>0.640978</td>\n",
              "      <td>0.231062</td>\n",
              "      <td>0.200888</td>\n",
              "      <td>0.446382</td>\n",
              "      <td>0.287032</td>\n",
              "      <td>0.767506</td>\n",
              "      <td>0.768934</td>\n",
              "      <td>0.00000</td>\n",
              "      <td>191</td>\n",
              "    </tr>\n",
              "    <tr>\n",
              "      <th>1</th>\n",
              "      <td>1</td>\n",
              "      <td>2</td>\n",
              "      <td>0.657273</td>\n",
              "      <td>0.212500</td>\n",
              "      <td>0.227676</td>\n",
              "      <td>0.530622</td>\n",
              "      <td>0.339481</td>\n",
              "      <td>1.0</td>\n",
              "      <td>0.689345</td>\n",
              "      <td>0.332918</td>\n",
              "      <td>0.085096</td>\n",
              "      <td>0.434339</td>\n",
              "      <td>0.741327</td>\n",
              "      <td>0.301665</td>\n",
              "      <td>0.177575</td>\n",
              "      <td>0.480236</td>\n",
              "      <td>0.287032</td>\n",
              "      <td>0.730972</td>\n",
              "      <td>0.773978</td>\n",
              "      <td>0.00277</td>\n",
              "      <td>190</td>\n",
              "    </tr>\n",
              "    <tr>\n",
              "      <th>2</th>\n",
              "      <td>1</td>\n",
              "      <td>3</td>\n",
              "      <td>0.473452</td>\n",
              "      <td>0.428571</td>\n",
              "      <td>0.285511</td>\n",
              "      <td>0.496246</td>\n",
              "      <td>0.360049</td>\n",
              "      <td>1.0</td>\n",
              "      <td>0.711203</td>\n",
              "      <td>0.365079</td>\n",
              "      <td>0.102209</td>\n",
              "      <td>0.367477</td>\n",
              "      <td>0.790895</td>\n",
              "      <td>0.283604</td>\n",
              "      <td>0.174066</td>\n",
              "      <td>0.463207</td>\n",
              "      <td>0.171647</td>\n",
              "      <td>0.696703</td>\n",
              "      <td>0.712003</td>\n",
              "      <td>0.00554</td>\n",
              "      <td>189</td>\n",
              "    </tr>\n",
              "    <tr>\n",
              "      <th>3</th>\n",
              "      <td>1</td>\n",
              "      <td>4</td>\n",
              "      <td>0.533114</td>\n",
              "      <td>0.452104</td>\n",
              "      <td>0.313856</td>\n",
              "      <td>0.428461</td>\n",
              "      <td>0.352301</td>\n",
              "      <td>1.0</td>\n",
              "      <td>0.736368</td>\n",
              "      <td>0.406349</td>\n",
              "      <td>0.104466</td>\n",
              "      <td>0.298350</td>\n",
              "      <td>0.857846</td>\n",
              "      <td>0.317044</td>\n",
              "      <td>0.173521</td>\n",
              "      <td>0.373086</td>\n",
              "      <td>0.209661</td>\n",
              "      <td>0.654375</td>\n",
              "      <td>0.701137</td>\n",
              "      <td>0.00831</td>\n",
              "      <td>188</td>\n",
              "    </tr>\n",
              "    <tr>\n",
              "      <th>4</th>\n",
              "      <td>1</td>\n",
              "      <td>5</td>\n",
              "      <td>0.500120</td>\n",
              "      <td>0.418008</td>\n",
              "      <td>0.332788</td>\n",
              "      <td>0.389367</td>\n",
              "      <td>0.376776</td>\n",
              "      <td>1.0</td>\n",
              "      <td>0.721245</td>\n",
              "      <td>0.393418</td>\n",
              "      <td>0.114538</td>\n",
              "      <td>0.291904</td>\n",
              "      <td>0.840364</td>\n",
              "      <td>0.307101</td>\n",
              "      <td>0.173151</td>\n",
              "      <td>0.408349</td>\n",
              "      <td>0.273072</td>\n",
              "      <td>0.636001</td>\n",
              "      <td>0.712244</td>\n",
              "      <td>0.01108</td>\n",
              "      <td>187</td>\n",
              "    </tr>\n",
              "  </tbody>\n",
              "</table>\n",
              "</div>"
            ],
            "text/plain": [
              "   id  cycle  setting1  setting2  ...       s20       s21  cycle_norm  RUL\n",
              "0   1      1  0.527273  0.166667  ...  0.767506  0.768934     0.00000  191\n",
              "1   1      2  0.657273  0.212500  ...  0.730972  0.773978     0.00277  190\n",
              "2   1      3  0.473452  0.428571  ...  0.696703  0.712003     0.00554  189\n",
              "3   1      4  0.533114  0.452104  ...  0.654375  0.701137     0.00831  188\n",
              "4   1      5  0.500120  0.418008  ...  0.636001  0.712244     0.01108  187\n",
              "\n",
              "[5 rows x 21 columns]"
            ]
          },
          "metadata": {
            "tags": []
          },
          "execution_count": 115
        }
      ]
    },
    {
      "cell_type": "markdown",
      "metadata": {
        "id": "EXT_hoEXiXUb",
        "colab_type": "text"
      },
      "source": [
        "# 生成样本特征"
      ]
    },
    {
      "cell_type": "code",
      "metadata": {
        "id": "rzzUVlynif94",
        "colab_type": "code",
        "colab": {}
      },
      "source": [
        "sequence_length = 30 #设置时间窗口大小\n",
        "sequence_cols = list(selected_ftr_name.difference(['RUL','cycle','id'])) #设置特征(18)"
      ],
      "execution_count": 0,
      "outputs": []
    },
    {
      "cell_type": "code",
      "metadata": {
        "id": "-vw0Arlup7rk",
        "colab_type": "code",
        "outputId": "472839fd-4109-4bbf-b6ae-851f93f03ce2",
        "colab": {
          "base_uri": "https://localhost:8080/",
          "height": 35
        }
      },
      "source": [
        "len(sequence_cols)"
      ],
      "execution_count": 137,
      "outputs": [
        {
          "output_type": "execute_result",
          "data": {
            "text/plain": [
              "18"
            ]
          },
          "metadata": {
            "tags": []
          },
          "execution_count": 137
        }
      ]
    },
    {
      "cell_type": "code",
      "metadata": {
        "id": "b20ANWWMiKLF",
        "colab_type": "code",
        "colab": {}
      },
      "source": [
        "# pick a large window size of 50 cycles\n",
        "\n",
        "# function to reshape features into (samples, time steps, features) \n",
        "# 生成特征样本\n",
        "def gen_sequence(id_df, seq_length, seq_cols):\n",
        "    \"\"\" Only sequences that meet the window-length are considered, no padding is used. This means for testing\n",
        "    we need to drop those which are below the window-length. An alternative would be to pad sequences so that\n",
        "    we can use shorter ones \n",
        "    只有比时间窗口大的序列会被提取特征，若测试样本的时间序列过小，则被忽视。\n",
        "    另一种方法是对序列进行填充\n",
        "    \"\"\"\n",
        "    # for one id I put all the rows in a single matrix\n",
        "    data_matrix = id_df[seq_cols].values # 获得对应列的值\n",
        "    num_elements = data_matrix.shape[0]\n",
        "    # Iterate over two lists in parallel.\n",
        "    # For example id1 have 192 rows and sequence_length is equal to 50\n",
        "    # so zip iterate over two following list of numbers (0,142),(50,192)\n",
        "    # 0 50 -> from row 0 to row 50\n",
        "    # 1 51 -> from row 1 to row 51\n",
        "    # 2 52 -> from row 2 to row 52\n",
        "    # ...\n",
        "    # 141 191 -> from row 141 to 191\n",
        "    \n",
        "    # zip将数据打包为元组的列表\n",
        "    for start, stop in zip(range(0, num_elements-seq_length), range(seq_length, num_elements)):\n",
        "        yield data_matrix[start:stop, :] #yield 相当于返回\n",
        "        "
      ],
      "execution_count": 0,
      "outputs": []
    },
    {
      "cell_type": "code",
      "metadata": {
        "id": "DEeBufZ-o0Y2",
        "colab_type": "code",
        "outputId": "a284ae0b-cb09-4269-8e32-e248085ca611",
        "colab": {
          "base_uri": "https://localhost:8080/",
          "height": 35
        }
      },
      "source": [
        "# TODO for debug \n",
        "# 样例测试\n",
        "# val is a list of 192 - 50 = 142 bi-dimensional array (50 rows x 18 columns)\n",
        "val=list(gen_sequence(train_df[train_df['id']==1], sequence_length, sequence_cols))\n",
        "print(len(val))"
      ],
      "execution_count": 139,
      "outputs": [
        {
          "output_type": "stream",
          "text": [
            "162\n"
          ],
          "name": "stdout"
        }
      ]
    },
    {
      "cell_type": "code",
      "metadata": {
        "id": "7csjFBDlpqVT",
        "colab_type": "code",
        "outputId": "eb3e8491-c42d-4aba-b8b6-20a20c5c9066",
        "colab": {
          "base_uri": "https://localhost:8080/",
          "height": 35
        }
      },
      "source": [
        "# 对每个发动机生成训练样本\n",
        "# generator for the sequences\n",
        "# transform each id of the train dataset in a sequence\n",
        "seq_gen = (list(gen_sequence(train_df[train_df['id']==id], sequence_length, sequence_cols)) \n",
        "           for id in train_df['id'].unique())\n",
        "# generate sequences and convert to numpy array\n",
        "seq_array = np.concatenate(list(seq_gen)).astype(np.float32)\n",
        "print(seq_array.shape)"
      ],
      "execution_count": 140,
      "outputs": [
        {
          "output_type": "stream",
          "text": [
            "(17631, 30, 18)\n"
          ],
          "name": "stdout"
        }
      ]
    },
    {
      "cell_type": "code",
      "metadata": {
        "id": "oUcSSs8Y3WJy",
        "colab_type": "code",
        "colab": {
          "base_uri": "https://localhost:8080/",
          "height": 204
        },
        "outputId": "0d0994ce-5071-4094-cc22-3580b8f5fb42"
      },
      "source": [
        "train_df.head()"
      ],
      "execution_count": 141,
      "outputs": [
        {
          "output_type": "execute_result",
          "data": {
            "text/html": [
              "<div>\n",
              "<style scoped>\n",
              "    .dataframe tbody tr th:only-of-type {\n",
              "        vertical-align: middle;\n",
              "    }\n",
              "\n",
              "    .dataframe tbody tr th {\n",
              "        vertical-align: top;\n",
              "    }\n",
              "\n",
              "    .dataframe thead th {\n",
              "        text-align: right;\n",
              "    }\n",
              "</style>\n",
              "<table border=\"1\" class=\"dataframe\">\n",
              "  <thead>\n",
              "    <tr style=\"text-align: right;\">\n",
              "      <th></th>\n",
              "      <th>id</th>\n",
              "      <th>cycle</th>\n",
              "      <th>setting1</th>\n",
              "      <th>setting2</th>\n",
              "      <th>s2</th>\n",
              "      <th>s3</th>\n",
              "      <th>s4</th>\n",
              "      <th>s6</th>\n",
              "      <th>s7</th>\n",
              "      <th>s8</th>\n",
              "      <th>s9</th>\n",
              "      <th>s11</th>\n",
              "      <th>s12</th>\n",
              "      <th>s13</th>\n",
              "      <th>s14</th>\n",
              "      <th>s15</th>\n",
              "      <th>s17</th>\n",
              "      <th>s20</th>\n",
              "      <th>s21</th>\n",
              "      <th>cycle_norm</th>\n",
              "      <th>RUL</th>\n",
              "    </tr>\n",
              "  </thead>\n",
              "  <tbody>\n",
              "    <tr>\n",
              "      <th>0</th>\n",
              "      <td>1</td>\n",
              "      <td>1</td>\n",
              "      <td>0.527273</td>\n",
              "      <td>0.166667</td>\n",
              "      <td>0.152747</td>\n",
              "      <td>0.495953</td>\n",
              "      <td>0.307035</td>\n",
              "      <td>1.0</td>\n",
              "      <td>0.766807</td>\n",
              "      <td>0.361307</td>\n",
              "      <td>0.091366</td>\n",
              "      <td>0.425668</td>\n",
              "      <td>0.640978</td>\n",
              "      <td>0.231062</td>\n",
              "      <td>0.200888</td>\n",
              "      <td>0.446382</td>\n",
              "      <td>0.287032</td>\n",
              "      <td>0.767506</td>\n",
              "      <td>0.768934</td>\n",
              "      <td>0.00000</td>\n",
              "      <td>191</td>\n",
              "    </tr>\n",
              "    <tr>\n",
              "      <th>1</th>\n",
              "      <td>1</td>\n",
              "      <td>2</td>\n",
              "      <td>0.657273</td>\n",
              "      <td>0.212500</td>\n",
              "      <td>0.227676</td>\n",
              "      <td>0.530622</td>\n",
              "      <td>0.339481</td>\n",
              "      <td>1.0</td>\n",
              "      <td>0.689345</td>\n",
              "      <td>0.332918</td>\n",
              "      <td>0.085096</td>\n",
              "      <td>0.434339</td>\n",
              "      <td>0.741327</td>\n",
              "      <td>0.301665</td>\n",
              "      <td>0.177575</td>\n",
              "      <td>0.480236</td>\n",
              "      <td>0.287032</td>\n",
              "      <td>0.730972</td>\n",
              "      <td>0.773978</td>\n",
              "      <td>0.00277</td>\n",
              "      <td>190</td>\n",
              "    </tr>\n",
              "    <tr>\n",
              "      <th>2</th>\n",
              "      <td>1</td>\n",
              "      <td>3</td>\n",
              "      <td>0.473452</td>\n",
              "      <td>0.428571</td>\n",
              "      <td>0.285511</td>\n",
              "      <td>0.496246</td>\n",
              "      <td>0.360049</td>\n",
              "      <td>1.0</td>\n",
              "      <td>0.711203</td>\n",
              "      <td>0.365079</td>\n",
              "      <td>0.102209</td>\n",
              "      <td>0.367477</td>\n",
              "      <td>0.790895</td>\n",
              "      <td>0.283604</td>\n",
              "      <td>0.174066</td>\n",
              "      <td>0.463207</td>\n",
              "      <td>0.171647</td>\n",
              "      <td>0.696703</td>\n",
              "      <td>0.712003</td>\n",
              "      <td>0.00554</td>\n",
              "      <td>189</td>\n",
              "    </tr>\n",
              "    <tr>\n",
              "      <th>3</th>\n",
              "      <td>1</td>\n",
              "      <td>4</td>\n",
              "      <td>0.533114</td>\n",
              "      <td>0.452104</td>\n",
              "      <td>0.313856</td>\n",
              "      <td>0.428461</td>\n",
              "      <td>0.352301</td>\n",
              "      <td>1.0</td>\n",
              "      <td>0.736368</td>\n",
              "      <td>0.406349</td>\n",
              "      <td>0.104466</td>\n",
              "      <td>0.298350</td>\n",
              "      <td>0.857846</td>\n",
              "      <td>0.317044</td>\n",
              "      <td>0.173521</td>\n",
              "      <td>0.373086</td>\n",
              "      <td>0.209661</td>\n",
              "      <td>0.654375</td>\n",
              "      <td>0.701137</td>\n",
              "      <td>0.00831</td>\n",
              "      <td>188</td>\n",
              "    </tr>\n",
              "    <tr>\n",
              "      <th>4</th>\n",
              "      <td>1</td>\n",
              "      <td>5</td>\n",
              "      <td>0.500120</td>\n",
              "      <td>0.418008</td>\n",
              "      <td>0.332788</td>\n",
              "      <td>0.389367</td>\n",
              "      <td>0.376776</td>\n",
              "      <td>1.0</td>\n",
              "      <td>0.721245</td>\n",
              "      <td>0.393418</td>\n",
              "      <td>0.114538</td>\n",
              "      <td>0.291904</td>\n",
              "      <td>0.840364</td>\n",
              "      <td>0.307101</td>\n",
              "      <td>0.173151</td>\n",
              "      <td>0.408349</td>\n",
              "      <td>0.273072</td>\n",
              "      <td>0.636001</td>\n",
              "      <td>0.712244</td>\n",
              "      <td>0.01108</td>\n",
              "      <td>187</td>\n",
              "    </tr>\n",
              "  </tbody>\n",
              "</table>\n",
              "</div>"
            ],
            "text/plain": [
              "   id  cycle  setting1  setting2  ...       s20       s21  cycle_norm  RUL\n",
              "0   1      1  0.527273  0.166667  ...  0.767506  0.768934     0.00000  191\n",
              "1   1      2  0.657273  0.212500  ...  0.730972  0.773978     0.00277  190\n",
              "2   1      3  0.473452  0.428571  ...  0.696703  0.712003     0.00554  189\n",
              "3   1      4  0.533114  0.452104  ...  0.654375  0.701137     0.00831  188\n",
              "4   1      5  0.500120  0.418008  ...  0.636001  0.712244     0.01108  187\n",
              "\n",
              "[5 rows x 21 columns]"
            ]
          },
          "metadata": {
            "tags": []
          },
          "execution_count": 141
        }
      ]
    },
    {
      "cell_type": "markdown",
      "metadata": {
        "id": "tfW-mfvPqZil",
        "colab_type": "text"
      },
      "source": [
        "# 生成样本标签"
      ]
    },
    {
      "cell_type": "code",
      "metadata": {
        "id": "bp9XaEZSpsWj",
        "colab_type": "code",
        "colab": {}
      },
      "source": [
        "# function to generate labels\n",
        "def gen_labels(id_df, seq_length, label):\n",
        "    \"\"\" Only sequences that meet the window-length are considered, no padding is used. This means for testing\n",
        "    we need to drop those which are below the window-length. An alternative would be to pad sequences so that\n",
        "    we can use shorter ones \"\"\"\n",
        "    # For one id I put all the labels in a single matrix.\n",
        "    # For example:\n",
        "    # [[1]\n",
        "    # [4]\n",
        "    # [1]\n",
        "    # [5]\n",
        "    # [9]\n",
        "    # ...\n",
        "    # [200]] \n",
        "    data_matrix = id_df[label].values\n",
        "    num_elements = data_matrix.shape[0]\n",
        "    # I have to remove the first seq_length labels\n",
        "    # because for one id the first sequence of seq_length size have as target\n",
        "    # the last label (the previus ones are discarded).\n",
        "    # All the next id's sequences will have associated step by step one label as target.\n",
        "    return data_matrix[seq_length:num_elements, :]"
      ],
      "execution_count": 0,
      "outputs": []
    },
    {
      "cell_type": "code",
      "metadata": {
        "id": "7gM8UsOqqcPf",
        "colab_type": "code",
        "outputId": "b3b29720-3d43-40e8-db82-0235f1e7bb26",
        "colab": {
          "base_uri": "https://localhost:8080/",
          "height": 35
        }
      },
      "source": [
        "# generate labels\n",
        "label_gen = [gen_labels(train_df[train_df['id']==id], sequence_length, ['RUL']) \n",
        "             for id in train_df['id'].unique()]\n",
        "\n",
        "label_array = np.concatenate(label_gen).astype(np.float32)\n",
        "label_array.shape"
      ],
      "execution_count": 142,
      "outputs": [
        {
          "output_type": "execute_result",
          "data": {
            "text/plain": [
              "(17631, 1)"
            ]
          },
          "metadata": {
            "tags": []
          },
          "execution_count": 142
        }
      ]
    },
    {
      "cell_type": "markdown",
      "metadata": {
        "id": "SMxhsjmRqh-y",
        "colab_type": "text"
      },
      "source": [
        "# 构建深度网络"
      ]
    },
    {
      "cell_type": "code",
      "metadata": {
        "id": "Jrh9naccqqRq",
        "colab_type": "code",
        "colab": {}
      },
      "source": [
        "# define path to save model\n",
        "model_path = 'LSTM1.h5'"
      ],
      "execution_count": 0,
      "outputs": []
    },
    {
      "cell_type": "code",
      "metadata": {
        "id": "qa59A4XpqeFU",
        "colab_type": "code",
        "outputId": "7d28edfa-1833-404d-e11f-2d523dd69475",
        "colab": {
          "base_uri": "https://localhost:8080/",
          "height": 1000
        }
      },
      "source": [
        "def r2_keras(y_true, y_pred):\n",
        "    \"\"\"Coefficient of Determination \n",
        "    \"\"\"\n",
        "    SS_res =  K.sum(K.square( y_true - y_pred ))\n",
        "    SS_tot = K.sum(K.square( y_true - K.mean(y_true) ) )\n",
        "    return ( 1 - SS_res/(SS_tot + K.epsilon()) )\n",
        "\n",
        "# Next, we build a deep network. \n",
        "# The first layer is an LSTM layer with 100 units followed by another LSTM layer with 50 units. \n",
        "# Dropout is also applied after each LSTM layer to control overfitting. \n",
        "# 采用Dropout防止过拟合\n",
        "# Final layer is a Dense output layer with single unit and linear activation since this is a regression problem.\n",
        "# 由于此问题是回归问题，因此在最后采用单一神经元以及一个线性激活函数\n",
        "\n",
        "nb_features = seq_array.shape[2] # 特征数目：25\n",
        "nb_out = label_array.shape[1] # 输出大小：1\n",
        "\n",
        "# 定义一个sequential模型（多个网络层线性堆叠而成）\n",
        "model = Sequential()\n",
        "# 向模型中加入layer\n",
        "model.add(LSTM(\n",
        "         input_shape=(sequence_length, nb_features),#第一层需要接收一个样本数据shape的参数\n",
        "         units=100,\n",
        "         return_sequences=True))\n",
        "model.add(Dropout(0.2))\n",
        "model.add(LSTM(\n",
        "          units=50,\n",
        "          return_sequences=False))\n",
        "model.add(Dropout(0.2)) #增加一个Dropout\n",
        "model.add(Dense(units=nb_out)) #密集模块\n",
        "model.add(Activation(\"linear\")) # 线性激活函数\n",
        "# 编译模型，对model进行配置\n",
        "model.compile(loss='mean_squared_error', optimizer='rmsprop',metrics=['mae',r2_keras])\n",
        "# 采用MSE进行模型训练，采用rmsprop作为优化器，采用mae和自己定义的r2_keras进行性能评估\n",
        "\n",
        "print(model.summary())\n",
        "\n",
        "# fit the network\n",
        "# 模型训练\n",
        "history = model.fit(seq_array, label_array, epochs=100, batch_size=200, validation_split=0.05, verbose=2,\n",
        "          callbacks = [keras.callbacks.EarlyStopping(monitor='val_loss', min_delta=0, patience=10, verbose=0, mode='min'),\n",
        "                       keras.callbacks.ModelCheckpoint(model_path,monitor='val_loss', save_best_only=True, mode='min', verbose=0)]\n",
        "          )\n",
        "\n",
        "# list all data in history\n",
        "print(history.history.keys())"
      ],
      "execution_count": 143,
      "outputs": [
        {
          "output_type": "stream",
          "text": [
            "_________________________________________________________________\n",
            "Layer (type)                 Output Shape              Param #   \n",
            "=================================================================\n",
            "lstm_3 (LSTM)                (None, 30, 100)           47600     \n",
            "_________________________________________________________________\n",
            "dropout_3 (Dropout)          (None, 30, 100)           0         \n",
            "_________________________________________________________________\n",
            "lstm_4 (LSTM)                (None, 50)                30200     \n",
            "_________________________________________________________________\n",
            "dropout_4 (Dropout)          (None, 50)                0         \n",
            "_________________________________________________________________\n",
            "dense_2 (Dense)              (None, 1)                 51        \n",
            "_________________________________________________________________\n",
            "activation_2 (Activation)    (None, 1)                 0         \n",
            "=================================================================\n",
            "Total params: 77,851\n",
            "Trainable params: 77,851\n",
            "Non-trainable params: 0\n",
            "_________________________________________________________________\n",
            "None\n",
            "Train on 16749 samples, validate on 882 samples\n",
            "Epoch 1/100\n",
            " - 15s - loss: 10766.3855 - mean_absolute_error: 84.0509 - r2_keras: -1.8515e+00 - val_loss: 10136.2819 - val_mean_absolute_error: 81.2150 - val_r2_keras: -2.9089e+00\n",
            "Epoch 2/100\n",
            " - 13s - loss: 9966.0937 - mean_absolute_error: 79.8729 - r2_keras: -1.6382e+00 - val_loss: 9472.0996 - val_mean_absolute_error: 77.7207 - val_r2_keras: -2.6234e+00\n",
            "Epoch 3/100\n",
            " - 13s - loss: 9323.0394 - mean_absolute_error: 76.5137 - r2_keras: -1.4657e+00 - val_loss: 8847.4960 - val_mean_absolute_error: 74.4487 - val_r2_keras: -2.3590e+00\n",
            "Epoch 4/100\n",
            " - 13s - loss: 8709.6158 - mean_absolute_error: 73.3291 - r2_keras: -1.3066e+00 - val_loss: 8256.4472 - val_mean_absolute_error: 71.3672 - val_r2_keras: -2.1130e+00\n",
            "Epoch 5/100\n",
            " - 13s - loss: 8138.9869 - mean_absolute_error: 70.3666 - r2_keras: -1.1501e+00 - val_loss: 7701.8963 - val_mean_absolute_error: 68.4932 - val_r2_keras: -1.8868e+00\n",
            "Epoch 6/100\n",
            " - 13s - loss: 7599.7198 - mean_absolute_error: 67.6087 - r2_keras: -1.0107e+00 - val_loss: 7185.1504 - val_mean_absolute_error: 65.8332 - val_r2_keras: -1.6808e+00\n",
            "Epoch 7/100\n",
            " - 13s - loss: 7097.8397 - mean_absolute_error: 65.0306 - r2_keras: -8.7645e-01 - val_loss: 6705.2902 - val_mean_absolute_error: 63.3811 - val_r2_keras: -1.4946e+00\n",
            "Epoch 8/100\n",
            " - 13s - loss: 6639.8341 - mean_absolute_error: 62.7329 - r2_keras: -7.5471e-01 - val_loss: 6262.3939 - val_mean_absolute_error: 61.1372 - val_r2_keras: -1.3282e+00\n",
            "Epoch 9/100\n",
            " - 13s - loss: 6198.3304 - mean_absolute_error: 60.5601 - r2_keras: -6.3735e-01 - val_loss: 5851.9623 - val_mean_absolute_error: 59.0790 - val_r2_keras: -1.1800e+00\n",
            "Epoch 10/100\n",
            " - 13s - loss: 5812.9184 - mean_absolute_error: 58.6099 - r2_keras: -5.3749e-01 - val_loss: 5482.2541 - val_mean_absolute_error: 57.2496 - val_r2_keras: -1.0528e+00\n",
            "Epoch 11/100\n",
            " - 13s - loss: 5467.4018 - mean_absolute_error: 56.9272 - r2_keras: -4.4135e-01 - val_loss: 5145.1952 - val_mean_absolute_error: 55.6070 - val_r2_keras: -9.4386e-01\n",
            "Epoch 12/100\n",
            " - 13s - loss: 5142.3491 - mean_absolute_error: 55.4480 - r2_keras: -3.5657e-01 - val_loss: 4845.1703 - val_mean_absolute_error: 54.1724 - val_r2_keras: -8.5459e-01\n",
            "Epoch 13/100\n",
            " - 13s - loss: 4854.6305 - mean_absolute_error: 54.0485 - r2_keras: -2.7978e-01 - val_loss: 4581.6425 - val_mean_absolute_error: 52.9429 - val_r2_keras: -7.8470e-01\n",
            "Epoch 14/100\n",
            " - 13s - loss: 4609.9973 - mean_absolute_error: 52.9502 - r2_keras: -2.1586e-01 - val_loss: 4352.8965 - val_mean_absolute_error: 51.9103 - val_r2_keras: -7.3366e-01\n",
            "Epoch 15/100\n",
            " - 13s - loss: 4403.2683 - mean_absolute_error: 52.0796 - r2_keras: -1.6065e-01 - val_loss: 4162.4335 - val_mean_absolute_error: 51.0901 - val_r2_keras: -7.0191e-01\n",
            "Epoch 16/100\n",
            " - 13s - loss: 4218.1946 - mean_absolute_error: 51.3216 - r2_keras: -1.1218e-01 - val_loss: 4007.9462 - val_mean_absolute_error: 50.4692 - val_r2_keras: -6.8834e-01\n",
            "Epoch 17/100\n",
            " - 13s - loss: 4086.5501 - mean_absolute_error: 50.8734 - r2_keras: -7.6977e-02 - val_loss: 3886.2195 - val_mean_absolute_error: 50.0325 - val_r2_keras: -6.9216e-01\n",
            "Epoch 18/100\n",
            " - 13s - loss: 3984.8198 - mean_absolute_error: 50.5085 - r2_keras: -4.9447e-02 - val_loss: 3782.3824 - val_mean_absolute_error: 49.6096 - val_r2_keras: -6.9299e-01\n",
            "Epoch 19/100\n",
            " - 13s - loss: 3622.5704 - mean_absolute_error: 47.3683 - r2_keras: 0.0466 - val_loss: 3191.5593 - val_mean_absolute_error: 44.5444 - val_r2_keras: -2.9097e-01\n",
            "Epoch 20/100\n",
            " - 13s - loss: 3009.9050 - mean_absolute_error: 40.6330 - r2_keras: 0.2088 - val_loss: 2891.3990 - val_mean_absolute_error: 41.5033 - val_r2_keras: -1.0308e-01\n",
            "Epoch 21/100\n",
            " - 13s - loss: 2699.4607 - mean_absolute_error: 37.2250 - r2_keras: 0.2912 - val_loss: 2496.2134 - val_mean_absolute_error: 36.5171 - val_r2_keras: 0.1450\n",
            "Epoch 22/100\n",
            " - 13s - loss: 2441.4267 - mean_absolute_error: 34.5230 - r2_keras: 0.3583 - val_loss: 2161.6176 - val_mean_absolute_error: 32.5187 - val_r2_keras: 0.2538\n",
            "Epoch 23/100\n",
            " - 13s - loss: 2168.4396 - mean_absolute_error: 31.3652 - r2_keras: 0.4304 - val_loss: 1949.0608 - val_mean_absolute_error: 29.7751 - val_r2_keras: 0.3386\n",
            "Epoch 24/100\n",
            " - 13s - loss: 1975.9431 - mean_absolute_error: 29.2844 - r2_keras: 0.4816 - val_loss: 1801.7944 - val_mean_absolute_error: 27.6536 - val_r2_keras: 0.3966\n",
            "Epoch 25/100\n",
            " - 13s - loss: 1807.3951 - mean_absolute_error: 27.7525 - r2_keras: 0.5267 - val_loss: 1630.1183 - val_mean_absolute_error: 26.4640 - val_r2_keras: 0.4270\n",
            "Epoch 26/100\n",
            " - 13s - loss: 1685.1190 - mean_absolute_error: 26.6461 - r2_keras: 0.5576 - val_loss: 1558.2780 - val_mean_absolute_error: 27.4438 - val_r2_keras: 0.4348\n",
            "Epoch 27/100\n",
            " - 13s - loss: 1566.4850 - mean_absolute_error: 25.6155 - r2_keras: 0.5893 - val_loss: 1418.4749 - val_mean_absolute_error: 24.4898 - val_r2_keras: 0.4930\n",
            "Epoch 28/100\n",
            " - 13s - loss: 1447.2285 - mean_absolute_error: 24.4706 - r2_keras: 0.6208 - val_loss: 1641.9812 - val_mean_absolute_error: 22.9250 - val_r2_keras: 0.4558\n",
            "Epoch 29/100\n",
            " - 13s - loss: 1361.1610 - mean_absolute_error: 23.6694 - r2_keras: 0.6444 - val_loss: 1264.1301 - val_mean_absolute_error: 23.4207 - val_r2_keras: 0.5573\n",
            "Epoch 30/100\n",
            " - 13s - loss: 1277.3384 - mean_absolute_error: 22.9484 - r2_keras: 0.6652 - val_loss: 1178.1296 - val_mean_absolute_error: 22.0426 - val_r2_keras: 0.5929\n",
            "Epoch 31/100\n",
            " - 13s - loss: 1204.6651 - mean_absolute_error: 22.3354 - r2_keras: 0.6845 - val_loss: 1328.4267 - val_mean_absolute_error: 23.2449 - val_r2_keras: 0.5396\n",
            "Epoch 32/100\n",
            " - 13s - loss: 1136.0102 - mean_absolute_error: 21.7616 - r2_keras: 0.7025 - val_loss: 1266.1660 - val_mean_absolute_error: 24.3750 - val_r2_keras: 0.5483\n",
            "Epoch 33/100\n",
            " - 13s - loss: 1086.3377 - mean_absolute_error: 21.2399 - r2_keras: 0.7147 - val_loss: 1127.5127 - val_mean_absolute_error: 22.1923 - val_r2_keras: 0.5985\n",
            "Epoch 34/100\n",
            " - 13s - loss: 1043.4574 - mean_absolute_error: 20.8204 - r2_keras: 0.7268 - val_loss: 1586.4500 - val_mean_absolute_error: 25.4054 - val_r2_keras: 0.4538\n",
            "Epoch 35/100\n",
            " - 14s - loss: 1012.6221 - mean_absolute_error: 20.7107 - r2_keras: 0.7343 - val_loss: 1459.4475 - val_mean_absolute_error: 23.9549 - val_r2_keras: 0.5136\n",
            "Epoch 36/100\n",
            " - 13s - loss: 975.8692 - mean_absolute_error: 20.4858 - r2_keras: 0.7433 - val_loss: 1096.8554 - val_mean_absolute_error: 22.2642 - val_r2_keras: 0.5864\n",
            "Epoch 37/100\n",
            " - 13s - loss: 950.7164 - mean_absolute_error: 20.2185 - r2_keras: 0.7499 - val_loss: 1652.3056 - val_mean_absolute_error: 24.0303 - val_r2_keras: 0.4508\n",
            "Epoch 38/100\n",
            " - 13s - loss: 961.9059 - mean_absolute_error: 20.0878 - r2_keras: 0.7469 - val_loss: 1379.4716 - val_mean_absolute_error: 25.9329 - val_r2_keras: 0.4451\n",
            "Epoch 39/100\n",
            " - 13s - loss: 900.4929 - mean_absolute_error: 19.7791 - r2_keras: 0.7630 - val_loss: 1566.9757 - val_mean_absolute_error: 27.2625 - val_r2_keras: 0.4132\n",
            "Epoch 40/100\n",
            " - 13s - loss: 886.8129 - mean_absolute_error: 19.5847 - r2_keras: 0.7676 - val_loss: 1281.2370 - val_mean_absolute_error: 24.4180 - val_r2_keras: 0.4796\n",
            "Epoch 41/100\n",
            " - 13s - loss: 860.6933 - mean_absolute_error: 19.3724 - r2_keras: 0.7734 - val_loss: 1555.9889 - val_mean_absolute_error: 25.7682 - val_r2_keras: 0.4600\n",
            "Epoch 42/100\n",
            " - 13s - loss: 834.5575 - mean_absolute_error: 19.0519 - r2_keras: 0.7802 - val_loss: 1547.7596 - val_mean_absolute_error: 23.8996 - val_r2_keras: 0.4539\n",
            "Epoch 43/100\n",
            " - 13s - loss: 822.6364 - mean_absolute_error: 18.8212 - r2_keras: 0.7838 - val_loss: 1417.7700 - val_mean_absolute_error: 24.7973 - val_r2_keras: 0.4689\n",
            "Epoch 44/100\n",
            " - 13s - loss: 798.6975 - mean_absolute_error: 18.7489 - r2_keras: 0.7893 - val_loss: 1458.2934 - val_mean_absolute_error: 21.8279 - val_r2_keras: 0.5228\n",
            "Epoch 45/100\n",
            " - 13s - loss: 771.4159 - mean_absolute_error: 18.3370 - r2_keras: 0.7972 - val_loss: 1351.9956 - val_mean_absolute_error: 24.0571 - val_r2_keras: 0.5006\n",
            "Epoch 46/100\n",
            " - 13s - loss: 763.5085 - mean_absolute_error: 18.2845 - r2_keras: 0.7990 - val_loss: 1785.2993 - val_mean_absolute_error: 26.2455 - val_r2_keras: 0.3847\n",
            "dict_keys(['val_loss', 'val_mean_absolute_error', 'val_r2_keras', 'loss', 'mean_absolute_error', 'r2_keras'])\n"
          ],
          "name": "stdout"
        }
      ]
    },
    {
      "cell_type": "code",
      "metadata": {
        "id": "LpSnx0r2DQks",
        "colab_type": "code",
        "colab": {}
      },
      "source": [
        ""
      ],
      "execution_count": 0,
      "outputs": []
    },
    {
      "cell_type": "code",
      "metadata": {
        "id": "IdX6cdGNG_X-",
        "colab_type": "code",
        "outputId": "3a357bc4-e41e-43e4-ff2a-57b746c99300",
        "colab": {
          "base_uri": "https://localhost:8080/",
          "height": 35
        }
      },
      "source": [
        "# list all data in history\n",
        "print(history.history.keys())"
      ],
      "execution_count": 144,
      "outputs": [
        {
          "output_type": "stream",
          "text": [
            "dict_keys(['val_loss', 'val_mean_absolute_error', 'val_r2_keras', 'loss', 'mean_absolute_error', 'r2_keras'])\n"
          ],
          "name": "stdout"
        }
      ]
    },
    {
      "cell_type": "code",
      "metadata": {
        "id": "lepKgBnuKr_8",
        "colab_type": "code",
        "outputId": "f67035fb-c03e-420d-cebf-9e05db36c990",
        "colab": {
          "base_uri": "https://localhost:8080/",
          "height": 621
        }
      },
      "source": [
        "# summarize history for R^2\n",
        "fig_acc = plt.figure(figsize=(10, 10))\n",
        "plt.plot(history.history['r2_keras'])\n",
        "plt.plot(history.history['val_r2_keras'])\n",
        "plt.title('model r^2')\n",
        "plt.ylabel('R^2')\n",
        "plt.xlabel('epoch')\n",
        "plt.legend(['train', 'test'], loc='upper left')\n",
        "plt.show()\n",
        "fig_acc.savefig(\"model_r2.png\")"
      ],
      "execution_count": 145,
      "outputs": [
        {
          "output_type": "display_data",
          "data": {
            "image/png": "[encoded data removed]",
            "text/plain": [
              "<Figure size 720x720 with 1 Axes>"
            ]
          },
          "metadata": {
            "tags": []
          }
        }
      ]
    },
    {
      "cell_type": "code",
      "metadata": {
        "id": "J_Es4whmLEwW",
        "colab_type": "code",
        "outputId": "debdbb37-96a4-496a-9d13-8c5b841bea22",
        "colab": {
          "base_uri": "https://localhost:8080/",
          "height": 621
        }
      },
      "source": [
        "# summarize history for MAE\n",
        "fig_acc = plt.figure(figsize=(10, 10))\n",
        "plt.plot(history.history['mean_absolute_error'])\n",
        "plt.plot(history.history['val_mean_absolute_error'])\n",
        "plt.title('model MAE')\n",
        "plt.ylabel('MAE')\n",
        "plt.xlabel('epoch')\n",
        "plt.legend(['train', 'test'], loc='upper left')\n",
        "plt.show()\n",
        "fig_acc.savefig(\"model_mae.png\")"
      ],
      "execution_count": 146,
      "outputs": [
        {
          "output_type": "display_data",
          "data": {
            "image/png": "[encoded data removed]",
            "text/plain": [
              "<Figure size 720x720 with 1 Axes>"
            ]
          },
          "metadata": {
            "tags": []
          }
        }
      ]
    },
    {
      "cell_type": "code",
      "metadata": {
        "id": "qRiTHbEnLMLC",
        "colab_type": "code",
        "outputId": "6048e1be-9b72-404c-d28a-fa59cbb8b0dd",
        "colab": {
          "base_uri": "https://localhost:8080/",
          "height": 621
        }
      },
      "source": [
        "# summarize history for Loss\n",
        "fig_acc = plt.figure(figsize=(10, 10))\n",
        "plt.plot(history.history['loss'])\n",
        "plt.plot(history.history['val_loss'])\n",
        "plt.title('model loss')\n",
        "plt.ylabel('loss')\n",
        "plt.xlabel('epoch')\n",
        "plt.legend(['train', 'test'], loc='upper left')\n",
        "plt.show()\n",
        "fig_acc.savefig(\"model_regression_loss.png\")"
      ],
      "execution_count": 147,
      "outputs": [
        {
          "output_type": "display_data",
          "data": {
            "image/png": "[encoded data removed]",
            "text/plain": [
              "<Figure size 720x720 with 1 Axes>"
            ]
          },
          "metadata": {
            "tags": []
          }
        }
      ]
    },
    {
      "cell_type": "code",
      "metadata": {
        "id": "S4T6k2WaLOzA",
        "colab_type": "code",
        "colab": {}
      },
      "source": [
        ""
      ],
      "execution_count": 0,
      "outputs": []
    },
    {
      "cell_type": "code",
      "metadata": {
        "id": "7pn1CasKFENw",
        "colab_type": "code",
        "outputId": "0b9e20d2-72c1-4479-8597-21840d62c03a",
        "colab": {
          "base_uri": "https://localhost:8080/",
          "height": 125
        }
      },
      "source": [
        "# training metrics\n",
        "scores = model.evaluate(seq_array, label_array, verbose=1, batch_size=200)\n",
        "print('\\nMAE: {}'.format(scores[1]))\n",
        "print('\\nR^2: {}'.format(scores[2]))\n",
        "\n",
        "y_pred = model.predict(seq_array,verbose=1, batch_size=200)\n",
        "y_true = label_array\n",
        "\n",
        "test_set = pd.DataFrame(y_pred)\n",
        "test_set.to_csv('submit_train.csv', index = None)"
      ],
      "execution_count": 148,
      "outputs": [
        {
          "output_type": "stream",
          "text": [
            "17631/17631 [==============================] - 3s 187us/step\n",
            "\n",
            "MAE: 18.195992439036996\n",
            "\n",
            "R^2: 0.7272755407880015\n",
            "17631/17631 [==============================] - 4s 228us/step\n"
          ],
          "name": "stdout"
        }
      ]
    },
    {
      "cell_type": "code",
      "metadata": {
        "id": "Aj9_Xr8oG6rY",
        "colab_type": "code",
        "colab": {}
      },
      "source": [
        "from sklearn.metrics import mean_squared_error,mean_absolute_error,r2_score\n",
        "import math"
      ],
      "execution_count": 0,
      "outputs": []
    },
    {
      "cell_type": "code",
      "metadata": {
        "id": "xv0djKClIh4K",
        "colab_type": "code",
        "colab": {}
      },
      "source": [
        "def RHS_score(y_true, y_pred):\n",
        "  s = 0\n",
        "  delta = y_pred-y_true\n",
        "  for i in range(len(delta)):\n",
        "      if delta[i]<0:\n",
        "          s+=math.e**(-delta[i]/13)-1\n",
        "      else:\n",
        "          s+=math.e**(delta[i]/10)-1\n",
        "  #s = s/len(delta)\n",
        "  return s"
      ],
      "execution_count": 0,
      "outputs": []
    },
    {
      "cell_type": "code",
      "metadata": {
        "id": "ZJS_ZuP-FFZQ",
        "colab_type": "code",
        "colab": {}
      },
      "source": [
        "delta = y_pred-y_true"
      ],
      "execution_count": 0,
      "outputs": []
    },
    {
      "cell_type": "code",
      "metadata": {
        "id": "utjOCjB0LdGd",
        "colab_type": "code",
        "colab": {
          "base_uri": "https://localhost:8080/",
          "height": 107
        },
        "outputId": "e410455c-23e7-4a77-fc74-b9363529650e"
      },
      "source": [
        "mse_valid = np.sum((y_pred - y_true)**2)/len(y_true)\n",
        "rmse_valid = mse_valid**0.5\n",
        "mae_valid = np.sum(np.absolute(y_pred - y_true))/len(y_true)\n",
        "r2_valid = 1 - mse_valid/np.var(y_true)\n",
        "rhs_valid = RHS_score(y_true,y_pred)\n",
        "print('mse:',mse_valid)\n",
        "print('rmse:',rmse_valid)\n",
        "print('mae:',mae_valid)\n",
        "print('r2:',r2_valid)\n",
        "print('rhs:',rhs_valid)"
      ],
      "execution_count": 155,
      "outputs": [
        {
          "output_type": "stream",
          "text": [
            "mse: 832.2506380806534\n",
            "rmse: 28.84875453257304\n",
            "mae: 18.195993562475184\n",
            "r2: 0.7812967828962225\n",
            "rhs: [1.3818358e+08]\n"
          ],
          "name": "stdout"
        }
      ]
    },
    {
      "cell_type": "code",
      "metadata": {
        "id": "W7BMaFscGGVG",
        "colab_type": "code",
        "outputId": "890a7a67-917a-4850-da22-b8ba312fe041",
        "colab": {
          "base_uri": "https://localhost:8080/",
          "height": 102
        }
      },
      "source": [
        "mse_valid = np.sum((y_pred - y_true)**2)/len(y_true)\n",
        "rmse_valid = mse_valid**0.5\n",
        "mae_valid = np.sum(np.absolute(y_pred - y_true))/len(y_true)\n",
        "r2_valid = 1 - mse_valid/np.var(y_true)\n",
        "rhs_valid = RHS_score(y_true,y_pred)\n",
        "print('mse:',mse_valid)\n",
        "print('rmse:',rmse_valid)\n",
        "print('mae:',mae_valid)\n",
        "print('r2:',r2_valid)\n",
        "print('rhs:',rhs_valid)"
      ],
      "execution_count": 0,
      "outputs": [
        {
          "output_type": "stream",
          "text": [
            "mse: 377.39428059625106\n",
            "rmse: 19.426638427588315\n",
            "mae: 12.075915848314247\n",
            "r2: 0.8844198311195588\n",
            "rhs: 77.69869969931547\n"
          ],
          "name": "stdout"
        }
      ]
    },
    {
      "cell_type": "code",
      "metadata": {
        "id": "A24lnnBlVEIb",
        "colab_type": "code",
        "colab": {}
      },
      "source": [
        "model.save(model_path)"
      ],
      "execution_count": 0,
      "outputs": []
    },
    {
      "cell_type": "code",
      "metadata": {
        "id": "XBADN_pZVarx",
        "colab_type": "code",
        "outputId": "3bed04f0-bb19-49ba-f747-e9d59fbafc36",
        "colab": {
          "base_uri": "https://localhost:8080/",
          "height": 102
        }
      },
      "source": [
        "scores = model.evaluate(seq_array, label_array, verbose=1, batch_size=200)\n",
        "print('\\nMAE: {}'.format(scores[1]))\n",
        "print('\\nR^2: {}'.format(scores[2]))"
      ],
      "execution_count": 0,
      "outputs": [
        {
          "output_type": "stream",
          "text": [
            "15631/15631 [==============================] - 8s 480us/step\n",
            "\n",
            "MAE: 12.075915369006115\n",
            "\n",
            "R^2: 0.8509904890156214\n"
          ],
          "name": "stdout"
        }
      ]
    },
    {
      "cell_type": "code",
      "metadata": {
        "id": "0R7vKJH_XCU9",
        "colab_type": "code",
        "outputId": "e3abd246-1078-4866-c004-d3bce59ec79d",
        "colab": {
          "base_uri": "https://localhost:8080/",
          "height": 34
        }
      },
      "source": [
        "y_pred.shape"
      ],
      "execution_count": 0,
      "outputs": [
        {
          "output_type": "execute_result",
          "data": {
            "text/plain": [
              "(15631, 1)"
            ]
          },
          "metadata": {
            "tags": []
          },
          "execution_count": 76
        }
      ]
    },
    {
      "cell_type": "code",
      "metadata": {
        "id": "7YwuCyWWXM4f",
        "colab_type": "code",
        "colab": {}
      },
      "source": [
        "# We pick the last sequence for each id in the test data\n",
        "seq_array_test_last = [test_df[test_df['id']==id][sequence_cols].values[-sequence_length:] \n",
        "                       for id in test_df['id'].unique() if len(test_df[test_df['id']==id]) >= sequence_length]\n",
        "\n",
        "seq_array_test_last = np.asarray(seq_array_test_last).astype(np.float32)\n",
        "#print(\"seq_array_test_last\")\n",
        "#print(seq_array_test_last)\n",
        "#print(seq_array_test_last.shape)\n",
        "\n",
        "# Similarly, we pick the labels\n",
        "#print(\"y_mask\")\n",
        "y_mask = [len(test_df[test_df['id']==id]) >= sequence_length for id in test_df['id'].unique()]\n",
        "label_array_test_last = test_df.groupby('id')['RUL'].nth(-1)[y_mask].values\n",
        "label_array_test_last = label_array_test_last.reshape(label_array_test_last.shape[0],1).astype(np.float32)\n",
        "#print(label_array_test_last.shape)\n",
        "#print(\"label_array_test_last\")\n",
        "#print(label_array_test_last)\n",
        "\n"
      ],
      "execution_count": 0,
      "outputs": []
    },
    {
      "cell_type": "code",
      "metadata": {
        "id": "TuDCjv-6Xp6X",
        "colab_type": "code",
        "outputId": "c5f64d31-653a-4d62-db84-639db6bfba67",
        "colab": {
          "base_uri": "https://localhost:8080/",
          "height": 422
        }
      },
      "source": [
        "# if best iteration's model was saved then load and use it\n",
        "if os.path.isfile(model_path):\n",
        "    estimator = load_model(model_path,custom_objects={'r2_keras': r2_keras}) # 加载模型\n",
        "\n",
        "    # test metrics\n",
        "    scores_test = estimator.evaluate(seq_array_test_last, label_array_test_last, verbose=2)\n",
        "    print('\\nMAE: {}'.format(scores_test[1]))\n",
        "    print('\\nR^2: {}'.format(scores_test[2]))\n",
        "\n",
        "    y_pred_test = estimator.predict(seq_array_test_last)\n",
        "    y_true_test = label_array_test_last\n",
        "\n",
        "    test_set = pd.DataFrame(y_pred_test)\n",
        "    test_set.to_csv('submit_test.csv', index = None)\n",
        "\n",
        "    # Plot in blue color the predicted data and in green color the\n",
        "    # actual data to verify visually the accuracy of the model.\n",
        "    fig_verify = plt.figure(figsize=(10, 5))\n",
        "    plt.plot(y_pred_test, 'b-o')\n",
        "    plt.plot(y_true_test, 'r-^')\n",
        "    plt.title('prediction')\n",
        "    plt.ylabel('value')\n",
        "    plt.xlabel('row')\n",
        "    plt.legend(['predicted', 'actual data'], loc='upper left')\n",
        "    plt.show()\n",
        "    fig_verify.savefig(\"model_regression_verify.png\")"
      ],
      "execution_count": 157,
      "outputs": [
        {
          "output_type": "stream",
          "text": [
            "\n",
            "MAE: 17.57666488647461\n",
            "\n",
            "R^2: 0.5966247606277466\n"
          ],
          "name": "stdout"
        },
        {
          "output_type": "display_data",
          "data": {
            "image/png": "[encoded data removed]",
            "text/plain": [
              "<Figure size 720x360 with 1 Axes>"
            ]
          },
          "metadata": {
            "tags": []
          }
        }
      ]
    },
    {
      "cell_type": "code",
      "metadata": {
        "id": "Xe3Vb-GzY5I0",
        "colab_type": "code",
        "outputId": "8f3945ad-f120-402b-a733-4bdc6767f66d",
        "colab": {
          "base_uri": "https://localhost:8080/",
          "height": 107
        }
      },
      "source": [
        "mse_test = np.sum((y_pred_test - y_true_test)**2)/len(y_true_test)\n",
        "rmse_test = mse_test**0.5\n",
        "mae_test = np.sum(np.absolute(y_pred_test - y_true_test))/len(y_true_test)\n",
        "r2_test = 1 - mse_test/np.var(y_true_test)\n",
        "rhs_test = RHS_score(y_true_test,y_pred_test)\n",
        "print('mse:',mse_test)\n",
        "print('rmse:',rmse_test)\n",
        "print('mae:',mae_test)\n",
        "print('r2:',r2_test)\n",
        "print('rhs_test:',rhs_test)\n"
      ],
      "execution_count": 158,
      "outputs": [
        {
          "output_type": "stream",
          "text": [
            "mse: 600.9874609375\n",
            "rmse: 24.515045603414652\n",
            "mae: 17.576666259765624\n",
            "r2: 0.6519786477446918\n",
            "rhs_test: [6131.9897]\n"
          ],
          "name": "stdout"
        }
      ]
    },
    {
      "cell_type": "code",
      "metadata": {
        "id": "mAbLWvdMAhhM",
        "colab_type": "code",
        "colab": {
          "base_uri": "https://localhost:8080/",
          "height": 35
        },
        "outputId": "7ae33c69-bbec-4f85-daac-359c92337c60"
      },
      "source": [
        "y_pred_test.shape"
      ],
      "execution_count": 153,
      "outputs": [
        {
          "output_type": "execute_result",
          "data": {
            "text/plain": [
              "(100, 1)"
            ]
          },
          "metadata": {
            "tags": []
          },
          "execution_count": 153
        }
      ]
    },
    {
      "cell_type": "code",
      "metadata": {
        "id": "iKaDb7GYAqz6",
        "colab_type": "code",
        "colab": {}
      },
      "source": [
        ""
      ],
      "execution_count": 0,
      "outputs": []
    }
  ]
}