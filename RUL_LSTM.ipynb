{
  "nbformat": 4,
  "nbformat_minor": 0,
  "metadata": {
    "colab": {
      "name": "RUL.ipynb",
      "version": "0.3.2",
      "provenance": [],
      "collapsed_sections": [],
      "toc_visible": true,
      "include_colab_link": true
    },
    "kernelspec": {
      "name": "python3",
      "display_name": "Python 3"
    }
  },
  "cells": [
    {
      "cell_type": "markdown",
      "metadata": {
        "id": "view-in-github",
        "colab_type": "text"
      },
      "source": [
        "<a href=\"https://colab.research.google.com/github/yrrSelena/RUL/blob/master/RUL_LSTM.ipynb\" target=\"_parent\"><img src=\"https://colab.research.google.com/assets/colab-badge.svg\" alt=\"Open In Colab\"/></a>"
      ]
    },
    {
      "cell_type": "code",
      "metadata": {
        "id": "YYwbEGijamOh",
        "colab_type": "code",
        "colab": {}
      },
      "source": [
        "!wget -q https://raw.githubusercontent.com/umbertogriffo/Predictive-Maintenance-using-LSTM/master/Dataset/PM_test.txt -O PM_test.txt \n",
        "!wget -q https://raw.githubusercontent.com/umbertogriffo/Predictive-Maintenance-using-LSTM/master/Dataset/PM_train.txt -O PM_train.txt  \n",
        "!wget -q https://raw.githubusercontent.com/umbertogriffo/Predictive-Maintenance-using-LSTM/master/Dataset/PM_truth.txt -O PM_truth.txt"
      ],
      "execution_count": 0,
      "outputs": []
    },
    {
      "cell_type": "code",
      "metadata": {
        "id": "Bu_drP4OZ-Js",
        "colab_type": "code",
        "colab": {
          "base_uri": "https://localhost:8080/",
          "height": 34
        },
        "outputId": "ff800259-cf5a-46f2-d564-7d6cac4a69ea"
      },
      "source": [
        "import keras\n",
        "import keras.backend as K\n",
        "from keras.layers.core import Activation\n",
        "from keras.models import Sequential,load_model\n",
        "from keras.layers import Dense, Dropout, LSTM\n",
        "\n",
        "import pandas as pd\n",
        "import numpy as np\n",
        "import matplotlib.pyplot as plt\n",
        "import os\n",
        "from sklearn import preprocessing"
      ],
      "execution_count": 2,
      "outputs": [
        {
          "output_type": "stream",
          "text": [
            "Using TensorFlow backend.\n"
          ],
          "name": "stderr"
        }
      ]
    },
    {
      "cell_type": "code",
      "metadata": {
        "id": "VPsX2MBTaWzf",
        "colab_type": "code",
        "colab": {}
      },
      "source": [
        "# Setting seed for reproducibility\n",
        "np.random.seed(1234)  \n",
        "PYTHONHASHSEED = 0\n",
        "\n",
        "# define path to save model\n",
        "model_path = 'LSTM_regression_model.h5'"
      ],
      "execution_count": 0,
      "outputs": []
    },
    {
      "cell_type": "code",
      "metadata": {
        "id": "lxu83I_YapMD",
        "colab_type": "code",
        "outputId": "dd265469-8000-42b5-b47d-b02b77cf291e",
        "colab": {
          "base_uri": "https://localhost:8080/",
          "height": 34
        }
      },
      "source": [
        "!ls"
      ],
      "execution_count": 0,
      "outputs": [
        {
          "output_type": "stream",
          "text": [
            "PM_test.txt  PM_train.txt  PM_truth.txt  sample_data\n"
          ],
          "name": "stdout"
        }
      ]
    },
    {
      "cell_type": "markdown",
      "metadata": {
        "id": "OHiBbOEHgdLf",
        "colab_type": "text"
      },
      "source": [
        "# 数据读取"
      ]
    },
    {
      "cell_type": "code",
      "metadata": {
        "id": "69Yld6Gyar4r",
        "colab_type": "code",
        "colab": {}
      },
      "source": [
        "# read training data - It is the aircraft engine run-to-failure data.\n",
        "train_df = pd.read_csv('PM_train.txt', sep=\" \", header=None)\n",
        "train_df.drop(train_df.columns[[26, 27]], axis=1, inplace=True)\n",
        "train_df.columns = ['id', 'cycle', 'setting1', 'setting2', 'setting3', 's1', 's2', 's3',\n",
        "                     's4', 's5', 's6', 's7', 's8', 's9', 's10', 's11', 's12', 's13', 's14',\n",
        "                     's15', 's16', 's17', 's18', 's19', 's20', 's21']\n",
        "\n",
        "train_df = train_df.sort_values(['id','cycle'])\n",
        "\n",
        "# read test data - It is the aircraft engine operating data without failure events recorded.\n",
        "test_df = pd.read_csv('PM_test.txt', sep=\" \", header=None)\n",
        "test_df.drop(test_df.columns[[26, 27]], axis=1, inplace=True)\n",
        "test_df.columns = ['id', 'cycle', 'setting1', 'setting2', 'setting3', 's1', 's2', 's3',\n",
        "                     's4', 's5', 's6', 's7', 's8', 's9', 's10', 's11', 's12', 's13', 's14',\n",
        "                     's15', 's16', 's17', 's18', 's19', 's20', 's21']\n",
        "\n",
        "# read ground truth data - It contains the information of true remaining cycles for each engine in the testing data.\n",
        "truth_df = pd.read_csv('PM_truth.txt', sep=\" \", header=None)\n",
        "truth_df.drop(truth_df.columns[[1]], axis=1, inplace=True)"
      ],
      "execution_count": 0,
      "outputs": []
    },
    {
      "cell_type": "markdown",
      "metadata": {
        "id": "s-TylEDyBHKl",
        "colab_type": "text"
      },
      "source": [
        "# 数据预处理"
      ]
    },
    {
      "cell_type": "code",
      "metadata": {
        "id": "L31zhhWJdEuu",
        "colab_type": "code",
        "colab": {}
      },
      "source": [
        "##################################\n",
        "# Data Preprocessing\n",
        "##################################\n",
        "\n",
        "#######\n",
        "# TRAIN\n",
        "#######\n",
        "# Data Labeling - generate column RUL(Remaining Usefull Life or Time to Failure)\n",
        "rul = pd.DataFrame(train_df.groupby('id')['cycle'].max()).reset_index() #添加一列作为索引"
      ],
      "execution_count": 0,
      "outputs": []
    },
    {
      "cell_type": "code",
      "metadata": {
        "id": "XGOFX-cgejpr",
        "colab_type": "code",
        "colab": {}
      },
      "source": [
        "rul.columns = ['id', 'max']\n",
        "train_df = train_df.merge(rul, on=['id'], how='left')"
      ],
      "execution_count": 0,
      "outputs": []
    },
    {
      "cell_type": "code",
      "metadata": {
        "id": "Kjnlrc5OevK0",
        "colab_type": "code",
        "colab": {}
      },
      "source": [
        "train_df['RUL'] = train_df['max'] - train_df['cycle']\n",
        "train_df.drop('max', axis=1, inplace=True)"
      ],
      "execution_count": 0,
      "outputs": []
    },
    {
      "cell_type": "code",
      "metadata": {
        "id": "R7RYcCwwe1D1",
        "colab_type": "code",
        "outputId": "c030aea6-7df9-40bc-a738-6765a79a4fc0",
        "colab": {
          "base_uri": "https://localhost:8080/",
          "height": 224
        }
      },
      "source": [
        "train_df.head()"
      ],
      "execution_count": 0,
      "outputs": [
        {
          "output_type": "execute_result",
          "data": {
            "text/html": [
              "<div>\n",
              "<style scoped>\n",
              "    .dataframe tbody tr th:only-of-type {\n",
              "        vertical-align: middle;\n",
              "    }\n",
              "\n",
              "    .dataframe tbody tr th {\n",
              "        vertical-align: top;\n",
              "    }\n",
              "\n",
              "    .dataframe thead th {\n",
              "        text-align: right;\n",
              "    }\n",
              "</style>\n",
              "<table border=\"1\" class=\"dataframe\">\n",
              "  <thead>\n",
              "    <tr style=\"text-align: right;\">\n",
              "      <th></th>\n",
              "      <th>id</th>\n",
              "      <th>cycle</th>\n",
              "      <th>setting1</th>\n",
              "      <th>setting2</th>\n",
              "      <th>setting3</th>\n",
              "      <th>s1</th>\n",
              "      <th>s2</th>\n",
              "      <th>s3</th>\n",
              "      <th>s4</th>\n",
              "      <th>s5</th>\n",
              "      <th>s6</th>\n",
              "      <th>s7</th>\n",
              "      <th>s8</th>\n",
              "      <th>s9</th>\n",
              "      <th>s10</th>\n",
              "      <th>s11</th>\n",
              "      <th>s12</th>\n",
              "      <th>s13</th>\n",
              "      <th>s14</th>\n",
              "      <th>s15</th>\n",
              "      <th>s16</th>\n",
              "      <th>s17</th>\n",
              "      <th>s18</th>\n",
              "      <th>s19</th>\n",
              "      <th>s20</th>\n",
              "      <th>s21</th>\n",
              "      <th>RUL</th>\n",
              "    </tr>\n",
              "  </thead>\n",
              "  <tbody>\n",
              "    <tr>\n",
              "      <th>0</th>\n",
              "      <td>1</td>\n",
              "      <td>1</td>\n",
              "      <td>-0.0007</td>\n",
              "      <td>-0.0004</td>\n",
              "      <td>100.0</td>\n",
              "      <td>518.67</td>\n",
              "      <td>641.82</td>\n",
              "      <td>1589.70</td>\n",
              "      <td>1400.60</td>\n",
              "      <td>14.62</td>\n",
              "      <td>21.61</td>\n",
              "      <td>554.36</td>\n",
              "      <td>2388.06</td>\n",
              "      <td>9046.19</td>\n",
              "      <td>1.3</td>\n",
              "      <td>47.47</td>\n",
              "      <td>521.66</td>\n",
              "      <td>2388.02</td>\n",
              "      <td>8138.62</td>\n",
              "      <td>8.4195</td>\n",
              "      <td>0.03</td>\n",
              "      <td>392</td>\n",
              "      <td>2388</td>\n",
              "      <td>100.0</td>\n",
              "      <td>39.06</td>\n",
              "      <td>23.4190</td>\n",
              "      <td>191</td>\n",
              "    </tr>\n",
              "    <tr>\n",
              "      <th>1</th>\n",
              "      <td>1</td>\n",
              "      <td>2</td>\n",
              "      <td>0.0019</td>\n",
              "      <td>-0.0003</td>\n",
              "      <td>100.0</td>\n",
              "      <td>518.67</td>\n",
              "      <td>642.15</td>\n",
              "      <td>1591.82</td>\n",
              "      <td>1403.14</td>\n",
              "      <td>14.62</td>\n",
              "      <td>21.61</td>\n",
              "      <td>553.75</td>\n",
              "      <td>2388.04</td>\n",
              "      <td>9044.07</td>\n",
              "      <td>1.3</td>\n",
              "      <td>47.49</td>\n",
              "      <td>522.28</td>\n",
              "      <td>2388.07</td>\n",
              "      <td>8131.49</td>\n",
              "      <td>8.4318</td>\n",
              "      <td>0.03</td>\n",
              "      <td>392</td>\n",
              "      <td>2388</td>\n",
              "      <td>100.0</td>\n",
              "      <td>39.00</td>\n",
              "      <td>23.4236</td>\n",
              "      <td>190</td>\n",
              "    </tr>\n",
              "    <tr>\n",
              "      <th>2</th>\n",
              "      <td>1</td>\n",
              "      <td>3</td>\n",
              "      <td>-0.0043</td>\n",
              "      <td>0.0003</td>\n",
              "      <td>100.0</td>\n",
              "      <td>518.67</td>\n",
              "      <td>642.35</td>\n",
              "      <td>1587.99</td>\n",
              "      <td>1404.20</td>\n",
              "      <td>14.62</td>\n",
              "      <td>21.61</td>\n",
              "      <td>554.26</td>\n",
              "      <td>2388.08</td>\n",
              "      <td>9052.94</td>\n",
              "      <td>1.3</td>\n",
              "      <td>47.27</td>\n",
              "      <td>522.42</td>\n",
              "      <td>2388.03</td>\n",
              "      <td>8133.23</td>\n",
              "      <td>8.4178</td>\n",
              "      <td>0.03</td>\n",
              "      <td>390</td>\n",
              "      <td>2388</td>\n",
              "      <td>100.0</td>\n",
              "      <td>38.95</td>\n",
              "      <td>23.3442</td>\n",
              "      <td>189</td>\n",
              "    </tr>\n",
              "    <tr>\n",
              "      <th>3</th>\n",
              "      <td>1</td>\n",
              "      <td>4</td>\n",
              "      <td>0.0007</td>\n",
              "      <td>0.0000</td>\n",
              "      <td>100.0</td>\n",
              "      <td>518.67</td>\n",
              "      <td>642.35</td>\n",
              "      <td>1582.79</td>\n",
              "      <td>1401.87</td>\n",
              "      <td>14.62</td>\n",
              "      <td>21.61</td>\n",
              "      <td>554.45</td>\n",
              "      <td>2388.11</td>\n",
              "      <td>9049.48</td>\n",
              "      <td>1.3</td>\n",
              "      <td>47.13</td>\n",
              "      <td>522.86</td>\n",
              "      <td>2388.08</td>\n",
              "      <td>8133.83</td>\n",
              "      <td>8.3682</td>\n",
              "      <td>0.03</td>\n",
              "      <td>392</td>\n",
              "      <td>2388</td>\n",
              "      <td>100.0</td>\n",
              "      <td>38.88</td>\n",
              "      <td>23.3739</td>\n",
              "      <td>188</td>\n",
              "    </tr>\n",
              "    <tr>\n",
              "      <th>4</th>\n",
              "      <td>1</td>\n",
              "      <td>5</td>\n",
              "      <td>-0.0019</td>\n",
              "      <td>-0.0002</td>\n",
              "      <td>100.0</td>\n",
              "      <td>518.67</td>\n",
              "      <td>642.37</td>\n",
              "      <td>1582.85</td>\n",
              "      <td>1406.22</td>\n",
              "      <td>14.62</td>\n",
              "      <td>21.61</td>\n",
              "      <td>554.00</td>\n",
              "      <td>2388.06</td>\n",
              "      <td>9055.15</td>\n",
              "      <td>1.3</td>\n",
              "      <td>47.28</td>\n",
              "      <td>522.19</td>\n",
              "      <td>2388.04</td>\n",
              "      <td>8133.80</td>\n",
              "      <td>8.4294</td>\n",
              "      <td>0.03</td>\n",
              "      <td>393</td>\n",
              "      <td>2388</td>\n",
              "      <td>100.0</td>\n",
              "      <td>38.90</td>\n",
              "      <td>23.4044</td>\n",
              "      <td>187</td>\n",
              "    </tr>\n",
              "  </tbody>\n",
              "</table>\n",
              "</div>"
            ],
            "text/plain": [
              "   id  cycle  setting1  setting2  setting3  ...   s18    s19    s20      s21  RUL\n",
              "0   1      1   -0.0007   -0.0004     100.0  ...  2388  100.0  39.06  23.4190  191\n",
              "1   1      2    0.0019   -0.0003     100.0  ...  2388  100.0  39.00  23.4236  190\n",
              "2   1      3   -0.0043    0.0003     100.0  ...  2388  100.0  38.95  23.3442  189\n",
              "3   1      4    0.0007    0.0000     100.0  ...  2388  100.0  38.88  23.3739  188\n",
              "4   1      5   -0.0019   -0.0002     100.0  ...  2388  100.0  38.90  23.4044  187\n",
              "\n",
              "[5 rows x 27 columns]"
            ]
          },
          "metadata": {
            "tags": []
          },
          "execution_count": 20
        }
      ]
    },
    {
      "cell_type": "markdown",
      "metadata": {
        "id": "rkMO16l5g8QH",
        "colab_type": "text"
      },
      "source": [
        "df.columns.difference(['id'])表示不包含‘id’列的其它所有列名"
      ]
    },
    {
      "cell_type": "code",
      "metadata": {
        "id": "5ei5-5ZLe6HZ",
        "colab_type": "code",
        "colab": {
          "base_uri": "https://localhost:8080/",
          "height": 85
        },
        "outputId": "3b6cb217-b334-4f56-c793-a6246702ce44"
      },
      "source": [
        "train_df.columns.difference(['id','cycle','RUL'])"
      ],
      "execution_count": 8,
      "outputs": [
        {
          "output_type": "execute_result",
          "data": {
            "text/plain": [
              "Index(['s1', 's10', 's11', 's12', 's13', 's14', 's15', 's16', 's17', 's18',\n",
              "       's19', 's2', 's20', 's21', 's3', 's4', 's5', 's6', 's7', 's8', 's9',\n",
              "       'setting1', 'setting2', 'setting3'],\n",
              "      dtype='object')"
            ]
          },
          "metadata": {
            "tags": []
          },
          "execution_count": 8
        }
      ]
    },
    {
      "cell_type": "markdown",
      "metadata": {
        "id": "rEVXW-8fgRxt",
        "colab_type": "text"
      },
      "source": [
        "发动机的运行周期也可以作为特征"
      ]
    },
    {
      "cell_type": "code",
      "metadata": {
        "id": "4g_eAZtIhycG",
        "colab_type": "code",
        "colab": {}
      },
      "source": [
        "# generate label columns for training data\n",
        "# we will only make use of \"label1\" for binary classification, label1仅用于二分类问题\n",
        "# while trying to answer the question: is a specific engine going to fail within w1 cycles? \n",
        "# 用于判断当剩余寿命在w1以内时，发动机是否会失效\n",
        "\n",
        "w1 = 30  # RUL阈值\n",
        "w0 = 15  \n",
        "train_df['label1'] = np.where(train_df['RUL'] <= w1, 1, 0 ) #对于剩余寿命小于阈值w1的unit，label1记为1\n",
        "train_df['label2'] = train_df['label1']\n",
        "train_df.loc[train_df['RUL'] <= w0, 'label2'] = 2  #对于剩余寿命小于阈值w0的unit，label2记为2\n",
        "\n",
        "# MinMax normalization (from 0 to 1)\n",
        "train_df['cycle_norm'] = train_df['cycle']\n",
        "cols_normalize = train_df.columns.difference(['id','cycle','RUL','label1','label2'])\n",
        "\n",
        "# 对数据进行min-max归一化处理\n",
        "min_max_scaler = preprocessing.MinMaxScaler()\n",
        "norm_train_df = pd.DataFrame(min_max_scaler.fit_transform(train_df[cols_normalize]), \n",
        "                             columns=cols_normalize, \n",
        "                             index=train_df.index)\n",
        "join_df = train_df[train_df.columns.difference(cols_normalize)].join(norm_train_df)\n",
        "train_df = join_df.reindex(columns = train_df.columns)"
      ],
      "execution_count": 0,
      "outputs": []
    },
    {
      "cell_type": "code",
      "metadata": {
        "id": "OikZcThhijoD",
        "colab_type": "code",
        "colab": {}
      },
      "source": [
        "######\n",
        "# TEST\n",
        "######\n",
        "# MinMax normalization (from 0 to 1)\n",
        "test_df['cycle_norm'] = test_df['cycle']\n",
        "norm_test_df = pd.DataFrame(min_max_scaler.transform(test_df[cols_normalize]), \n",
        "                            columns=cols_normalize, \n",
        "                            index=test_df.index)\n",
        "test_join_df = test_df[test_df.columns.difference(cols_normalize)].join(norm_test_df)\n",
        "test_df = test_join_df.reindex(columns = test_df.columns)\n",
        "test_df = test_df.reset_index(drop=True)"
      ],
      "execution_count": 0,
      "outputs": []
    },
    {
      "cell_type": "code",
      "metadata": {
        "id": "scOdaIxniosf",
        "colab_type": "code",
        "colab": {}
      },
      "source": [
        "test_df.head()"
      ],
      "execution_count": 0,
      "outputs": []
    },
    {
      "cell_type": "code",
      "metadata": {
        "id": "DI3GxWT_i6Mp",
        "colab_type": "code",
        "colab": {}
      },
      "source": [
        "# We use the ground truth dataset to generate labels for the test data.\n",
        "# generate column max for test data\n",
        "rul = pd.DataFrame(test_df.groupby('id')['cycle'].max()).reset_index() \n",
        "rul.columns = ['id', 'max']\n",
        "truth_df.columns = ['more']\n",
        "truth_df['id'] = truth_df.index + 1 # 获得每个发动机的编号\n",
        "truth_df['max'] = rul['max'] + truth_df['more'] # 测试数据的生命周期=发动机的运行时间+剩余寿命\n",
        "truth_df.drop('more', axis=1, inplace=True)"
      ],
      "execution_count": 0,
      "outputs": []
    },
    {
      "cell_type": "code",
      "metadata": {
        "id": "21Fz0wAZjgfo",
        "colab_type": "code",
        "colab": {}
      },
      "source": [
        "# generate RUL for test data\n",
        "test_df = test_df.merge(truth_df, on=['id'], how='left')\n",
        "test_df['RUL'] = test_df['max'] - test_df['cycle']\n",
        "test_df.drop('max', axis=1, inplace=True)\n",
        "\n",
        "# generate label columns w0 and w1 for test data\n",
        "test_df['label1'] = np.where(test_df['RUL'] <= w1, 1, 0 )\n",
        "test_df['label2'] = test_df['label1']\n",
        "test_df.loc[test_df['RUL'] <= w0, 'label2'] = 2"
      ],
      "execution_count": 0,
      "outputs": []
    },
    {
      "cell_type": "code",
      "metadata": {
        "id": "VQeBHR9ClpZM",
        "colab_type": "code",
        "outputId": "1699dc87-f847-4323-ded7-7b28ed23eee6",
        "colab": {
          "base_uri": "https://localhost:8080/",
          "height": 34
        }
      },
      "source": [
        "train_df.shape"
      ],
      "execution_count": 0,
      "outputs": [
        {
          "output_type": "execute_result",
          "data": {
            "text/plain": [
              "(20631, 30)"
            ]
          },
          "metadata": {
            "tags": []
          },
          "execution_count": 31
        }
      ]
    },
    {
      "cell_type": "code",
      "metadata": {
        "id": "L-ohWHwWmEBN",
        "colab_type": "code",
        "outputId": "c0ea3629-569c-40cc-f7ca-d6dfc682a5cc",
        "colab": {
          "base_uri": "https://localhost:8080/",
          "height": 34
        }
      },
      "source": [
        "test_df.shape"
      ],
      "execution_count": 0,
      "outputs": [
        {
          "output_type": "execute_result",
          "data": {
            "text/plain": [
              "(13096, 30)"
            ]
          },
          "metadata": {
            "tags": []
          },
          "execution_count": 33
        }
      ]
    },
    {
      "cell_type": "markdown",
      "metadata": {
        "id": "9PmR-dJMtxRk",
        "colab_type": "text"
      },
      "source": [
        "# 生成样本特征"
      ]
    },
    {
      "cell_type": "code",
      "metadata": {
        "id": "XOfBxqOtmI2o",
        "colab_type": "code",
        "colab": {}
      },
      "source": [
        "# pick a large window size of 50 cycles\n",
        "sequence_length = 50 #设置时间窗口大小\n",
        "\n",
        "# function to reshape features into (samples, time steps, features) \n",
        "# 生成特征样本\n",
        "def gen_sequence(id_df, seq_length, seq_cols):\n",
        "    \"\"\" Only sequences that meet the window-length are considered, no padding is used. This means for testing\n",
        "    we need to drop those which are below the window-length. An alternative would be to pad sequences so that\n",
        "    we can use shorter ones \n",
        "    只有比时间窗口大的序列会被提取特征，若测试样本的时间序列过小，则被忽视。\n",
        "    另一种方法是对序列进行填充\n",
        "    \"\"\"\n",
        "    # for one id I put all the rows in a single matrix\n",
        "    data_matrix = id_df[seq_cols].values # 获得对应列的值\n",
        "    num_elements = data_matrix.shape[0]\n",
        "    # Iterate over two lists in parallel.\n",
        "    # For example id1 have 192 rows and sequence_length is equal to 50\n",
        "    # so zip iterate over two following list of numbers (0,142),(50,192)\n",
        "    # 0 50 -> from row 0 to row 50\n",
        "    # 1 51 -> from row 1 to row 51\n",
        "    # 2 52 -> from row 2 to row 52\n",
        "    # ...\n",
        "    # 141 191 -> from row 141 to 191\n",
        "    \n",
        "    # zip将数据打包为元组的列表\n",
        "    for start, stop in zip(range(0, num_elements-seq_length), range(seq_length, num_elements)):\n",
        "        yield data_matrix[start:stop, :] #yield 相当于返回\n",
        "        "
      ],
      "execution_count": 0,
      "outputs": []
    },
    {
      "cell_type": "code",
      "metadata": {
        "id": "2k4s2o4JoMFJ",
        "colab_type": "code",
        "colab": {}
      },
      "source": [
        "# pick the feature columns \n",
        "# 要提取的特征列名\n",
        "sensor_cols = ['s' + str(i) for i in range(1,22)]\n",
        "sequence_cols = ['setting1', 'setting2', 'setting3', 'cycle_norm']\n",
        "sequence_cols.extend(sensor_cols)"
      ],
      "execution_count": 0,
      "outputs": []
    },
    {
      "cell_type": "code",
      "metadata": {
        "id": "p0yEsKFCoj0G",
        "colab_type": "code",
        "outputId": "9ba0f09b-d408-431c-90e4-154138f1600c",
        "colab": {
          "base_uri": "https://localhost:8080/",
          "height": 34
        }
      },
      "source": [
        "id_df = train_df[train_df['id']==1]\n",
        "seq_length = 50\n",
        "seq_cols = sequence_cols\n",
        "data_matrix = id_df[seq_cols].values # 获得对应列的值\n",
        "data_matrix.shape"
      ],
      "execution_count": 18,
      "outputs": [
        {
          "output_type": "execute_result",
          "data": {
            "text/plain": [
              "(192, 25)"
            ]
          },
          "metadata": {
            "tags": []
          },
          "execution_count": 18
        }
      ]
    },
    {
      "cell_type": "code",
      "metadata": {
        "id": "Q3W0CXDCobDu",
        "colab_type": "code",
        "colab": {}
      },
      "source": [
        "# TODO for debug \n",
        "# 样例测试\n",
        "# val is a list of 192 - 50 = 142 bi-dimensional array (50 rows x 25 columns)\n",
        "val=list(gen_sequence(train_df[train_df['id']==1], sequence_length, sequence_cols))\n",
        "print(len(val))"
      ],
      "execution_count": 0,
      "outputs": []
    },
    {
      "cell_type": "markdown",
      "metadata": {
        "id": "uAw-2n7SteGI",
        "colab_type": "text"
      },
      "source": [
        "train_df['id'].unique() 表示获取id列中数据不同的值"
      ]
    },
    {
      "cell_type": "code",
      "metadata": {
        "id": "BBtYE1H8sC8p",
        "colab_type": "code",
        "colab": {}
      },
      "source": [
        "# 对每个发动机生成训练样本\n",
        "# generator for the sequences\n",
        "# transform each id of the train dataset in a sequence\n",
        "seq_gen = (list(gen_sequence(train_df[train_df['id']==id], sequence_length, sequence_cols)) \n",
        "           for id in train_df['id'].unique())"
      ],
      "execution_count": 0,
      "outputs": []
    },
    {
      "cell_type": "code",
      "metadata": {
        "id": "t6tUe9W3sc7o",
        "colab_type": "code",
        "colab": {
          "base_uri": "https://localhost:8080/",
          "height": 34
        },
        "outputId": "71835d89-625a-41bd-a27d-6dc0064beda0"
      },
      "source": [
        "# generate sequences and convert to numpy array\n",
        "seq_array = np.concatenate(list(seq_gen)).astype(np.float32)\n",
        "print(seq_array.shape)"
      ],
      "execution_count": 29,
      "outputs": [
        {
          "output_type": "stream",
          "text": [
            "(15631, 50, 25)\n"
          ],
          "name": "stdout"
        }
      ]
    },
    {
      "cell_type": "markdown",
      "metadata": {
        "id": "by61WpVpstRV",
        "colab_type": "text"
      },
      "source": [
        "（样本个数，序列窗口大小，每个时间点的特征个数）\n",
        "对于每个样本而言，有50x25个特征"
      ]
    },
    {
      "cell_type": "markdown",
      "metadata": {
        "id": "Tustc_DIt2i0",
        "colab_type": "text"
      },
      "source": [
        "# 生成样本标签"
      ]
    },
    {
      "cell_type": "code",
      "metadata": {
        "id": "2fZ2Risra1e4",
        "colab_type": "code",
        "colab": {}
      },
      "source": [
        "# function to generate labels\n",
        "def gen_labels(id_df, seq_length, label):\n",
        "    \"\"\" Only sequences that meet the window-length are considered, no padding is used. This means for testing\n",
        "    we need to drop those which are below the window-length. An alternative would be to pad sequences so that\n",
        "    we can use shorter ones \"\"\"\n",
        "    # For one id I put all the labels in a single matrix.\n",
        "    # For example:\n",
        "    # [[1]\n",
        "    # [4]\n",
        "    # [1]\n",
        "    # [5]\n",
        "    # [9]\n",
        "    # ...\n",
        "    # [200]] \n",
        "    data_matrix = id_df[label].values\n",
        "    num_elements = data_matrix.shape[0]\n",
        "    # I have to remove the first seq_length labels\n",
        "    # because for one id the first sequence of seq_length size have as target\n",
        "    # the last label (the previus ones are discarded).\n",
        "    # All the next id's sequences will have associated step by step one label as target.\n",
        "    return data_matrix[seq_length:num_elements, :]"
      ],
      "execution_count": 0,
      "outputs": []
    },
    {
      "cell_type": "code",
      "metadata": {
        "id": "1k1rbTButHAY",
        "colab_type": "code",
        "colab": {
          "base_uri": "https://localhost:8080/",
          "height": 34
        },
        "outputId": "dc005281-7501-471a-e676-5a6072ffd665"
      },
      "source": [
        "# generate labels\n",
        "label_gen = [gen_labels(train_df[train_df['id']==id], sequence_length, ['RUL']) \n",
        "             for id in train_df['id'].unique()]\n",
        "\n",
        "label_array = np.concatenate(label_gen).astype(np.float32)\n",
        "label_array.shape"
      ],
      "execution_count": 31,
      "outputs": [
        {
          "output_type": "execute_result",
          "data": {
            "text/plain": [
              "(15631, 1)"
            ]
          },
          "metadata": {
            "tags": []
          },
          "execution_count": 31
        }
      ]
    },
    {
      "cell_type": "markdown",
      "metadata": {
        "id": "DrP14inmunt8",
        "colab_type": "text"
      },
      "source": [
        "# 构建深度网络LSTM"
      ]
    },
    {
      "cell_type": "code",
      "metadata": {
        "id": "c28LgOnyvoEI",
        "colab_type": "code",
        "colab": {
          "base_uri": "https://localhost:8080/",
          "height": 34
        },
        "outputId": "e0f7f472-69e8-4cb7-81fc-411cf9394fe8"
      },
      "source": [
        "seq_array.shape[2]"
      ],
      "execution_count": 34,
      "outputs": [
        {
          "output_type": "execute_result",
          "data": {
            "text/plain": [
              "25"
            ]
          },
          "metadata": {
            "tags": []
          },
          "execution_count": 34
        }
      ]
    },
    {
      "cell_type": "code",
      "metadata": {
        "id": "zVpfSWApubUJ",
        "colab_type": "code",
        "colab": {
          "base_uri": "https://localhost:8080/",
          "height": 2179
        },
        "outputId": "19195980-c9aa-4710-f7ee-869abadbd66d"
      },
      "source": [
        "def r2_keras(y_true, y_pred):\n",
        "    \"\"\"Coefficient of Determination \n",
        "    \"\"\"\n",
        "    SS_res =  K.sum(K.square( y_true - y_pred ))\n",
        "    SS_tot = K.sum(K.square( y_true - K.mean(y_true) ) )\n",
        "    return ( 1 - SS_res/(SS_tot + K.epsilon()) )\n",
        "\n",
        "# Next, we build a deep network. \n",
        "# The first layer is an LSTM layer with 100 units followed by another LSTM layer with 50 units. \n",
        "# Dropout is also applied after each LSTM layer to control overfitting. \n",
        "# 采用Dropout防止过拟合\n",
        "# Final layer is a Dense output layer with single unit and linear activation since this is a regression problem.\n",
        "# 由于此问题是回归问题，因此在最后采用单一神经元以及一个线性激活函数\n",
        "\n",
        "nb_features = seq_array.shape[2] # 特征数目：25\n",
        "nb_out = label_array.shape[1] # 输出大小：1\n",
        "\n",
        "# 定义一个sequential模型（多个网络层线性堆叠而成）\n",
        "model = Sequential()\n",
        "# 向模型中加入layer\n",
        "model.add(LSTM(\n",
        "         input_shape=(sequence_length, nb_features),#第一层需要接收一个样本数据shape的参数\n",
        "         units=100,\n",
        "         return_sequences=True))\n",
        "model.add(Dropout(0.2))\n",
        "model.add(LSTM(\n",
        "          units=50,\n",
        "          return_sequences=False))\n",
        "model.add(Dropout(0.2)) #增加一个Dropout\n",
        "model.add(Dense(units=nb_out)) #密集模块\n",
        "model.add(Activation(\"linear\")) # 线性激活函数\n",
        "# 编译模型，对model进行配置\n",
        "model.compile(loss='mean_squared_error', optimizer='rmsprop',metrics=['mae',r2_keras])\n",
        "# 采用MSE进行模型训练，采用rmsprop作为优化器，采用mae和自己定义的r2_keras进行性能评估\n",
        "\n",
        "print(model.summary())\n",
        "\n",
        "# fit the network\n",
        "# 模型训练\n",
        "history = model.fit(seq_array, label_array, epochs=100, batch_size=200, validation_split=0.05, verbose=2,\n",
        "          callbacks = [keras.callbacks.EarlyStopping(monitor='val_loss', min_delta=0, patience=10, verbose=0, mode='min'),\n",
        "                       keras.callbacks.ModelCheckpoint(model_path,monitor='val_loss', save_best_only=True, mode='min', verbose=0)]\n",
        "          )\n",
        "\n",
        "# list all data in history\n",
        "print(history.history.keys())"
      ],
      "execution_count": 36,
      "outputs": [
        {
          "output_type": "stream",
          "text": [
            "_________________________________________________________________\n",
            "Layer (type)                 Output Shape              Param #   \n",
            "=================================================================\n",
            "lstm_3 (LSTM)                (None, 50, 100)           50400     \n",
            "_________________________________________________________________\n",
            "dropout_3 (Dropout)          (None, 50, 100)           0         \n",
            "_________________________________________________________________\n",
            "lstm_4 (LSTM)                (None, 50)                30200     \n",
            "_________________________________________________________________\n",
            "dropout_4 (Dropout)          (None, 50)                0         \n",
            "_________________________________________________________________\n",
            "dense_2 (Dense)              (None, 1)                 51        \n",
            "_________________________________________________________________\n",
            "activation_2 (Activation)    (None, 1)                 0         \n",
            "=================================================================\n",
            "Total params: 80,651\n",
            "Trainable params: 80,651\n",
            "Non-trainable params: 0\n",
            "_________________________________________________________________\n",
            "None\n",
            "Train on 14849 samples, validate on 782 samples\n",
            "Epoch 1/100\n",
            " - 26s - loss: 8824.9365 - mean_absolute_error: 75.2296 - r2_keras: -1.7260e+00 - val_loss: 8266.4456 - val_mean_absolute_error: 72.5038 - val_r2_keras: -2.5062e+00\n",
            "Epoch 2/100\n",
            " - 25s - loss: 8176.7477 - mean_absolute_error: 71.4706 - r2_keras: -1.5205e+00 - val_loss: 7747.1867 - val_mean_absolute_error: 69.4853 - val_r2_keras: -2.2593e+00\n",
            "Epoch 3/100\n",
            " - 25s - loss: 7670.6885 - mean_absolute_error: 68.5620 - r2_keras: -1.3609e+00 - val_loss: 7258.4566 - val_mean_absolute_error: 66.6594 - val_r2_keras: -2.0286e+00\n",
            "Epoch 4/100\n",
            " - 25s - loss: 7191.9673 - mean_absolute_error: 65.8011 - r2_keras: -1.2144e+00 - val_loss: 6796.9491 - val_mean_absolute_error: 64.0095 - val_r2_keras: -1.8127e+00\n",
            "Epoch 5/100\n",
            " - 25s - loss: 6748.0334 - mean_absolute_error: 63.2955 - r2_keras: -1.0758e+00 - val_loss: 6364.5799 - val_mean_absolute_error: 61.5446 - val_r2_keras: -1.6123e+00\n",
            "Epoch 6/100\n",
            " - 24s - loss: 6324.7781 - mean_absolute_error: 60.9282 - r2_keras: -9.4626e-01 - val_loss: 5959.0744 - val_mean_absolute_error: 59.2508 - val_r2_keras: -1.4264e+00\n",
            "Epoch 7/100\n",
            " - 24s - loss: 5923.4107 - mean_absolute_error: 58.6878 - r2_keras: -8.2370e-01 - val_loss: 5580.9619 - val_mean_absolute_error: 57.1324 - val_r2_keras: -1.2553e+00\n",
            "Epoch 8/100\n",
            " - 25s - loss: 5562.1955 - mean_absolute_error: 56.6794 - r2_keras: -7.1143e-01 - val_loss: 5232.6922 - val_mean_absolute_error: 55.2041 - val_r2_keras: -1.1001e+00\n",
            "Epoch 9/100\n",
            " - 25s - loss: 5221.9740 - mean_absolute_error: 54.8363 - r2_keras: -6.0547e-01 - val_loss: 4910.6781 - val_mean_absolute_error: 53.4433 - val_r2_keras: -9.5910e-01\n",
            "Epoch 10/100\n",
            " - 25s - loss: 4917.3067 - mean_absolute_error: 53.2034 - r2_keras: -5.1079e-01 - val_loss: 4616.9145 - val_mean_absolute_error: 51.8614 - val_r2_keras: -8.3320e-01\n",
            "Epoch 11/100\n",
            " - 25s - loss: 4631.4408 - mean_absolute_error: 51.7341 - r2_keras: -4.2373e-01 - val_loss: 4350.8735 - val_mean_absolute_error: 50.4582 - val_r2_keras: -7.2216e-01\n",
            "Epoch 12/100\n",
            " - 25s - loss: 4381.1629 - mean_absolute_error: 50.3948 - r2_keras: -3.4521e-01 - val_loss: 4112.4820 - val_mean_absolute_error: 49.2295 - val_r2_keras: -6.2591e-01\n",
            "Epoch 13/100\n",
            " - 24s - loss: 4155.6528 - mean_absolute_error: 49.3142 - r2_keras: -2.7480e-01 - val_loss: 3901.4456 - val_mean_absolute_error: 48.1741 - val_r2_keras: -5.4431e-01\n",
            "Epoch 14/100\n",
            " - 25s - loss: 3957.1945 - mean_absolute_error: 48.3646 - r2_keras: -2.1505e-01 - val_loss: 3718.0134 - val_mean_absolute_error: 47.2957 - val_r2_keras: -4.7740e-01\n",
            "Epoch 15/100\n",
            " - 25s - loss: 3780.7349 - mean_absolute_error: 47.5333 - r2_keras: -1.6020e-01 - val_loss: 3563.1525 - val_mean_absolute_error: 46.5934 - val_r2_keras: -4.2539e-01\n",
            "Epoch 16/100\n",
            " - 25s - loss: 3628.4455 - mean_absolute_error: 46.8559 - r2_keras: -1.1320e-01 - val_loss: 3433.2973 - val_mean_absolute_error: 46.0537 - val_r2_keras: -3.8699e-01\n",
            "Epoch 17/100\n",
            " - 25s - loss: 3523.4384 - mean_absolute_error: 46.4869 - r2_keras: -8.2343e-02 - val_loss: 3332.1844 - val_mean_absolute_error: 45.6875 - val_r2_keras: -3.6306e-01\n",
            "Epoch 18/100\n",
            " - 25s - loss: 3431.6508 - mean_absolute_error: 46.2114 - r2_keras: -5.3404e-02 - val_loss: 3258.0538 - val_mean_absolute_error: 45.4819 - val_r2_keras: -3.5229e-01\n",
            "Epoch 19/100\n",
            " - 25s - loss: 3388.9874 - mean_absolute_error: 45.8202 - r2_keras: -4.0454e-02 - val_loss: 3211.6754 - val_mean_absolute_error: 45.1891 - val_r2_keras: -3.3535e-01\n",
            "Epoch 20/100\n",
            " - 25s - loss: 2963.9229 - mean_absolute_error: 41.1965 - r2_keras: 0.0924 - val_loss: 2681.1399 - val_mean_absolute_error: 38.4438 - val_r2_keras: 0.0320\n",
            "Epoch 21/100\n",
            " - 25s - loss: 2444.7312 - mean_absolute_error: 35.0367 - r2_keras: 0.2499 - val_loss: 2248.3721 - val_mean_absolute_error: 34.8248 - val_r2_keras: 0.1073\n",
            "Epoch 22/100\n",
            " - 25s - loss: 2168.7913 - mean_absolute_error: 31.7381 - r2_keras: 0.3364 - val_loss: 1940.3205 - val_mean_absolute_error: 29.4040 - val_r2_keras: 0.2857\n",
            "Epoch 23/100\n",
            " - 25s - loss: 1982.4465 - mean_absolute_error: 29.5304 - r2_keras: 0.3947 - val_loss: 1751.6990 - val_mean_absolute_error: 27.6288 - val_r2_keras: 0.3884\n",
            "Epoch 24/100\n",
            " - 25s - loss: 1821.4162 - mean_absolute_error: 27.6973 - r2_keras: 0.4421 - val_loss: 1623.9975 - val_mean_absolute_error: 25.8490 - val_r2_keras: 0.4243\n",
            "Epoch 25/100\n",
            " - 25s - loss: 1666.2379 - mean_absolute_error: 26.1514 - r2_keras: 0.4906 - val_loss: 1391.8594 - val_mean_absolute_error: 22.5935 - val_r2_keras: 0.5223\n",
            "Epoch 26/100\n",
            " - 25s - loss: 1544.7477 - mean_absolute_error: 24.9235 - r2_keras: 0.5299 - val_loss: 1369.2855 - val_mean_absolute_error: 24.4450 - val_r2_keras: 0.4915\n",
            "Epoch 27/100\n",
            " - 25s - loss: 1418.8536 - mean_absolute_error: 23.5102 - r2_keras: 0.5669 - val_loss: 1592.8293 - val_mean_absolute_error: 25.9016 - val_r2_keras: 0.4122\n",
            "Epoch 28/100\n",
            " - 25s - loss: 1329.8454 - mean_absolute_error: 22.7062 - r2_keras: 0.5942 - val_loss: 1271.6534 - val_mean_absolute_error: 21.2652 - val_r2_keras: 0.5682\n",
            "Epoch 29/100\n",
            " - 25s - loss: 1227.7059 - mean_absolute_error: 21.5077 - r2_keras: 0.6260 - val_loss: 1171.4143 - val_mean_absolute_error: 19.4661 - val_r2_keras: 0.5921\n",
            "Epoch 30/100\n",
            " - 25s - loss: 1172.3587 - mean_absolute_error: 21.0940 - r2_keras: 0.6424 - val_loss: 965.1460 - val_mean_absolute_error: 18.9822 - val_r2_keras: 0.6726\n",
            "Epoch 31/100\n",
            " - 24s - loss: 1082.4121 - mean_absolute_error: 20.0094 - r2_keras: 0.6695 - val_loss: 998.5658 - val_mean_absolute_error: 19.9739 - val_r2_keras: 0.6333\n",
            "Epoch 32/100\n",
            " - 24s - loss: 1020.9926 - mean_absolute_error: 19.4079 - r2_keras: 0.6892 - val_loss: 879.7204 - val_mean_absolute_error: 18.4625 - val_r2_keras: 0.6879\n",
            "Epoch 33/100\n",
            " - 24s - loss: 965.6060 - mean_absolute_error: 18.9701 - r2_keras: 0.7054 - val_loss: 945.2996 - val_mean_absolute_error: 17.4938 - val_r2_keras: 0.6815\n",
            "Epoch 34/100\n",
            " - 24s - loss: 918.9810 - mean_absolute_error: 18.4105 - r2_keras: 0.7202 - val_loss: 929.1031 - val_mean_absolute_error: 18.8921 - val_r2_keras: 0.6759\n",
            "Epoch 35/100\n",
            " - 25s - loss: 883.5441 - mean_absolute_error: 18.2014 - r2_keras: 0.7301 - val_loss: 1203.8578 - val_mean_absolute_error: 21.2234 - val_r2_keras: 0.5815\n",
            "Epoch 36/100\n",
            " - 24s - loss: 830.0799 - mean_absolute_error: 17.6677 - r2_keras: 0.7455 - val_loss: 1089.4849 - val_mean_absolute_error: 19.4692 - val_r2_keras: 0.6249\n",
            "Epoch 37/100\n",
            " - 25s - loss: 814.1422 - mean_absolute_error: 17.4572 - r2_keras: 0.7526 - val_loss: 1215.6692 - val_mean_absolute_error: 21.7934 - val_r2_keras: 0.5688\n",
            "Epoch 38/100\n",
            " - 25s - loss: 784.6817 - mean_absolute_error: 17.1829 - r2_keras: 0.7609 - val_loss: 729.7623 - val_mean_absolute_error: 16.7835 - val_r2_keras: 0.7079\n",
            "Epoch 39/100\n",
            " - 24s - loss: 749.0871 - mean_absolute_error: 17.0001 - r2_keras: 0.7706 - val_loss: 1085.2325 - val_mean_absolute_error: 19.6024 - val_r2_keras: 0.6349\n",
            "Epoch 40/100\n",
            " - 25s - loss: 727.9904 - mean_absolute_error: 16.7298 - r2_keras: 0.7783 - val_loss: 879.8001 - val_mean_absolute_error: 18.9663 - val_r2_keras: 0.6612\n",
            "Epoch 41/100\n",
            " - 24s - loss: 705.6008 - mean_absolute_error: 16.4662 - r2_keras: 0.7844 - val_loss: 763.2227 - val_mean_absolute_error: 15.8173 - val_r2_keras: 0.7290\n",
            "Epoch 42/100\n",
            " - 25s - loss: 690.8779 - mean_absolute_error: 16.3315 - r2_keras: 0.7893 - val_loss: 679.3393 - val_mean_absolute_error: 16.0935 - val_r2_keras: 0.7200\n",
            "Epoch 43/100\n",
            " - 25s - loss: 666.3223 - mean_absolute_error: 16.1357 - r2_keras: 0.7968 - val_loss: 693.3517 - val_mean_absolute_error: 17.3791 - val_r2_keras: 0.7167\n",
            "Epoch 44/100\n",
            " - 24s - loss: 653.9811 - mean_absolute_error: 15.9651 - r2_keras: 0.8001 - val_loss: 876.5182 - val_mean_absolute_error: 21.7372 - val_r2_keras: 0.5818\n",
            "Epoch 45/100\n",
            " - 24s - loss: 630.2959 - mean_absolute_error: 15.7527 - r2_keras: 0.8068 - val_loss: 804.3283 - val_mean_absolute_error: 19.8173 - val_r2_keras: 0.6519\n",
            "Epoch 46/100\n",
            " - 25s - loss: 624.1313 - mean_absolute_error: 15.5650 - r2_keras: 0.8096 - val_loss: 702.9995 - val_mean_absolute_error: 16.5238 - val_r2_keras: 0.7432\n",
            "Epoch 47/100\n",
            " - 25s - loss: 603.3135 - mean_absolute_error: 15.3768 - r2_keras: 0.8160 - val_loss: 702.5158 - val_mean_absolute_error: 16.9900 - val_r2_keras: 0.6447\n",
            "Epoch 48/100\n",
            " - 25s - loss: 586.3073 - mean_absolute_error: 15.1908 - r2_keras: 0.8206 - val_loss: 1046.2199 - val_mean_absolute_error: 24.3682 - val_r2_keras: 0.4646\n",
            "Epoch 49/100\n",
            " - 25s - loss: 576.5395 - mean_absolute_error: 15.0887 - r2_keras: 0.8235 - val_loss: 704.6219 - val_mean_absolute_error: 17.3672 - val_r2_keras: 0.6377\n",
            "Epoch 50/100\n",
            " - 24s - loss: 558.2763 - mean_absolute_error: 14.7724 - r2_keras: 0.8297 - val_loss: 883.5324 - val_mean_absolute_error: 19.6436 - val_r2_keras: 0.5929\n",
            "Epoch 51/100\n",
            " - 24s - loss: 550.9231 - mean_absolute_error: 14.8564 - r2_keras: 0.8314 - val_loss: 807.3095 - val_mean_absolute_error: 19.3166 - val_r2_keras: 0.6673\n",
            "Epoch 52/100\n",
            " - 25s - loss: 535.6136 - mean_absolute_error: 14.5190 - r2_keras: 0.8359 - val_loss: 857.5447 - val_mean_absolute_error: 18.6199 - val_r2_keras: 0.5286\n",
            "dict_keys(['val_loss', 'val_mean_absolute_error', 'val_r2_keras', 'loss', 'mean_absolute_error', 'r2_keras'])\n"
          ],
          "name": "stdout"
        }
      ]
    },
    {
      "cell_type": "code",
      "metadata": {
        "id": "JM0ZoPxNx7Hk",
        "colab_type": "code",
        "colab": {
          "base_uri": "https://localhost:8080/",
          "height": 621
        },
        "outputId": "eadf78a7-21f5-4343-9040-c1a8a1483652"
      },
      "source": [
        "# summarize history for R^2\n",
        "fig_acc = plt.figure(figsize=(10, 10))\n",
        "plt.plot(history.history['r2_keras'])\n",
        "plt.plot(history.history['val_r2_keras'])\n",
        "plt.title('model r^2')\n",
        "plt.ylabel('R^2')\n",
        "plt.xlabel('epoch')\n",
        "plt.legend(['train', 'test'], loc='upper left')\n",
        "plt.show()\n",
        "fig_acc.savefig(\"model_r2.png\")"
      ],
      "execution_count": 37,
      "outputs": [
        {
          "output_type": "display_data",
          "data": {
            "image/png": "[encoded data removed]",
            "text/plain": [
              "<Figure size 720x720 with 1 Axes>"
            ]
          },
          "metadata": {
            "tags": []
          }
        }
      ]
    },
    {
      "cell_type": "code",
      "metadata": {
        "id": "zLkOBJbTE0WC",
        "colab_type": "code",
        "colab": {
          "base_uri": "https://localhost:8080/",
          "height": 621
        },
        "outputId": "295b609f-371e-4202-e496-2d0831d0452c"
      },
      "source": [
        "# summarize history for MAE\n",
        "fig_acc = plt.figure(figsize=(10, 10))\n",
        "plt.plot(history.history['mean_absolute_error'])\n",
        "plt.plot(history.history['val_mean_absolute_error'])\n",
        "plt.title('model MAE')\n",
        "plt.ylabel('MAE')\n",
        "plt.xlabel('epoch')\n",
        "plt.legend(['train', 'test'], loc='upper left')\n",
        "plt.show()\n",
        "fig_acc.savefig(\"model_mae.png\")"
      ],
      "execution_count": 38,
      "outputs": [
        {
          "output_type": "display_data",
          "data": {
            "image/png": "[encoded data removed]",
            "text/plain": [
              "<Figure size 720x720 with 1 Axes>"
            ]
          },
          "metadata": {
            "tags": []
          }
        }
      ]
    },
    {
      "cell_type": "code",
      "metadata": {
        "id": "Q1Js2vGYFAho",
        "colab_type": "code",
        "colab": {
          "base_uri": "https://localhost:8080/",
          "height": 621
        },
        "outputId": "f4f6de96-1078-470a-9dc0-b1fd473eb7c9"
      },
      "source": [
        "# summarize history for Loss\n",
        "fig_acc = plt.figure(figsize=(10, 10))\n",
        "plt.plot(history.history['loss'])\n",
        "plt.plot(history.history['val_loss'])\n",
        "plt.title('model loss')\n",
        "plt.ylabel('loss')\n",
        "plt.xlabel('epoch')\n",
        "plt.legend(['train', 'test'], loc='upper left')\n",
        "plt.show()\n",
        "fig_acc.savefig(\"model_regression_loss.png\")"
      ],
      "execution_count": 39,
      "outputs": [
        {
          "output_type": "display_data",
          "data": {
            "image/png": "[encoded data removed]",
            "text/plain": [
              "<Figure size 720x720 with 1 Axes>"
            ]
          },
          "metadata": {
            "tags": []
          }
        }
      ]
    },
    {
      "cell_type": "code",
      "metadata": {
        "id": "7pn1CasKFENw",
        "colab_type": "code",
        "colab": {
          "base_uri": "https://localhost:8080/",
          "height": 119
        },
        "outputId": "1c5ae0a4-68f2-49c2-ea14-02812a4616eb"
      },
      "source": [
        "# training metrics\n",
        "scores = model.evaluate(seq_array, label_array, verbose=1, batch_size=200)\n",
        "print('\\nMAE: {}'.format(scores[1]))\n",
        "print('\\nR^2: {}'.format(scores[2]))\n",
        "\n",
        "y_pred = model.predict(seq_array,verbose=1, batch_size=200)\n",
        "y_true = label_array\n",
        "\n",
        "test_set = pd.DataFrame(y_pred)\n",
        "test_set.to_csv('submit_train.csv', index = None)"
      ],
      "execution_count": 40,
      "outputs": [
        {
          "output_type": "stream",
          "text": [
            "15631/15631 [==============================] - 7s 468us/step\n",
            "\n",
            "MAE: 13.402883123096185\n",
            "\n",
            "R^2: 0.8214518192877399\n",
            "15631/15631 [==============================] - 7s 476us/step\n"
          ],
          "name": "stdout"
        }
      ]
    },
    {
      "cell_type": "code",
      "metadata": {
        "id": "Aj9_Xr8oG6rY",
        "colab_type": "code",
        "colab": {}
      },
      "source": [
        "from sklearn.metrics import mean_squared_error,mean_absolute_error,r2_score"
      ],
      "execution_count": 0,
      "outputs": []
    },
    {
      "cell_type": "code",
      "metadata": {
        "id": "xv0djKClIh4K",
        "colab_type": "code",
        "colab": {}
      },
      "source": [
        "def RHS_score(y_pred, y_true):\n",
        "  delta = y_pred-y_true\n",
        "  s1 = np.exp(-delta[delta<0]/13)-1\n",
        "  s2 = np.exp(delta[delta>=0]/10)-1\n",
        "  rhs = (np.sum(s1)+np.sum(s2))/len(delta)\n",
        "  return rhs"
      ],
      "execution_count": 0,
      "outputs": []
    },
    {
      "cell_type": "code",
      "metadata": {
        "id": "ZJS_ZuP-FFZQ",
        "colab_type": "code",
        "colab": {}
      },
      "source": [
        "delta = y_pred-y_true"
      ],
      "execution_count": 0,
      "outputs": []
    },
    {
      "cell_type": "code",
      "metadata": {
        "id": "W7BMaFscGGVG",
        "colab_type": "code",
        "colab": {
          "base_uri": "https://localhost:8080/",
          "height": 102
        },
        "outputId": "d77efd3a-3b02-4681-ef3a-b2e421ea3824"
      },
      "source": [
        "mse_test = np.sum((y_pred - y_true)**2)/len(y_true)\n",
        "rmse_test = mse_test**0.5\n",
        "mae_test = np.sum(np.absolute(y_pred - y_true))/len(y_true)\n",
        "r2 = 1 - mse_test/np.var(y_true)\n",
        "rhs = RHS_score(y_pred,y_true)\n",
        "print('mes:',mse_test)\n",
        "print('rmse:',rmse_test)\n",
        "print('mae:',mae_test)\n",
        "print('r2:',r2)\n",
        "print('rhs:',rhs)"
      ],
      "execution_count": 69,
      "outputs": [
        {
          "output_type": "stream",
          "text": [
            "mes: 480.5576098778069\n",
            "rmse: 21.92162425272833\n",
            "mae: 13.40288329281556\n",
            "r2: 0.8528251948633007\n",
            "rhs: 116.48729287953427\n"
          ],
          "name": "stdout"
        }
      ]
    },
    {
      "cell_type": "code",
      "metadata": {
        "id": "A24lnnBlVEIb",
        "colab_type": "code",
        "colab": {}
      },
      "source": [
        "model.save(model_path)"
      ],
      "execution_count": 0,
      "outputs": []
    },
    {
      "cell_type": "code",
      "metadata": {
        "id": "iSEkYSViVJCk",
        "colab_type": "code",
        "colab": {}
      },
      "source": [
        "m1 = load_model(model_path,custom_objects={'r2_keras': r2_keras})"
      ],
      "execution_count": 0,
      "outputs": []
    },
    {
      "cell_type": "code",
      "metadata": {
        "id": "XBADN_pZVarx",
        "colab_type": "code",
        "colab": {
          "base_uri": "https://localhost:8080/",
          "height": 102
        },
        "outputId": "ea2e66ad-463b-485e-e974-a2e3fb53a6fd"
      },
      "source": [
        "scores = m1.evaluate(seq_array, label_array, verbose=1, batch_size=200)\n",
        "print('\\nMAE: {}'.format(scores[1]))\n",
        "print('\\nR^2: {}'.format(scores[2]))"
      ],
      "execution_count": 74,
      "outputs": [
        {
          "output_type": "stream",
          "text": [
            "15631/15631 [==============================] - 8s 497us/step\n",
            "\n",
            "MAE: 13.402883123096185\n",
            "\n",
            "R^2: 0.8214518192877399\n"
          ],
          "name": "stdout"
        }
      ]
    },
    {
      "cell_type": "code",
      "metadata": {
        "id": "GzXliydnWGy-",
        "colab_type": "code",
        "colab": {}
      },
      "source": [
        ""
      ],
      "execution_count": 0,
      "outputs": []
    }
  ]
}